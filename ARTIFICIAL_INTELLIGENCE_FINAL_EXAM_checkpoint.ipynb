{
  "cells": [
    {
      "cell_type": "markdown",
      "metadata": {
        "id": "EemUQvJkWoO3"
      },
      "source": [
        "# WALTER M NYAMUTAMBA\n",
        "# REG: R206226E\n",
        "# CODE: HDSC204"
      ]
    },
    {
      "cell_type": "markdown",
      "metadata": {
        "id": "lgqgmDe0WoQ4"
      },
      "source": [
        "# Question One"
      ]
    },
    {
      "cell_type": "code",
      "source": [
        "from google.colab import drive\n",
        "drive.mount(\"/content/drive\")"
      ],
      "metadata": {
        "colab": {
          "base_uri": "https://localhost:8080/"
        },
        "id": "VQFJGgjpW_Tg",
        "outputId": "6c638891-2306-410b-8248-ebff3ab63402"
      },
      "execution_count": null,
      "outputs": [
        {
          "output_type": "stream",
          "name": "stdout",
          "text": [
            "Drive already mounted at /content/drive; to attempt to forcibly remount, call drive.mount(\"/content/drive\", force_remount=True).\n"
          ]
        }
      ]
    },
    {
      "cell_type": "code",
      "execution_count": null,
      "metadata": {
        "id": "LLBWU8okWoQ6"
      },
      "outputs": [],
      "source": [
        "# Import Libraries"
      ]
    },
    {
      "cell_type": "code",
      "execution_count": null,
      "metadata": {
        "id": "ialxXvm2WoRA"
      },
      "outputs": [],
      "source": [
        "import pandas as pd\n",
        "from sklearn.feature_extraction.text import TfidfVectorizer\n",
        "from sklearn.cluster import KMeans\n",
        "from sklearn.metrics import adjusted_rand_score\n",
        "import seaborn as sns\n",
        "import matplotlib.pyplot as plt"
      ]
    },
    {
      "cell_type": "code",
      "execution_count": null,
      "metadata": {
        "id": "oLj7B16RWoRC"
      },
      "outputs": [],
      "source": [
        "# raeding our dataset\n",
        "df = pd.read_csv('/content/drive/My Drive/Colab Notebooks/description.csv',encoding='latin-1')"
      ]
    },
    {
      "cell_type": "code",
      "execution_count": null,
      "metadata": {
        "colab": {
          "base_uri": "https://localhost:8080/",
          "height": 206
        },
        "id": "YDHY8BjHWoRG",
        "outputId": "8458bc3f-5d6b-4114-878d-d01dd6c3c6bc"
      },
      "outputs": [
        {
          "output_type": "execute_result",
          "data": {
            "text/html": [
              "<div>\n",
              "<style scoped>\n",
              "    .dataframe tbody tr th:only-of-type {\n",
              "        vertical-align: middle;\n",
              "    }\n",
              "\n",
              "    .dataframe tbody tr th {\n",
              "        vertical-align: top;\n",
              "    }\n",
              "\n",
              "    .dataframe thead th {\n",
              "        text-align: right;\n",
              "    }\n",
              "</style>\n",
              "<table border=\"1\" class=\"dataframe\">\n",
              "  <thead>\n",
              "    <tr style=\"text-align: right;\">\n",
              "      <th></th>\n",
              "      <th>book_id</th>\n",
              "      <th>name</th>\n",
              "      <th>description</th>\n",
              "    </tr>\n",
              "  </thead>\n",
              "  <tbody>\n",
              "    <tr>\n",
              "      <th>0</th>\n",
              "      <td>4833.0</td>\n",
              "      <td>The Glass Castle</td>\n",
              "      <td>A tender, moving tale of unconditional love in...</td>\n",
              "    </tr>\n",
              "    <tr>\n",
              "      <th>1</th>\n",
              "      <td>590.0</td>\n",
              "      <td>Night (The Night Trilogy, #1)</td>\n",
              "      <td>Born into a Jewish ghetto in Hungary, as a chi...</td>\n",
              "    </tr>\n",
              "    <tr>\n",
              "      <th>2</th>\n",
              "      <td>4264.0</td>\n",
              "      <td>Angela's Ashes (Frank McCourt, #1)</td>\n",
              "      <td>Imbued on every page with Frank McCourt's asto...</td>\n",
              "    </tr>\n",
              "    <tr>\n",
              "      <th>3</th>\n",
              "      <td>3361.0</td>\n",
              "      <td>Eat, Pray, Love</td>\n",
              "      <td>A celebrated writer's irresistible, candid, an...</td>\n",
              "    </tr>\n",
              "    <tr>\n",
              "      <th>4</th>\n",
              "      <td>4535.0</td>\n",
              "      <td>Into Thin Air: A Personal Account of the Mount...</td>\n",
              "      <td>A bank of clouds was assembling on the not-so-...</td>\n",
              "    </tr>\n",
              "  </tbody>\n",
              "</table>\n",
              "</div>"
            ],
            "text/plain": [
              "   book_id  ...                                        description\n",
              "0   4833.0  ...  A tender, moving tale of unconditional love in...\n",
              "1    590.0  ...  Born into a Jewish ghetto in Hungary, as a chi...\n",
              "2   4264.0  ...  Imbued on every page with Frank McCourt's asto...\n",
              "3   3361.0  ...  A celebrated writer's irresistible, candid, an...\n",
              "4   4535.0  ...  A bank of clouds was assembling on the not-so-...\n",
              "\n",
              "[5 rows x 3 columns]"
            ]
          },
          "metadata": {},
          "execution_count": 5
        }
      ],
      "source": [
        "# reading head of the dataset\n",
        "df.head()"
      ]
    },
    {
      "cell_type": "code",
      "execution_count": null,
      "metadata": {
        "colab": {
          "base_uri": "https://localhost:8080/"
        },
        "id": "DDbuPCyxWoRa",
        "outputId": "cc3f04f2-fbcc-4755-afcf-b4cc9ae4d863"
      },
      "outputs": [
        {
          "output_type": "stream",
          "name": "stdout",
          "text": [
            "<class 'pandas.core.frame.DataFrame'>\n",
            "RangeIndex: 143 entries, 0 to 142\n",
            "Data columns (total 3 columns):\n",
            " #   Column       Non-Null Count  Dtype  \n",
            "---  ------       --------------  -----  \n",
            " 0   book_id      136 non-null    float64\n",
            " 1   name         123 non-null    object \n",
            " 2   description  122 non-null    object \n",
            "dtypes: float64(1), object(2)\n",
            "memory usage: 3.5+ KB\n"
          ]
        }
      ],
      "source": [
        "df.info()"
      ]
    },
    {
      "cell_type": "markdown",
      "metadata": {
        "id": "wHVh9bnkWoRe"
      },
      "source": [
        "# column book_id, name,description has missing values 7, 20, 21 respectively we have to fill missing values since machine learining models dont work well the data with missing values"
      ]
    },
    {
      "cell_type": "code",
      "execution_count": null,
      "metadata": {
        "colab": {
          "base_uri": "https://localhost:8080/"
        },
        "id": "ImGF9SQjWoRf",
        "outputId": "79975d4f-b30d-439a-fd7a-cf56644f0f0c"
      },
      "outputs": [
        {
          "output_type": "execute_result",
          "data": {
            "text/plain": [
              "book_id         7\n",
              "name           20\n",
              "description    21\n",
              "dtype: int64"
            ]
          },
          "metadata": {},
          "execution_count": 7
        }
      ],
      "source": [
        "# view number of missing values in each column\n",
        "df.isnull().sum()"
      ]
    },
    {
      "cell_type": "code",
      "execution_count": null,
      "metadata": {
        "id": "Uu0RlxynWoRh"
      },
      "outputs": [],
      "source": [
        "# filling missing values with forwad fill method\n",
        "df.fillna(method = 'ffill',inplace=True)"
      ]
    },
    {
      "cell_type": "code",
      "execution_count": null,
      "metadata": {
        "colab": {
          "base_uri": "https://localhost:8080/"
        },
        "id": "yG-sIfEbWoRi",
        "outputId": "1df57f63-0a76-4333-e373-d56b0d27eb69"
      },
      "outputs": [
        {
          "output_type": "stream",
          "name": "stdout",
          "text": [
            "<class 'pandas.core.frame.DataFrame'>\n",
            "RangeIndex: 143 entries, 0 to 142\n",
            "Data columns (total 3 columns):\n",
            " #   Column       Non-Null Count  Dtype  \n",
            "---  ------       --------------  -----  \n",
            " 0   book_id      143 non-null    float64\n",
            " 1   name         143 non-null    object \n",
            " 2   description  143 non-null    object \n",
            "dtypes: float64(1), object(2)\n",
            "memory usage: 3.5+ KB\n"
          ]
        }
      ],
      "source": [
        "df.info()"
      ]
    },
    {
      "cell_type": "code",
      "execution_count": null,
      "metadata": {
        "id": "tBxL52lnWoRk"
      },
      "outputs": [],
      "source": [
        "books = df.iloc[:,-1].values.astype('U')\n"
      ]
    },
    {
      "cell_type": "code",
      "execution_count": null,
      "metadata": {
        "colab": {
          "base_uri": "https://localhost:8080/"
        },
        "id": "IUaGv1IRWoRp",
        "outputId": "b8ff68fe-b4a6-4b75-fc7f-0fe4cf5245a1"
      },
      "outputs": [
        {
          "output_type": "execute_result",
          "data": {
            "text/plain": [
              "array(['A tender, moving tale of unconditional love in a family that, despite its profound flaws, gave the author the fiery determination to carve out a successful life on her own terms.\\nJeannette Walls grew up with parents whose ideals and stubborn nonconformity were both their curse and their salvation. Rex and Rose Mary Walls had four children. In the beginning, they lived like nomads, moving among Southwest desert towns, camping in the mountains. Rex was a charismatic, brilliant man who, when sober, captured his children\\'s imagination, teaching them physics, geology, and above all, how to embrace life fearlessly. Rose Mary, who painted and wrote and couldn\\'t stand the responsibility of providing for her family, called herself an \"excitement addict.\" Cooking a meal that would be consumed in fifteen minutes had no appeal when she could make a painting that might last forever. \\nLater, when the money ran out, or the romance of the wandering life faded, the Walls retreated to the dismal West Virginia mining town -- and the family -- Rex Walls had done everything he could to escape. He drank. He stole the grocery money and disappeared for days. As the dysfunction of the family escalated, Jeannette and her brother and sisters had to fend for themselves, supporting one another as they weathered their parents\\' betrayals and, finally, found the resources and will to leave home. \\nWhat is so astonishing about Jeannette Walls is not just that she had the guts and tenacity and intelligence to get out, but that she describes her parents with such deep affection and generosity. Hers is a story of triumph against all odds, but also a tender, moving tale of unconditional love in a family that despite its profound flaws gave her the fiery determination to carve out a successful life on her own terms. \\nFor two decades, Jeannette Walls hid her roots. Now she tells her own story. ',\n",
              "       \"Born into a Jewish ghetto in Hungary, as a child, Elie Wiesel was sent to the Nazi concentration camps at Auschwitz and Buchenwald. This is his account of that atrocity: the ever-increasing horrors he endured, the loss of his family and his struggle to survive in a world that stripped him of humanity, dignity and faith. Describing in simple terms the tragic murder of a people from a survivor's perspective, Night is among the most personal, intimate and poignant of all accounts of the Holocaust. A compelling consideration of the darkest side of human nature and the enduring power of hope, it remains one of the most important works of the twentieth century.\",\n",
              "       'Imbued on every page with Frank McCourt\\'s astounding humor and compassion. This is a glorious book that bears all the marks of a classic.\\n\\n\"When I look back on my childhood I wonder how I managed to survive at all. It was, of course, a miserable childhood: the happy childhood is hardly worth your while. Worse than the ordinary miserable childhood is the miserable Irish childhood, and worse yet is the miserable Irish Catholic childhood.\" \\n\\nSo begins the Pulitzer Prize winning memoir of Frank McCourt, born in Depression-era Brooklyn to recent Irish immigrants and raised in the slums of Limerick, Ireland. Frank\\'s mother, Angela, has no money to feed the children since Frank\\'s father, Malachy, rarely works, and when he does he drinks his wages. Yet Malachy-- exasperating, irresponsible and beguiling-- does nurture in Frank an appetite for the one thing he can provide: a story. Frank lives for his father\\'s tales of Cuchulain, who saved Ireland, and of the Angel on the Seventh Step, who brings his mother babies. \\n\\nPerhaps it is story that accounts for Frank\\'s survival. Wearing rags for diapers, begging a pig\\'s head for Christmas dinner and gathering coal from the roadside to light a fire, Frank endures poverty, near-starvation and the casual cruelty of relatives and neighbors--yet lives to tell his tale with eloquence, exuberance and remarkable forgiveness. \\n\\nAngela\\'s Ashes, imbued on every page with Frank McCourt\\'s astounding humor and compassion, is a glorious book that bears all the marks of a classic.',\n",
              "       \"A celebrated writer's irresistible, candid, and eloquent account of her pursuit of worldly pleasure, spiritual devotion, and what she really wanted out of life. \\n\\nAround the time Elizabeth Gilbert turned thirty, she went through an early-onslaught midlife crisis. She had everything an educated, ambitious American woman was supposed to want\\x97a husband, a house, a successful career. But instead of feeling happy and fulfilled, she was consumed with panic, grief, and confusion. She went through a divorce, a crushing depression, another failed love, and the eradication of everything she ever thought she was supposed to be. \\n\\nTo recover from all this, Gilbert took a radical step. In order to give herself the time and space to find out who she really was and what she really wanted, she got rid of her belongings, quit her job, and undertook a yearlong journey around the world\\x97all alone. Eat, Pray, Love is the absorbing chronicle of that year. Her aim was to visit three places where she could examine one aspect of her own nature set against the backdrop of a culture that has traditionally done that one thing very well. In Rome, she studied the art of pleasure, learning to speak Italian and gaining the twenty-three happiest pounds of her life. India was for the art of devotion, and with the help of a native guru and a surprisingly wise cowboy from Texas, she embarked on four uninterrupted months of spiritual exploration. In Bali, she studied the art of balance between worldly enjoyment and divine transcendence. She became the pupil of an elderly medicine man and also fell in love the best way\\x97unexpectedly. \\n\\nAn intensely articulate and moving memoir of self-discovery, Eat, Pray, Love is about what can happen when you claim responsibility for your own contentment and stop trying to live in imitation of society\\x92s ideals. It is certain to touch anyone who has ever woken up to the unrelenting need for change\",\n",
              "       'A bank of clouds was assembling on the not-so-distant horizon, but journalist-mountaineer Jon Krakauer, standing on the summit of Mt. Everest, saw nothing that \"suggested that a murderous storm was bearing down.\" He was wrong. The storm, which claimed five lives and left countless more--including Krakauer\\'s--in guilt-ridden disarray, would also provide the impetus for Into Thin Air, Krakauer\\'s epic account of the May 1996 disaster.',\n",
              "       \"Maybe it was a grandparent, or a teacher or a colleague. Someone older, patient and wise, who understood you when you were young and searching, and gave you sound advice to help you make your way through it. For Mitch Albom, that person was Morrie Schwartz, his college professor from nearly twenty years ago.\\n\\nMaybe, like Mitch, you lost track of this mentor as you made your way, and the insights faded. Wouldn't you like to see that person again, ask the bigger questions that still haunt you? \\n\\nMitch Albom had that second chance. He rediscovered Morrie in the last months of the older man's life. Knowing he was dying of ALS - or motor neurone disease - Mitch visited Morrie in his study every Tuesday, just as they used to back in college. Their rekindled relationship turned into one final 'class': lessons in how to live.\",\n",
              "       'The true story of an outlaw childhood where rules were unheard of, the Christmas tree stayed up all year round, Valium was consumed like candy, and if things got dull an electroshock-therapy machine could provide entertainment.\\n\\nRunning with Scissors is the true story of a boy whose mother (a poet with delusions of Anne Sexton) gave him away to be raised by her unorthodox psychiatrist who bore a striking resemblance to Santa Claus. So at the age of twelve, Burroughs found himself amidst Victorian squalor living with the doctor\\x92s bizarre family, and befriending a pedophile who resided in the backyard shed. The story of an outlaw childhood where rules were unheard of, and the Christmas tree stayed up all year round, where Valium was consumed like candy, and if things got dull an electroshock- therapy machine could provide entertainment. The funny, harrowing and bestselling account of an ordinary boy\\x92s survival under the most extraordinary circumstances.',\n",
              "       'In April 1992 a young man from a well-to-do family hitchhiked to Alaska and walked alone into the wilderness north of Mt. McKinley. His name was Christopher Johnson McCandless. He had given $25,000 in savings to charity, abandoned his car and most of his possessions, burned all the cash in his wallet, and invented a new life for himself. Four months later, a party of moose hunters found his decomposed body. How McCandless came to die is the unforgettable story of Into the Wild.\\n\\nImmediately after graduating from college in 1991, McCandless had roamed through the West and Southwest on a vision quest like those made by his heroes Jack London and John Muir. In the Mojave Desert he abandoned his car, stripped it of its license plates, and burned all of his cash. He would give himself a new name, Alexander Supertramp, and, unencumbered by money and belongings, he would be free to wallow in the raw, unfiltered experiences that nature presented. Craving a blank spot on the map, McCandless simply threw away the maps. Leaving behind his desperate parents and sister, he vanished into the wild. ',\n",
              "       'Sent by their mother to live with their devout, self-sufficient grandmother in a small Southern town, Maya and her brother, Bailey, endure the ache of abandonment and the prejudice of the local \"powhitetrash.\" At eight years old and back at her mother\\x92s side in St. Louis, Maya is attacked by a man many times her age\\x97and has to live with the consequences for a lifetime. Years later, in San Francisco, Maya learns that love for herself, the kindness of others, her own strong spirit, and the ideas of great authors (\"I met and fell in love with William Shakespeare\") will allow her to be free instead of imprisoned.\\n\\nPoetic and powerful, I Know Why the Caged Bird Sings will touch hearts and change minds for as long as people read.',\n",
              "       'This book chronicles the unforgettable account of one of the most severe child abuse cases in California history. It is the story of Dave Pelzer, who was brutally beaten and starved by his emotionally unstable, alcoholic mother: a mother who played tortuous, unpredictable games--games that left him nearly dead. He had to learn how to play his mother\\'s games in order to survive because she no longer considered him a son, but a slave; and no longer a boy, but an \"it.\" Dave\\'s bed was an old army cot in the basement, and his clothes were torn and raunchy. When his mother allowed him the luxury of food, it was nothing more than spoiled scraps that even the dogs refused to eat. The outside world knew nothing of his living nightmare. He had nothing or no one to turn to, but his dreams kept him alive--dreams of someone taking care of him, loving him and calling him their son.',\n",
              "       \"Perhaps if Joe and Vicky had known what relocating to a tiny village, tucked in the Alpujarra mountains, would really be like, they might have hesitated... They have no idea of the culture shock in store. No idea they will become reluctant chicken farmers and own the most dangerous cockerel in Spain. No idea they will be befriended by an 85 year old spliff-smoking sex-kitten or rescued by a mule. Life is never dull as they embark on their Five Year Plan. At the end of five years they must decide. Will they stay, or return to the relative sanity of England? Vicky and Joe's story is packed with irreverent humour, animals, eccentric characters and sunshine. 'Chickens, Mules and Two Old Fools' was awarded the HarperCollins Authonomy 'Gold Star' in November 2008. 'laugh-out-loud funny...especially the Spanish women heckling over eggs from the The English...hilarious...engaging...the interspersion of recipes is charming' HarperCollins 'This is wonderful. I have tears in my eyes...the humour, the warmth, the joy...I love this book...the two of you sitting on the sofa in that dusty street listening to Spanish tunes on the crackly radio. What a sight you must have been...' Aleck Loker, author of 18 books including 'Ancient Explorers of America'. 'I love the relaxed writing style and easy humour of this. Great stuff!' Denny Gillan, author of 'Will You Love Me Tomorrow'. 'Victoria Twead is a natural storyteller with a knack for charm and wit.' Robin Bayley, author of 'The Mango Orchard'.\",\n",
              "       'Wise, funny, and heartbreaking, Persepolis is Marjane Satrapi\\x92s memoir of growing up in Iran during the Islamic Revolution. In powerful black-and-white comic strip images, Satrapi tells the story of her life in Tehran from ages six to fourteen, years that saw the overthrow of the Shah\\x92s regime, the triumph of the Islamic Revolution, and the devastating effects of war with Iraq. The intelligent and outspoken only child of committed Marxists and the great-granddaughter of one of Iran\\x92s last emperors, Marjane bears witness to a childhood uniquely entwined with the history of her country.\\n\\nPersepolis paints an unforgettable portrait of daily life in Iran and of the bewildering contradictions between home life and public life. Marjane\\x92s child\\x92s-eye view of dethroned emperors, state-sanctioned whippings, and heroes of the revolution allows us to learn as she does the history of this fascinating country and of her own extraordinary family. Intensely personal, profoundly political, and wholly original, Persepolis is at once a story of growing up and a reminder of the human cost of war and political repression. It shows how we carry on, with laughter and tears, in the face of absurdity. And, finally, it introduces us to an irresistible little girl with whom we cannot help but fall in love.',\n",
              "       'Through a life of passion and struggle, Malcolm X became one of the most influential figures of the 20th Century. In this riveting account, he tells of his journey from a prison cell to Mecca, describing his transition from hoodlum to Muslim minister. Here, the man who called himself \"the angriest Black man in America\" relates how his conversion to true Islam helped him confront his rage and recognize the brotherhood of all mankind. \\nAn established classic of modern America, \"The Autobiography of Malcolm X\" was hailed by the New York Times as \"Extraordinary. A brilliant, painful, important book.\" Still extraordinary, still important, this electrifying story has transformed Malcom X\\'s life into his legacy. The strength of his words, the power of his ideas continue to resonate more than a generation after they first appeared. ',\n",
              "       'At one time Corrie ten Boom would have laughed at the idea that there would ever be a story to tell. For the first fifty years of her life nothing at all out of the ordinary had ever happened to her. She was an old-maid watchmaker living contentedly with her spinster sister and their elderly father in the tiny Dutch house over their shop. Their uneventful days, as regulated as their own watches, revolved around their abiding love for one another. However, with the Nazi invasion and occupation of Holland, a story did ensue. \\n\\nCorrie ten Boom and her family became leaders in the Dutch Underground, hiding Jewish people in their home in a specially built room and aiding their escape from the Nazis. For their help, all but Corrie found death in a concentration camp. The Hiding Place is their story.',\n",
              "       \"Delve into the magical, unforgettable world of James Herriot, the world's most beloved veterinarian, and his menagerie of heartwarming, funny, and tragic animal patients.\\n\\nFor over forty years, generations of readers have thrilled to Herriot's marvelous tales, deep love of life, and extraordinary storytelling abilities. For decades, Herriot roamed the remote, beautiful Yorkshire Dales, treating every patient that came his way from smallest to largest, and observing animals and humans alike with his keen, loving eye.\\n\\nIn All Creatures Great and Small, we meet the young Herriot as he takes up his calling and discovers that the realities of veterinary practice in rural Yorkshire are very different from the sterile setting of veterinary school. Some visits are heart-wrenchingly difficult, such as one to an old man in the village whose very ill dog is his only friend and companion, some are lighthearted and fun, such as Herriot's periodic visits to the overfed and pampered Pekinese Tricki Woo who throws parties and has his own stationery, and yet others are inspirational and enlightening, such as Herriot's recollections of poor farmers who will scrape their meager earnings together to be able to get proper care for their working animals. From seeing to his patients in the depths of winter on the remotest homesteads to dealing with uncooperative owners and critically ill animals, Herriot discovers the wondrous variety and never-ending challenges of veterinary practice as his humor, compassion, and love of the animal world shine forth.\",\n",
              "       \"Augustine's Confessions is one of the most influential and most innovative works of Latin literature. Written in the author's early forties in the last years of the fourth century A.D. and during his first years as a bishop, they reflect on his life and on the activity of remembering and interpreting a life. Books I-IV are concerned with infancy and learning to talk, schooldays, sexual desire and adolescent rebellion, intense friendships and intellectual exploration. Augustine evolves and analyses his past with all the resources of the reading which shaped his mind: Virgil and Cicero, Neoplatonism and the Bible. This volume, which aims to be usable by students who are new to Augustine, alerts readers to the verbal echoes and allusions of Augustine's brilliant and varied Latin, and explains his theological and philosophical questioning of what God is and what it is to be human. The edition is intended for use by students and scholars of Latin literature, theology and Church history.\",\n",
              "       \"David Sedaris' move to Paris from New York inspired these hilarious pieces, including the title essay, about his attempts to learn French from a sadistic teacher who declares that every day spent with you is like having a caesarean section. His family is another inspiration. You Can't Kill the Rooster is a portrait of his brother, who talks incessant hip-hop slang to his bewildered father. And no one hones a finer fury in response to such modern annoyances as restaurant meals presented in ludicrous towers of food and cashiers with six-inch fingernails.\",\n",
              "       'John and Jenny were just beginning their life together. They were young and in love, with a perfect little house and not a care in the world. Then they brought home Marley, a wiggly yellow furball of a puppy. Life would never be the same.\\n\\nMarley quickly grew into a barreling, ninety-seven-pound streamroller of a Labrador retriever, a dog like no other. He crashed through screen doors, gouged through drywall, flung drool on guests, stole women\\'s undergarments, and ate nearly everything he could get his mouth around, including couches and fine jewelry. Obedience school did no good\\x97Marley was expelled. Neither did the tranquilizers the veterinarian prescribed for him with the admonishment, \"Don\\'t hesitate to use these.\"\\n\\nAnd yet Marley\\'s heart was pure. Just as he joyfully refused any limits on his behavior, his love and loyalty were boundless, too. Marley shared the couple\\'s joy at their first pregnancy, and their heartbreak over the miscarriage. He was there when babies finally arrived and when the screams of a seventeen-year-old stabbing victim pierced the night. Marley shut down a public beach and managed to land a role in a feature-length movie, always winning hearts as he made a mess of things. Through it all, he remained steadfast, a model of devotion, even when his family was at its wit\\'s end. Unconditional love, they would learn, comes in many forms.',\n",
              "       'The enthralling, often surprising story of John Adams, one of the most important and fascinating Americans who ever lived.\\n\\nIn this powerful, epic biography, David McCullough unfolds the adventurous life-journey of John Adams, the brilliant, fiercely independent, often irascible, always honest Yankee patriot -- \"the colossus of independence,\" as Thomas Jefferson called him -- who spared nothing in his zeal for the American Revolution; who rose to become the second President of the United States and saved the country from blundering into an unnecessary war; who was learned beyond all but a few and regarded by some as \"out of his senses\"; and whose marriage to the wise and valiant Abigail Adams is one of the moving love stories in American history. ',\n",
              "       'Psychiatrist Viktor Frankl\\'s memoir has riveted generations of readers with its descriptions of life in Nazi death camps and its lessons for spiritual survival. Between 1942 and 1945 Frankl labored in four different camps, including Auschwitz, while his parents, brother, and pregnant wife perished. Based on his own experience and the experiences of others he treated later in his practice, Frankl argues that we cannot avoid suffering but we can choose how to cope with it, find meaning in it, and move forward with renewed purpose. Frankl\\'s theory-known as logotherapy, from the Greek word logos (\"meaning\")-holds that our primary drive in life is not pleasure, as Freud maintained, but the discovery and pursuit of what we personally find meaningful.\\n\\nAt the time of Frankl\\'s death in 1997, Man\\'s Search for Meaning had sold more than 10 million copies in twenty-four languages. A 1991 reader survey for the Library of Congress that asked readers to name a \"book that made a difference in your life\" found Man\\'s Search for Meaning among the ten most influential books in America.',\n",
              "       \"A story of a Jewish survivor of Hitler's Europe and his son, a cartoonist who tries to come to terms with his father's story and history itself.\",\n",
              "       'The story of three generations in twentieth-century China that blends the intimacy of memoir and the panoramic sweep of eyewitness history\\x97a bestselling classic in thirty languages with more than ten million copies sold around the world, now with a new introduction from the author.\\n\\nAn engrossing record of Mao\\x92s impact on China, an unusual window on the female experience in the modern world, and an inspiring tale of courage and love, Jung Chang describes the extraordinary lives and experiences of her family members: her grandmother, a warlord\\x92s concubine; her mother\\x92s struggles as a young idealistic Communist; and her parents\\x92 experience as members of the Communist elite and their ordeal during the Cultural Revolution. Chang was a Red Guard briefly at the age of fourteen, then worked as a peasant, a \\x93barefoot doctor,\\x94 a steelworker, and an electrician. As the story of each generation unfolds, Chang captures in gripping, moving\\x97and ultimately uplifting\\x97detail the cycles of violent drama visited on her own family and millions of others caught in the whirlwind of history.',\n",
              "       'The devastating story of war through the eyes of a child soldier. Beah tells how, at the age of twelve, he fled attacking rebels and wandered a land rendered unrecognizable by violence. By thirteen, he\\x92d been picked up by the government army, and became a soldier.\\n\\nMy new friends have begun to suspect I haven\\x92t told them the full story of my life.\\n\\x93Why did you leave Sierra Leone?\\x94 \\x93Because there is a war.\\x94 \\x93You mean, you saw people running around with guns and shooting each other?\\x94 \\x93Yes, all the time.\\x94 \\x93Cool.\\x94 I smile a little. \\x93You should tell us about it sometime.\\x94 \\x93Yes, sometime.\\x94 \\n\\nThis is how wars are fought now: by children, hopped-up on drugs and wielding AK-47s. Children have become soldiers of choice. In the more than fifty conflicts going on worldwide, it is estimated that there are some 300,000 child soldiers. Ishmael Beah used to be one of them. \\n\\nWhat is war like through the eyes of a child soldier? How does one become a killer? How does one stop? Child soldiers have been profiled by journalists, and novelists have struggled to imagine their lives. But until now, there has not been a first-person account from someone who came through this hell and survived.\\n\\nIn A Long Way Gone, Beah, now twenty-five years old, tells a riveting story: how at the age of twelve, he fled attacking rebels and wandered a land rendered unrecognizable by violence. By thirteen, he\\x92d been picked up by the government army, and Beah, at heart a gentle boy, found that he was capable of truly terrible acts. \\n\\nThis is a rare and mesmerizing account, told with real literary force and heartbreaking honesty.',\n",
              "       'The devastating story of war through the eyes of a child soldier. Beah tells how, at the age of twelve, he fled attacking rebels and wandered a land rendered unrecognizable by violence. By thirteen, he\\x92d been picked up by the government army, and became a soldier.\\n\\nMy new friends have begun to suspect I haven\\x92t told them the full story of my life.\\n\\x93Why did you leave Sierra Leone?\\x94 \\x93Because there is a war.\\x94 \\x93You mean, you saw people running around with guns and shooting each other?\\x94 \\x93Yes, all the time.\\x94 \\x93Cool.\\x94 I smile a little. \\x93You should tell us about it sometime.\\x94 \\x93Yes, sometime.\\x94 \\n\\nThis is how wars are fought now: by children, hopped-up on drugs and wielding AK-47s. Children have become soldiers of choice. In the more than fifty conflicts going on worldwide, it is estimated that there are some 300,000 child soldiers. Ishmael Beah used to be one of them. \\n\\nWhat is war like through the eyes of a child soldier? How does one become a killer? How does one stop? Child soldiers have been profiled by journalists, and novelists have struggled to imagine their lives. But until now, there has not been a first-person account from someone who came through this hell and survived.\\n\\nIn A Long Way Gone, Beah, now twenty-five years old, tells a riveting story: how at the age of twelve, he fled attacking rebels and wandered a land rendered unrecognizable by violence. By thirteen, he\\x92d been picked up by the government army, and Beah, at heart a gentle boy, found that he was capable of truly terrible acts. \\n\\nThis is a rare and mesmerizing account, told with real literary force and heartbreaking honesty.',\n",
              "       'Based on the extraordinary final lecture by Carnegie Mellon University professor Randy Pausch, given after he discovered he had pancreatic cancer, this moving book goes beyond the now-famous lecture to inspire readers to live each day with purpose and joy. Photos of Randy and his family and friends are included.',\n",
              "       \"One of the century's greatest philosophers, without whom there would be no Sartre, no Foucault, no Frankfurt School, Martin Heidegger was also a man of great failures and flaws, a Faustus who made a pact with the devil of his time, Adolf Hitler. The story of Heidegger's life and philosophy, a quintessentially German story in which good and evil, brilliance and blindness are inextricably entwined and the passions and disasters of a whole century come into play, is told in this brilliant biography.\\n\\nHeidegger grew up in Catholic Germany where, for a chance at pursuing a life of learning, he pledged himself to the priesthood. Soon he turned apostate and sought a university position, which set him on the path to becoming the star of German philosophy in the 1920s. RUdiger Safranski chronicles Heidegger's rise along with the thought he honed on the way, with its debt to Heraclitus, Plato, and Kant, and its tragic susceptibility to the conservatism that emerged out of the nightmare of Germany's loss in World War I. A chronicle of ideas and of personal commitments and betrayals, Safranski's biography combines clear accounts of the philosophy that won Heidegger eternal renown with the fascinating details of the loves and lapses that tripped up this powerful intellectual.\\n\\nThe best intellectual biography of Heidegger ever written and a best-seller in Germany, Martin Heidegger: Between Good and Evil does not shy away from full coverage of Heidegger's shameful transformation into a propagandist for the National Socialist regime; nor does it allow this aspect of his career to obscure his accomplishments. Written by a master of Heidegger's philosophy, the book is one of the best introductions to the thought and to the life and times of the greatest German philosopher of the century.\",\n",
              "       'One of today\\x92s most admired and controversial political figures, Ayaan Hirsi Ali burst into international headlines following the murder of Theo van Gogh by an Islamist who threatened that she would be next. She made headlines again when she was stripped of her citizenship and resigned from the Dutch Parliament.\\n\\nInfidel shows the coming of age of this distinguished political superstar and champion of free speech as well as the development of her beliefs, iron will, and extraordinary determination to fight injustice. Raised in a strict Muslim family, Hirsi Ali survived civil war, female mutilation, brutal beatings, adolescence as a devout believer during the rise of the Muslim Brotherhood, and life in four troubled, unstable countries ruled largely by despots. She escaped from a forced marriage and sought asylum in the Netherlands, where she earned a college degree in political science, tried to help her tragically depressed sister adjust to the West, and fought for the rights of Muslim women and the reform of Islam as a member of Parliament. Under constant threat, demonized by reactionary Islamists and politicians, disowned by her father, and expelled from family and clan, she refuses to be silenced.\\n\\nUltimately a celebration of triumph over adversity, Hirsi Ali\\x92s story tells how a bright little girl evolves out of dutiful obedience to become an outspoken, pioneering freedom fighter. As Western governments struggle to balance democratic ideals with religious pressures, no other book could be more timely or more significant.',\n",
              "       'Before Liz Lemon, before \"Weekend Update,\" before \"Sarah Palin,\" Tina Fey was just a young girl with a dream: a recurring stress dream that she was being chased through a local airport by her middle-school gym teacher. She also had a dream that one day she would be a comedian on TV.\\n\\nShe has seen both these dreams come true.\\n\\nAt last, Tina Fey\\'s story can be told. From her youthful days as a vicious nerd to her tour of duty on Saturday Night Live; from her passionately halfhearted pursuit of physical beauty to her life as a mother eating things off the floor; from her one-sided college romance to her nearly fatal honeymoon\\x97from the beginning of this paragraph to this final sentence.\\n\\nTina Fey reveals all, and proves what we\\'ve all suspected: you\\'re no one until someone calls you bossy.',\n",
              "       'At twenty-two, Cheryl Strayed thought she had lost everything. In the wake of her mother\\x92s death, her family scattered and her own marriage was soon destroyed. Four years later, with nothing more to lose, she made the most impulsive decision of her life. With no experience or training, driven only by blind will, she would hike more than a thousand miles of the Pacific Crest Trail from the Mojave Desert through California and Oregon to Washington State \\x97 and she would do it alone.\\nTold with suspense and style, sparkling with warmth and humor, Wild powerfully captures the terrors and pleasures of one young woman forging ahead against all odds on a journey that maddened, strengthened, and ultimately healed her.',\n",
              "       \"Anne Frank's extraordinary diary, written in the Amsterdam attic where she and her family hid from the Nazis for two years, has become a world classic and a timeless testament to the human spirit. Now, in a new edition enriched by many passages originally withheld by her father, we meet an Anne more real, more human, and more vital than ever. Here she is first and foremost a teenage girl\\x97stubbornly honest, touchingly vulnerable, in love with life. She imparts her deeply secret world of soul-searching and hungering for affection, rebellious clashes with her mother, romance and newly discovered sexuality, and wry, candid observations of her companions. Facing hunger, fear of discovery and death, and the petty frustrations of such confined quarters, Anne writes with adult wisdom and views beyond her years. Her story is that of every teenager, lived out in conditions few teenagers have ever known.\",\n",
              "       'This is a comprehensive and definitive resource on oral and maxillofacial surgery. More than 300 authorities examine the full scope of the field including orthognathic surgery, trauma surgery, surgical pathology, cosmetic surgery, and reconstructive surgery.',\n",
              "       \"This edition of Barron's GRE manual reflects recent Graduate Record Exams and presents six full-length model exams with all questions answered and explained. Tests are similar to recent actual GREs in length, question types, and degree of difficulty. The manual also reviews all GRE test topics: antonym, analogy, and sentence-completion questions, reading comprehension, analytical writing, quantitative comparison questions, data interpretation, and math.\",\n",
              "       'Written by the gifted author, editor, and dance critic Robert Gottlieb, George Balanchine describes the life and art of the celebrated, revolutionary ballet choreographer. Here is a necessary and singular look at the life of one of the great figures of the 20th Century: the dynamic Balanchine, founder of The New York City Ballet, collaborator of Stravinsky, and inspiration to countless fans over the course of his long and storied career. George Balanchine is another engaging entry in the HarperCollins\\x92 \\x93Eminent Lives\\x94 series of biographies by distinguished authors on canonical figures.',\n",
              "       '\"The lessons in Kedushat Levi were not originally intended as intellectual curiosities or as demonstrations of R. Levi Yitzhak\\'s brilliance. They were meant to inspire religious passion and deeper spiritual practice. I believe that these teachings will come to life in us when we bring them into our lives in practice.\"\\n\\n\\x97from the Introduction\\n\\nThe soul yearns to feel connected to something greater and to know happiness despite personal suffering and seemingly endless need. Surprisingly, the perspectives of the late eighteenth- and nineteenth-century Hasidic spiritual teachers offer a radically different Jewish theology that speaks directly to today\\x92s spiritual seekers whose faith has been shattered by both modernity and the Holocaust. These masters taught of interdependence, interconnectedness, selflessness, service and joy, anticipating the insights of contemporary science and twenty-first-century spirituality.\\n\\nBringing together the teachings of beloved Hasidic master Rabbi Levi Yitzhak of Berdichev (1740\\x961809) and the practice of mindfulness meditation, Rabbi Jonathan P. Slater reveals a new entrance into Jewish spiritual life. Covering the Five Books of Moses, these two volumes present accessible translations of selections from Kedushat Levi, R. Levi Yitzhak\\x92s Hasidic Torah commentary, which emphasizes our spiritual capacity to transform consciousness and so our life experience. The selections are paired with Rabbi Slater\\x92s commentaries to illuminate their message.',\n",
              "       'This text is a comprehensive, stand alone reference for project management scheduling. It features a unique combination of principles/fundamentals of scheduling and project management along with practical applications and tutorials of the 4 most common scheduling software programs\\x96Microsoft Project, Primavera Project Planner (P3), SureTrak, P6 Project Manager and Contractor. Having scheduling information and software instructions in one book obviates the need for two texts, and the exercises and examples in the scheduling portion are tied to the same exercises in the software portions.',\n",
              "       'Literature is a conversation \\x97 between writers and other writers, and between writers and readers. In Literature and Its Writers, Ann and Samuel Charters complement a rich and varied selection of stories, poems, and plays with an unparalleled array of commentaries about that literature by the writers themselves. Such \"writer talk\" inspires students to respond as it models ways for them to enter the conversation. In the sixth edition, the Charters continue to entice students to join the conversation, with adventurous and intriguing new literary works, more detailed coverage of literary elements, and more help with reading and writing.',\n",
              "       \"Drawing on her personal relationship with Markham and interviews with many of her contemporaries, Lovell recounts Markham's tempestuous private life--a life filled with unabated romance and adventure lived out over three continents. 50 photographs.\",\n",
              "       \"This book provides an easily accessible introduction to quantum field theory via Feynman rules and calculations in particle physics. The aim is to make clear what the physical foundations of present-day field theory are, to clarify the physical content of Feynman rules. The book begins with a brief review of some aspects of Einstein's theory of relativity that are of particular importance for field theory, before going on to consider the relativistic quantum mechanics of free particles, interacting fields, and particles with spin. The techniques learnt in the chapters are then demonstrated in examples that might be encountered in real accelerator physics. Further chapters contain discussions of renormalization, massive and massless vector fields and unitarity. A final chapter presents concluding arguments concerning quantum electrodynamics. The book includes valuable appendices that review some essential mathematics, including complex spaces, matrices, the CBH equation, traces and dimensional regularization. An appendix containing a comprehensive summary of the rules and conventions used is followed by an appendix specifying the full Lagrangian of the Standard Model and the corresponding Feynman rules. To make the book useful for a wide audience a final appendix provides a discussion of the metric used, and an easy-to-use dictionary connecting equations written with different metrics. Written as a textbook, many diagrams, exercises and examples are included. This book will be used by beginning graduate students taking courses in particle physics or quantum field theory, as well as by researchers as a source and reference book on Feynman diagrams and rules.\",\n",
              "       'Available for the first time from Church Publishing, this complete, large-print edition of the 1979 Book of Common Prayer (BCP) is ideal for anyone who prefers reading larger type. The large-print BCP presents the certified Standard Book of Common Prayer and Administration of the Sacraments and Other Rites and Ceremonies of the Church together with The Psalter or Psalms of David according to use in the Episcopal Church in the United States authorized in 1979. Special features include highly readable 14-point-type size, kivar cover for long-lasting quality, and lay-flat binding for versatile hands-free use. Designed for use in pews or for personal devotion, the large-print BCP is a perfect gift book. This large print version matches the same pagination as the regular print BCP.The larger size of the book makes it a useful volume for clergy and others who read from the lectern.',\n",
              "       \"This powerful middle-grade novel from the Newbery Honor author of Rules explores a friendship between a small-town girl and the daughter of migrant workers. When Lily's blind dog, Lucky, slips his collar and runs away across the wide-open blueberry barrens of eastern Maine, it's Salma Santiago who manages to catch him. Salma, the daughter of migrant workers, is in the small town with her family for the blueberry-picking season. After their initial chance meeting, Salma and Lily bond over painting bee boxes for Lily's grandfather, and Salma's friendship transforms Lily's summer. But when Salma decides to run in the upcoming Blueberry Queen pageant, they'll have to face some tough truths about friendship and belonging. Should an outsider like Salma really participate in the pageant\\x97and possibly win? Set amongst the blueberry barrens and by the sea, this is a gorgeous new novel by Newbery Honor author Cynthia Lord that tackles themes of prejudice and friendship, loss and love.\",\n",
              "       'Determine if your relationship with food is a problem, develop scientifically based strategies to change unhealthy patterns, and learn when and how to get professional help when needed with this inviting, hopeful guide.\\n\\nMillions of men and women struggle with disordered eating. Some stand at the mirror wondering how they can face the day when they look so fat. Others binge, purge, or exercise compulsively. Many skip meals, go on diet after diet, or cut out entire food groups. Still, they are never thin enough.\\n\\nWhile 1 in 200 adults have experienced full-blown anorexia, at least 1 in 20 (1 in 10 teen girls!) have exhibited some key symptoms. Many suffer from the effects but never address the issue because they don\\x92t fully meet the diagnostic criteria. If this is the case for you, then you may be \\x93almost anorexic.\\x94 Drawing on case studies and the latest research, Almost Anorexic combines a psychologist\\x92s clinical experience with a patient\\x92s personal recovery story to help readers understand and overcome almost anorexia.\\n\\nDetermine if your (or your loved one\\x92s) relationship with food is a problem\\nGain insight on how to intervene with a loved one\\nDiscover scientifically proven strategies to change unhealthy eating patterns\\nLearn when and how to get professional help when it\\x92s needed',\n",
              "       'All pharmaceutical companies, whether they are an innovator or a generic, must navigate the same complex legal and regulatory framework to bring a product to market and fend off competition. Pre-ANDA Litigation: Strategies and Tactics for Developing a Drug Product and Patent Portfolio, is an in-depth resource for learning about and planning for ANDA litigations and all the different avenues that pharmaceutical litigants could follow. Topics include, but are not limited to: - Coordinating new drug application (NDA)and patent portfolio strategy- Preclinical R&D and patent considerations- Clinical trials and regulatory considerations- Trademark (TM) and nonproprietary name considerations- Acquiring and In-Licensing Pharmaceutical Products: - Pre-litigation Investigations and Due Diligence- Market Entry Business Considerations for Generic Companies',\n",
              "       \"23 very well-known people from the arts, sport, and business worlds talk about how dyslexia affected their childhood, how they were able to overcome the challenges and use the special strengths of dyslexia to achieve great success in adulthood. Darcey Bussell CBE, Eddie Izzard, Sir Richard Branson, Meg Mathews, Zoe Wanamaker CBE, Richard Rogers, Benjamin Zephaniah, Steven Naismith, Lynda La Plante CBE, Sir Jackie Stewart OBE, Sophie Conran and others share their stories, and their advice.\\n\\n\\nAll reveal the enormous difficulties they faced, the strength required to overcome them, the crucial importance of adult support, and how `the different way the brain is wired' in dyslexia has enabled them to see something different in the world and to use their creativity in an exceptional way. They talk about `thinking sideways', and the ability to look at a bigger picture, the often strong visual strength, and the ability to listen, and to grasp simplicity where other people see only complexity. They also talk about how dyslexia continues to challenge them, and the ways they have found to work around this.\\n\\n\\nAn introduction, and final section that includes practical information about dyslexia, are written with the support of Dyslexia Action, and a percentage of profit from the book is going to The British Dyslexia Association. The book will be essential reading for teachers and other professionals, and for families affected by dyslexia, and inspirational for people with dyslexia.\",\n",
              "       \"Every day, newspapers and television news programs present stories on the latest controversies over healthcare and medical advances, but they do not have the space to provide detailed background on the issues. Websites and weblogs provide information from activists and partisans intent on presenting their side of a story. But where can students - or even ordinary citizens - go to obtain unbiased, detailed background on the medical issues affecting their daily lives? This volume in the Health and Medical Issues Today series provides readers and researchers a balanced, in-depth introduction to the medical, scientific, legal, and cultural issues surrounding organ tranplants and its import in today's world of healthcare.\",\n",
              "       \"A groundbreaking investigation of how and why, from the 18th century to the present day, American resistance to our ruling elites has vanished.\\n\\nFrom the American Revolution through the Civil Rights movement, Americans have long mobilized against political, social, and economic privilege. Hierarchies based on inheritance, wealth, and political preferment were treated as obnoxious and a threat to democracy. Mass movements envisioned a new world supplanting dog-eat-dog capitalism. But over the last half-century that political will and cultural imagination have vanished. Why?\\n\\nTHE AGE OF ACQUIESCENCE seeks to solve that mystery. Steve Fraser's account of national transformation brilliantly examines the rise of American capitalism, the visionary attempts to protect the democratic commonwealth, and the great surrender to today's delusional fables of freedom and the politics of fear. Effervescent and razorsharp, THE AGE OF ACQUIESCENCE will be one of the most provocative and talked-about books of the year.\",\n",
              "       'A guide for parenting twins or triplets from pregnancy to pre-school. This book offers tips, and tells you the things you need to plan for and think about - everything from the perfect shower gifts (and what to steer clear of!), breastfeeding issues, to safety-proofing your house and sleeping peacefully through the night.',\n",
              "       \"OREGON HIGH : A Climbing Guide to Nine Cascade Volcanoes. At last - the book Northwest mountaineers have been waiting for. Jeff Thomas, author of Oregon Rock, has written a comprehensive climber's guide ato Mt. Hood, Mt. Jefferson, Three Fingered Jack, Mt. Washington, North Sister, Middle Sister, South Sister, Broken Top, and Mt. Thielsen. This book includes complete route descriptions, six maps and over forty photographs, all designed to help you reach your summit. Published by Keep Climbing Press, Portland, Oregon.\",\n",
              "       'Put everthing you need to know about HTML & XHTML at your fingertips. For nearly a decade, hundreds of thousands of web developers have turned to HTML & XHTML: The Definitive Guide to master standards-based web development. Truly a definitive guide, the book combines a unique balance of tutorial material with a comprehensive reference that even the most experienced web professionals keep close at hand. From basic syntax and semantics to guidelines aimed at helping you develop your own distinctive style, this classic is all you need to become fluent in the language of web design.',\n",
              "       'Kate has put together a nice collection of recipes that can hopefully aid a person in dealing with inflammation, and even gout. \\n\\nTHESE RECIPES ARE NOT DESIGNED TO CURE ANYTHING, BUT TO BE USED AS A REFERENCE IN HELPING SOOTH INFLAMMATION BY WAY OF DIET. ',\n",
              "       'Leopard Geckos are one of the most popular lizards in the hobby. Learn about housing, nutrition, health care and breeding of these reptiles and others in the same family, including fat-tailed and bearded geckos.',\n",
              "       'Especially in the years since it achieved Independence in 1966, Botswana has attracted a host of admirers from all over the world who have been captivated, intrigued and sometimes puzzled by it.',\n",
              "       'America\\'s favorite political humorist leads readers on a hysterical whirlwind tour, from the \"good capitalism\" of Wall Street to the \"bad socialism\" of Cuba, in search of an answer to the age-old question: \"Why do some places prosper and thrive, while others just suck?\"',\n",
              "       'This Step into Reading boxed set includes 12 full-color phonics readers featuring the pups of Nickelodeon\\x92s PAW Patrol! Each book features a specific phonics concept that will give boys and girls ages 3 to 7 the tools they need to begin reading on their own.',\n",
              "       'This Step into Reading boxed set includes 12 full-color phonics readers featuring the pups of Nickelodeon\\x92s PAW Patrol! Each book features a specific phonics concept that will give boys and girls ages 3 to 7 the tools they need to begin reading on their own.',\n",
              "       'As a defining moment in the history of the United States, the Civil War has no equal. Historical Maps of Civil War Battlefields provides a unique view of the war. In over 120 maps this historical record looks at the broad sweep of events from the Southern capture of Ft. Sumter through to the Battle of Gettysburg and Appomattox. Every map has been drawn from the collections of the Library of Congress and the National Archive.',\n",
              "       'As a defining moment in the history of the United States, the Civil War has no equal. Historical Maps of Civil War Battlefields provides a unique view of the war. In over 120 maps this historical record looks at the broad sweep of events from the Southern capture of Ft. Sumter through to the Battle of Gettysburg and Appomattox. Every map has been drawn from the collections of the Library of Congress and the National Archive.',\n",
              "       \"earn the team's origins, stars, and greatest moments through photos and lively text.\",\n",
              "       'Love is something quite different in Provence, as Yvone Lenard discovers when she chaperones 50 red-blooded American college students for a year at California State University\\x92s study abroad program in Aix-en-Provence. Proclaiming themselves on their applications to the program to be \\x93ambassadors of culture,\\x94 their thoughts and senses turn to romance and sex upon arrival. As Resident Director of the program Lenard soon has her hands full, but her sense of humor prevails and she stays to form affectionate relationships with the students and a love affair with Provence. When not counseling her charges, Lenard finds a \\x93safe\\x94 escort in the charming and eccentric Bill Hope, an American expatriate with whom she probes ancient villages and ruins and dines at sunset on the terraces of elegant restaurants. The ten stories in this collection are set in some of the region\\x92s most romantic locales. Each story concludes with advice on where to go to experience romance and a menu for a dinner for two with simple recipes to recreate the sensual flavors of Provence.',\n",
              "       'Designed for a graduate materials course, this up-to-date text guides readers through the ever-advancing field of polymer blends and composites, with special reference to synthesis and mechanical behaviour. It includes coverage of the thermodynamics of polymer blend miscibility, polymer surfaces and interfaces, the mechanisms of fracture and fracture resistance and how two-phased systems can impart toughness and more. Impact resistant plastics, coatings, aerospace and other applications are also discussed.',\n",
              "       \"12-year-old Charlie is a fantasy football guru. He may be just a bench warmer for his school's football team, but when it comes to knowing and loving the game, he's first-string. He even becomes a celebrity when his podcast gets noticed by a sports radio host, who plays Charlie's fantasy picks for all of Los Angeles to hear. Soon Charlie befriends the elderly owner of the L.A. Bulldogs -- a fictional NFL team -- and convinces him to take a chance on an aging quarterback. After that, watch out . . . it's press conferences and national fame as Charlie becomes a media curiosity and source of conflict for the Bulldogs general manager, whose job Charlie seems to have taken. It's all a bit much for a kid just trying to stay on top of his grades and maintain his friendship with his verbal sparring partner, Anna.\",\n",
              "       'Release date June 23, 2008 Foreword by Olympia Dukakis. A must-have insiders guide! Real life tools and advice for every professional assistant and their high-powered employers. A first-hand look at the world of a celebrity assistant, and its application to the larger realm of all professional assistants. Enlightening and entertaining, this book is filled with true stories and lessons from author Bonnie Low-Kramen\\'s 22+ years working with Academy Award-winning actress Olympia Dukakis. Low-Kramen is also a co-founder of New York Celebrity Assistants (NYCA). The author comments... \"I love being an assistant. In fact, I strive to be an \"ultimate\" assistant, someone who seeks excellence and improvement - not just on some days, but every day. I don\\'t always succeed, but this is what I try to do. Are you so inclined? Ultimate assistants are like that, and I am privileged to know quite a few, including some whose experiences are in the book. I wrote the book for three reasons. The first is that this work is frequently misunderstood and has been subject to warped misconceptions by the media. The second is that there are too few resources for assistants, and certainly not only those who work for celebrities. Third, there is a tremendous curiosity about the work. I decided that I was in a unique position to set the record straight and tell it the way it really is to those who actually want to know the truth of it!\" 18 chapters include: How do you find a job? Glamour, Glitz and other perks. Salary & Benefits. Stories & quotes from assts. Skills & Qualities Needed. Public Speaking. Event Planning. Resources-To-Go. NJ native and Rutgers Univ. grad, Bonnie Low-Kramen is a passionate spokesperson on issues concerning professional assistants. She has been quoted in the NY Times, USA Today, Wall St. Journal, and Entertainment Tonight. She is a teacher and guest speaker at conferences throughout the US while continuing her work with actors Olympia Dukakis & Louis Zorich.',\n",
              "       'We all love a good story. But the parables of Jesus are even better than that. They sneak up on us, catching us off guard and toppling our easy assumptions. When the familiar takes an unexpected twist, we find our secret thoughts exposed to the healing light of Jesus. This Bible study introduces twelve of the greatest stories ever told; how might they change your thoughts and actions? ',\n",
              "       'We all love a good story. But the parables of Jesus are even better than that. They sneak up on us, catching us off guard and toppling our easy assumptions. When the familiar takes an unexpected twist, we find our secret thoughts exposed to the healing light of Jesus. This Bible study introduces twelve of the greatest stories ever told; how might they change your thoughts and actions? ',\n",
              "       'IT security can be a complex topic, especially for those new to the field of IT. This full-color book, with a focus on the Microsoft Technology Associate (MTA) program, offers a clear and easy-to-understand approach to Windows security risks and attacks for newcomers to the world of IT. By paring down to just the essentials, beginners gain a solid foundation of security concepts upon which more advanced topics and technologies can be built.',\n",
              "       'The Shadows Have Evolved The year is 2070. The world is not only Awakened -- it\\'s wired. Cyber and bioware implants make your meat body better-than-flesh, while the wireless Matrix enhances your perceptions with hyper-real senses. Deals are made in steel and lead more often than gold or nuyen; success and failure live only a razor\\'s edge apart. Creatures of myth and legend walk the streets, while the arcane skills of spellslingers are in high demand. Above it all, monolithic megacorps bleed the world dry, sabotaging each other in covert cutthroat competition as they go to war over the bottom line You\\'re a shadowrunner, a street operative, scratching out a living on the mean sprawl streets. You may be human, elf, dwarf, ork or troll. From lethal street samurai to well-connected info brokers, spell-slinging mages or code-cracking hackers. No matter what, you\\'re a -- professional corporate pawn or \"deniable asset,\" -- you get the job done. Shadowrun, Fourth Edition offers a completely new rules system that is simple, integrated and accessible. The state-of-the-art has also been advanced, introducing a new level of augmented reality, new gear, new magical discoveries, and more. This hardcover rulebook contains all the rules gamemasters and players need to create characters and ongoing adventures set in the popular Shadowrun universe. Note that the Shadowrun, Fourth Edition will replace the Shadowrun, Third Edition rules set. Source material from previous editions will still be compatible.',\n",
              "       'Though he is celebrated for his fiction, Dashiell Hammett was also an investigative journalist whose nonfiction is anthologized for the first time in this collection. All the pieces that ran in Hammett\\'s syndicated newspaper column \"The Crime Wave\" are included, along with additional essays on writing well, politics, good and bad mysteries, effective advertising, and the World War II Battle of the Aleutians. Dozens of illustrations, advertisements, and photographs that have never before appeared in book form are included, along with an introduction for each selection and notes that provide insight into Hammett\\'s career, the evolution of detective fiction, and American popular culture of the time.',\n",
              "       'There is something special about the English country house garden: from its quiet verdant lawns to its high yew hedges, this is a style much-desired and copied around the world. The English country house is most often conceived as a private, intimate place, a getaway from working life. A pergola, a sundial, a croquet lawn, a herbaceous border of soft planting; here is a space to wander and relax, to share secrets, and above all to enjoy afternoon tea. But even the most peaceful of gardens also take passion and hard work to create. This new book takes a fresh look at the English country house garden, starting with the owners and the stories behind the making of the gardens. Glorious photographs capture the gardens at their finest moments through the seasons, and a sparkling and erudite text presents twenty-five gardens - some grand, some personal, some celebrated, some never-before-photographed - to explore why this garden style has been so very enduring and influential. From the Victorian grandeur of Tyntesfield and Cragside, to the Arts & Crafts simplicity of Rodmarton Manor and Charleston; from Scampston, in the same family since the 17th century, to new gardens by Dan Pearson and Tom Stuart-Smith; and with favourites such as Hidcote and Great Dixter alongside new discoveries, this book will be a delicious treat for garden-lovers.',\n",
              "       'There is something special about the English country house garden: from its quiet verdant lawns to its high yew hedges, this is a style much-desired and copied around the world. The English country house is most often conceived as a private, intimate place, a getaway from working life. A pergola, a sundial, a croquet lawn, a herbaceous border of soft planting; here is a space to wander and relax, to share secrets, and above all to enjoy afternoon tea. But even the most peaceful of gardens also take passion and hard work to create. This new book takes a fresh look at the English country house garden, starting with the owners and the stories behind the making of the gardens. Glorious photographs capture the gardens at their finest moments through the seasons, and a sparkling and erudite text presents twenty-five gardens - some grand, some personal, some celebrated, some never-before-photographed - to explore why this garden style has been so very enduring and influential. From the Victorian grandeur of Tyntesfield and Cragside, to the Arts & Crafts simplicity of Rodmarton Manor and Charleston; from Scampston, in the same family since the 17th century, to new gardens by Dan Pearson and Tom Stuart-Smith; and with favourites such as Hidcote and Great Dixter alongside new discoveries, this book will be a delicious treat for garden-lovers.',\n",
              "       'This comprehensive codebook presents the official government draft of the ICD-10-CM diagnostic code set. Features include the American Hospital Associations (AHA) Coding Clinic for ICD-10-CM/PCS citations, conventions and official guidelines; color coding; indexes to diseases, injuries and external causes; the Table of Drugs and Chemicals and the Neoplasm Table.',\n",
              "       \"Gandhi's ideas are as meaningful today as they were during his long and inspiring life. His enlightening thoughts and beliefs, especially on violence and the atomic bomb, reveal his eloquent foresight about our contemporary world. The words of one of the greatest men of the twentieth century, chosen by the award-winning director Richard Attenborough from Gandhi's letters, speeches, and published writings, explore the prophet's timeless thoughts on daily life, cooperation, nonviolence, faith, and peace.\\n\\nThis bestselling volume includes an introduction by Attenborough and an afterword by Time magazine Senior Foreign Correspondent Johanna McGeary that places Gandhi's life and work in the historical context of the twentieth century. This book and the film Gandhi were the result of producer/director Richard Attenborough's long commitment to keeping alive the flame of Gandhi's spiritual achievement and the wisdom of his actions and his words. They are the wisdom and words of peace. Also included are twenty striking historical photographs, specially selected from the archives at the National Gandhi Museum in New Delhi, that capture the important personal, political, and spiritual aspects of Gandhi's career.\",\n",
              "       \"The train tracks ran right by Bigmama's house in Cottondale, and the children were warned to stay off the tracks. But one night they were late, and the tracks were a shortcut, so they started off. And when there was no turning back, they heard the train coming.\",\n",
              "       '\"Medical Mycology: Cellular and Molecular\" techniques is a clear and concise overview of the subject that details the techniques essential for ongoing research in the area. Drawing together contributions from both scientists and clinicians working in the field, the text will provide a valuable perspective on the applicability of specific techniques to patient care.A wide range of molecular, immunological and cytological techniques are discussed throughout, with the inclusion of protocol section in each chapter designed to provide both a background a up-to-date account of the applications of each procedure. Every technique is fully referenced and illustrations are provided where required to enhance student understanding.comprehensive introduction to the key techniques critical to the study of medical mycologyclear explanation of how each technique is applied in the labcontributions from internationally recognised experts in the fieldoutlines the background to many techniques required for the successful completion of a research project\\n\\nAn invaluable reference for students of microbiology, biochemistry and molecular biology as well as postgraduates and researchers in the field of medical mycology looking for an up-to-date overview of the latest laboratory techniques.',\n",
              "       '\"Medical Mycology: Cellular and Molecular\" techniques is a clear and concise overview of the subject that details the techniques essential for ongoing research in the area. Drawing together contributions from both scientists and clinicians working in the field, the text will provide a valuable perspective on the applicability of specific techniques to patient care.A wide range of molecular, immunological and cytological techniques are discussed throughout, with the inclusion of protocol section in each chapter designed to provide both a background a up-to-date account of the applications of each procedure. Every technique is fully referenced and illustrations are provided where required to enhance student understanding.comprehensive introduction to the key techniques critical to the study of medical mycologyclear explanation of how each technique is applied in the labcontributions from internationally recognised experts in the fieldoutlines the background to many techniques required for the successful completion of a research project\\n\\nAn invaluable reference for students of microbiology, biochemistry and molecular biology as well as postgraduates and researchers in the field of medical mycology looking for an up-to-date overview of the latest laboratory techniques.',\n",
              "       'Being a new mom is \\x93AHHHH! WHAT HAVE I DONE?\\x94 hard. Why are all these tiny clothes so expensive? Who wrote these mind-numbing board books? Will Mommy ever carry a purse again that\\x92s not a diaper bag? And how is she even functioning off so little sleep? \\n\\nReasons Mommy Drinks is a fresh, insightful, and hilarious collection of the various struggles faced by new parents\\x97from mommy groups and single-people envy to the end of maternity leave\\x97with a well-deserved cocktail recipe to go with each one. This must-have resource will help sleep-deprived new moms survive the baby years with their sense of humor, if not their lives as they once knew them, intact.',\n",
              "       \"The only book of its kind, Manual of High Risk Pregnancy & Delivery provides a complete resource for care of this special patient and her complex needs. It helps you provide positive outcomes with coverage of today's newest technology, physiologic considerations, psychologic implications, health disorders, and other complications in pregnancy. Written by noted educator and practitioner Elizabeth Stepp Gilbert, RNC, MS, FNP-BC, CNS, this book also describes how to screen for risk factors, provide preventive management, and intervene appropriately when problems arise. It's a concise, hands-on reference for both inpatient and outpatient settings!\",\n",
              "       'Bridging lower-division physics survey courses with upper-division physics courses, Oscillations and Waves: An Introduction develops a unified mathematical theory of oscillations and waves in physical systems.',\n",
              "       'When Donna Sabia went into labor on April 1, 1984, she was expecting healthy twins. Instead, one of the babies was stillborn -- and the other just barely clinging to life. The Sabias loved Little Tony and never considered putting him in a home. But caring for their son would exhaust them, emotionally, physically, and financially, and put a nearly lethal strain on their marriage. It was only when Donna, at the local playground, met another mother -- who suggested suing -- that the Sabias saw some hope for relief.This is the riveting true story of one family\\'s journey into the maelstrom of a malpractice lawsuit -- and the attorneys, doctors, insurance carriers, and countless other players in the seven-year struggle toward resolution. It is at once a heartrending tale of human sorrow -- and, in the words of The San Francisco Chronicle, \"a disturbing biopsy of a system in serious need of overhaul.\"',\n",
              "       \"Calvin's expository sermons to the great congregation of St. Peter's Geneva, appeared for the first time in English in 1579. This is a magnificent facsimile of that edition.\",\n",
              "       'Oils and vinegars should never be relegated simply to dressings, marinades and frying. This cookbook celebrates the many uses for the key oils and vinegars.',\n",
              "       'In this authoritative and practical guide, two distinguished teachers and award-winning artist-painters share their knowledge and the secrets of their trade, providing clear step-by-step instruction on all the techniques and expert advice on tools and materials. From the simplest geometric borders to panoramic murals, they cover every conceivable subject, providing a vast repertoire of fine visual effects. Among them are: basic patinas and variations, marble, wood, bricks and stonework, mosaics, ivory, terracotta, mother-of-pearl, leather, parchment, decorative friezes and ornamental devices, drapery, trelliswork, and many other faux materials.',\n",
              "       'One-act stage adaptations of famous short stories, novels, and plays. Includes \"The Prince and the Pauper,\" \"Nicholas Nickleby,\" and \"Frankenstein.\"',\n",
              "       'While all runners need to eat well to fuel their performance, most don\\x92t have the time to cook complex or labor-intensive meals to meet their unique nutritional needs. But if you\\x92ve got 30 minutes, you can prepare fresh, delicious meals that will bolster your running and satisfy your appetite. Meals on the Run includes more than 150 healthy, energy-packed recipes that can all be prepared in small windows of time\\x97some in 10 minutes or less!\\n\\nFrom simple snacks and smoothies to weeknight dinners, you\\x92ll find everything you need to get high-quality food on the table fast. If you follow a specialized diet\\x97vegetarian, vegan, low-calorie, or gluten-free\\x97or need your meals to match your training plan, each recipe is marked so you can easily see if a particular recipe fits your needs.\\n\\nEvery delicious, healthy recipe in Meals on the Run features fresh, minimally processed ingredients that offer superior nutrition and taste. Once you get cooking, you\\x92ll find that fast meals can be synonymous with good taste, good health, and good running.',\n",
              "       'This book makes easy the seemingly daunting task of creating mosaics for your home. Presenting both creative ideas and stunning projects for both interior and exterior decoration, this book provides the information, inspiration, and tools to add the colorful and sophisticated art of mosaic to you kitchens, bathrooms, floors, walls, porch and garden.',\n",
              "       'Referred to as the \"Celestial Bodhisattva of Compassion,\" the Asian Goddess Kwan Yin manifests herself to those in need around the world in myriad forms. Sometimes encountered in the peacefulness of nature, other times seen as a benevolent caregiver, Kwan Yin is vast, yet readily accessible to each and every one of us whether we are experiencing our darkest moment or realizing a rare twinkling of transcendence. Throughout this book, powerful encounters with Kwan Yin are described in essays, poems, stories, and art work. With each page turned, you will find yourself recognizing how Kwan Yin\\'s wise, compassionate energy has been impacting you all along and you will be inspired to further look for her in places you have previously discounted, including your own nature. ',\n",
              "       'A Companion to Museum Studies captures the multidisciplinary approach to the study of the development, roles, and significance of museums in contemporary society.\\nCollects first-rate original essays by leading figures from a range of disciplines and theoretical stances, including anthropology, art history, history, literature, sociology, cultural studies, and museum studies Examines the complexity of the museum from cultural, political, curatorial, historical and representational perspectives Covers traditional subjects, such as space, display, buildings, objects and collecting, and more contemporary challenges such as visiting, commerce, community and experimental exhibition forms',\n",
              "       'A Companion to Museum Studies captures the multidisciplinary approach to the study of the development, roles, and significance of museums in contemporary society.\\nCollects first-rate original essays by leading figures from a range of disciplines and theoretical stances, including anthropology, art history, history, literature, sociology, cultural studies, and museum studies Examines the complexity of the museum from cultural, political, curatorial, historical and representational perspectives Covers traditional subjects, such as space, display, buildings, objects and collecting, and more contemporary challenges such as visiting, commerce, community and experimental exhibition forms',\n",
              "       ' The classic \"Indoor Bible\" puts all the latest information on indoor cultivation at your fingertips. Learn how growers maximize yields, harvesting more than a pound of connoisseur quality bud per 1000w bulb every two months. Includes precise color drawings and photos of numerous plant problems, a troubleshooting chart, four case studies, weekly checklist, calendar, glossary and index.',\n",
              "       \"The novel is a followup to Wong's book John Dies at the End, which was initially published as a webserial and later as a printed novel. This Book Is Full of Spiders was first published in hardback on October 2, 2012 through Thomas Dunne Books and chronicles the further adventures of John and Dave\",\n",
              "       'The Secret to Long Life in Your DNA presents the work of Mirko Beljanski, a biologist-biochemist at the Pasteur Institute in France, whose innovative research on DNA led to the discovery of new treatments for cancer and other degenerative diseases. The Beljanski method fights disease by targeting damaged or destabilized DNA in the body, allowing cells with healthy DNA to thrive. Beljanski, with his wife Monique, went on to develop natural compounds that enhance the body\\x92s resistance not only to degenerative diseases but also to the effects of environmental toxicity and the ravages of aging. Beljanski\\x92s compounds are now being studied at Columbia University, and other centers, where early findings support his theories.',\n",
              "       'Israel Salanter was one of the most original and influential Jewish leaders and thinkers of Eastern European Jewry in the modern period. One of Salanter\\x92s most striking innovations was the transformation of the issue of ethics from the domain of theology to the realm of psychology. Immanuel Etkes traces Salanter\\x92s unique view of Mussar doctrine, especially his introduction of modern psychology to the traditional understanding of personal ethical development.',\n",
              "       'Between 1850 and 1900, Milwaukee\\x92s rapid population growth also gave rise to high death rates, infectious diseases, crowded housing, filthy streets, inadequate water supplies, and incredible stench. The Healthiest City shows how a coalition of reform groups brought about community education and municipal action to achieve for Milwaukee the title of \\x93the healthiest city\\x94 by the 1930s. This highly praised book reminds us that cutting funds and regulations for preserving public health results in inconvenience, illness, and even death.\\n    \\x93A major work. . . . Leavitt focuses on three illustrative issues\\x97smallpox, garbage, and milk, representing the larger areas of infectious disease, sanitation, and food control.\\x94\\x97Norman Gevitz, Journal of the American Medical Association\\n    \\x93Leavitt\\x92s research provides additional evidence . . . that improvements in sanitation, living conditions, and diet contributed more to the overall decline in mortality rates than advances in medical practice. . . . A solid contribution to the history of urban reform politics and public health.',\n",
              "       \"Jack would rather be at sea than fixing the mistakes of his grandfather, the late Earl of Stansworth. Instead, he finds that inheriting his grandfather's wealth and title and securing the welfare of his sister and mother means joining the ranks of high society and living with the aristocracy. Luckily, Ivy Carslisle, the granddaughter of a dear friend of Jack's late grandmother, is willing to teach him etiquette and properly introduce him into society. Jack soon learns that his challenge isn't surviving his new lifestyle, but surviving the conspiracies against him as well as keeping himself from falling madly in love with his new tutor.\",\n",
              "       \"The first and only guide to the country's fastest growing sport. Longtime stand up paddler and instructor Rob Casey has authored the first and only comprehensive guide to stand up paddling. From choosing the right gear to stroke techniques and fitness advice, Rob will have you stand up paddling in no time. Specific chapters focus on flat-water paddling, paddle surfing, and river paddling to show you exactly what you need to take your SUP skills and knowledge to a specific environment. Whether you want to learn about fitness or expedition planning in flat water, how to forecast waves and current for surfing, or how to use river eddies to your advantage- it's all here in this easy to use reference guidebook from stand up paddling expert Rob Casey.\",\n",
              "       \"The first and only guide to the country's fastest growing sport. Longtime stand up paddler and instructor Rob Casey has authored the first and only comprehensive guide to stand up paddling. From choosing the right gear to stroke techniques and fitness advice, Rob will have you stand up paddling in no time. Specific chapters focus on flat-water paddling, paddle surfing, and river paddling to show you exactly what you need to take your SUP skills and knowledge to a specific environment. Whether you want to learn about fitness or expedition planning in flat water, how to forecast waves and current for surfing, or how to use river eddies to your advantage- it's all here in this easy to use reference guidebook from stand up paddling expert Rob Casey.\",\n",
              "       'The journey from being a \"no name\" artist to finding your voice in the world of comics has always been a mystery-especially in the Internet age. While the publishing industry struggles to adapt to the rapidly changing digital world, independent artists now have the ability to build a successful and lucrative brand completely on their own with a little hard work and some Internet savvy. Now there\\'s nothing stopping you from getting your book in front of thousands or even millions of people. Suddenly you can\\'t blame anyone for not giving you a chance. You can only blame yourself for not trying. So roll up your sleeves, sharpen your pencils and fire up your Internet because we are about to make and sell comics! Jason Brubaker\\'s graphic novel reMIND raised over $125,000 in pre-order sales on Kickstarter, won the Xeric Award and made ALA\\'s Great Graphic Novels for Teens List. This book is a collection of his thoughts, strategies and practical lessons developed during his experience writing, drawing and self-publishing reMIND.',\n",
              "       \"In this groundbreaking book, the bestselling author of *Parenting from the Inside Out* and *The Whole-Brain Child* shows parents how to turn one of the most challenging developmental periods in their children's lives into one of the most rewarding. Between the ages of 12 and 24, the brain changes in important and often maddening ways. It's no wonder that many parents approach their child's adolescence with fear and trepidation. According to renowned neuropsychiatrist Daniel Siegel, however, if parents and teens can work together to form a deeper understanding of the brain science behind all the tumult, they will be able to turn conflict into connection and form a deeper understanding of one another. In *Brainstorm*, Siegel illuminates how brain development affects teenagers' behaviour and relationships. Drawing on important new research in the field of interpersonal neurobiology, he explores exciting ways in which understanding how the teenage brain functions can help parents make what is in fact an incredibly positive period of growth, change, and experimentation in their children's lives less lonely and distressing on both sides of the generational divide.\",\n",
              "       'This book is a mix of practical and conceptual knowledge for e-commerce that discusses strategies to use when a business wants to take advantage of e-commerce to increase their sales and international exposure. The material is based on my 20 years of applying it in industry, my doctoral studies of e-commerce, and on my lecture notes for e-commerce that have accumulated over the last decade. It is composed of over 20 chapters and is intended mainly for business people that need to understand the issues involved with e-commerce activities, and for marketers who want to learn how to take advantage of e-commerce. Technology students may also find value from the concepts presented in order to understand why businesses are asking for certain features. The book discusses concepts for the technologies involved, the business issues, the legalities of activities, the strategies which can be used, and the emerging trends in e-commerce. An earlier book, \"Life as a Professor,\" highlighted the challenges that are encountered in teaching current business and technology methods in colleges and universities, along with recommendations for solutions that are needed now in classrooms. A later book, \"MBA Strategic Analysis,\" discussed methods to use to assess business strengths so that opportunities for growth can be more effectively implemented. Another book, \"Computerized Financial Systems,\" reviewed database designs and processes that are needed for implementing functional financial systems.\"',\n",
              "       \"Jennifer Traig does not suffer from lupus, multiple sclerosis, Crohn's Disease, or muscular dystrophy. Nor does she have SUDS, the mysterious disorder that claims healthy young Asian men in their sleep. What she does have is hypochondria. In Well Enough Alone, Traig provides an uproariously funny inquiry into her ailment, as well as a well-researched history of the disorder. While chronicling her life as a hypochondriac and the minor conditions that helped to fuel her persistent self-diagnosis, she offers a literary tour of the disorder's past and present. And by the end, her journey leaves her more knowledgeable, a little less neurotic, and-one might say-healthier.\",\n",
              "       \"Jennifer Traig does not suffer from lupus, multiple sclerosis, Crohn's Disease, or muscular dystrophy. Nor does she have SUDS, the mysterious disorder that claims healthy young Asian men in their sleep. What she does have is hypochondria. In Well Enough Alone, Traig provides an uproariously funny inquiry into her ailment, as well as a well-researched history of the disorder. While chronicling her life as a hypochondriac and the minor conditions that helped to fuel her persistent self-diagnosis, she offers a literary tour of the disorder's past and present. And by the end, her journey leaves her more knowledgeable, a little less neurotic, and-one might say-healthier.\",\n",
              "       'This book is loaded with money-saving tricks and organizing tips, as well as lots of encouragement, all designed to help you determine the budget for your wedding - and then stick to it. You\\'ll find dozens of creative, innovative ideas that will not only save you money, but make planning your wedding a fun, friend-and-family-involving process you\\'ll savor in memory forever. In this new edition you\\'ll find actual case histories of four weddings - how the brides stayed within their budgets without sacrificing the quality and elegance of the day, the latest wedding trends - how to be fashionable at a low price, money-saving tips for the groom, updated, average costs for everything from flowers to wedding gowns, reception food to photographers, for nine regions nationwide, creative new cost-cutting ideas contributed by recent brides, complete instructions on how to set up a wedding notebook to keep track of every aspect of planning your wedding, detailed questions to help you focus on your idea of the \"perfect wedding\" before you start planning, and a \"what to do when\" calendar/timetable for quick reference.',\n",
              "       'This book is loaded with money-saving tricks and organizing tips, as well as lots of encouragement, all designed to help you determine the budget for your wedding - and then stick to it. You\\'ll find dozens of creative, innovative ideas that will not only save you money, but make planning your wedding a fun, friend-and-family-involving process you\\'ll savor in memory forever. In this new edition you\\'ll find actual case histories of four weddings - how the brides stayed within their budgets without sacrificing the quality and elegance of the day, the latest wedding trends - how to be fashionable at a low price, money-saving tips for the groom, updated, average costs for everything from flowers to wedding gowns, reception food to photographers, for nine regions nationwide, creative new cost-cutting ideas contributed by recent brides, complete instructions on how to set up a wedding notebook to keep track of every aspect of planning your wedding, detailed questions to help you focus on your idea of the \"perfect wedding\" before you start planning, and a \"what to do when\" calendar/timetable for quick reference.',\n",
              "       'This book is loaded with money-saving tricks and organizing tips, as well as lots of encouragement, all designed to help you determine the budget for your wedding - and then stick to it. You\\'ll find dozens of creative, innovative ideas that will not only save you money, but make planning your wedding a fun, friend-and-family-involving process you\\'ll savor in memory forever. In this new edition you\\'ll find actual case histories of four weddings - how the brides stayed within their budgets without sacrificing the quality and elegance of the day, the latest wedding trends - how to be fashionable at a low price, money-saving tips for the groom, updated, average costs for everything from flowers to wedding gowns, reception food to photographers, for nine regions nationwide, creative new cost-cutting ideas contributed by recent brides, complete instructions on how to set up a wedding notebook to keep track of every aspect of planning your wedding, detailed questions to help you focus on your idea of the \"perfect wedding\" before you start planning, and a \"what to do when\" calendar/timetable for quick reference.',\n",
              "       'This edition of this text continues to build on four major marketing themes: building and managing profitable customer relationships, building and managing strong brands to create brand equity, harnessing new marketing technologies in the digital age, and marketing in a socially responsible way around the globe.',\n",
              "       'This edition of this text continues to build on four major marketing themes: building and managing profitable customer relationships, building and managing strong brands to create brand equity, harnessing new marketing technologies in the digital age, and marketing in a socially responsible way around the globe.',\n",
              "       'Some may find it wonky to take a pig to the movies. But not Mr. and Mrs. Watson, who think the title of the film, WHEN PIGS FLY, is inspirational. And not their beloved Mercy, who is inspired by the fact that the drive-in proudly serves real butter on its Bottomless Bucket of popcorn. So when they pull up in their convertible, Mercy lifts her snout and becomes a pig on a mission \\x97 for what is more heavenly than being hot on the trail of a true butter smell? Masterful slapstick director Kate DiCamillo sends Mercy on a delirious chase, followed by a trail of hapless rescuers whom fans will recognize from prior episodes. And Chris Van Dusen\\x92s comic retro illustrations perfectly capture a nostalgic pastime \\x97 along with the newest antics of a charmingly single-minded pig. ',\n",
              "       'When seventeen-year-old Georgia\\x92s brother drowns while surfing halfway around the world in Australia, she refuses to believe Lucky\\x92s death was just bad luck. Lucky was smart. He wouldn\\x92t have surfed in waters more dangerous than he could handle. Then a stranger named Fin arrives in False Bay, claiming to have been Lucky\\x92s best friend. Soon Fin is working for Lucky\\x92s father, charming Lucky\\x92s mother, dating his girlfriend. Georgia begins to wonder: did Fin murder Lucky in order to take over his whole life?  \\n\\nDetermined to clear the fog from her mind in order to uncover the truth about Lucky\\x92s death, Georgia secretly stops taking the medication that keeps away the voices in her head. Georgia is certain she\\x92s getting closer and closer to the truth about Fin, but as she does, her mental state becomes more and more precarious, and no one seems to trust what she\\x92s saying.\\n\\nAs the chilling narrative unfolds, the reader must decide whether Georgia\\x92s descent into madness is causing her to see things that don\\x92t exist\\x96or to see a deadly truth that no one else can.  ',\n",
              "       'The potato must be the most versatile of all cooking ingredients; it makes marvelous side dishes, wholesome soups, spicy pies, even sweet deserts-there are almost no limits to the variations possible with the common or garden spud. And in addition to providing culinary delight, the potato also contains numerous nutrients with low calories. With 250 mouth-watering recipes and special \"Cook\\'s Tip\" sidebars, The Great Potato Cookbook is a must-have on every cook\\'s shelf. Skeptical about the versatility of the potato? Just try: * Bouillon potatoes served with beef * Westphalian potato soup * Potato soufflé with parmesan and pancetta cheeses * Austrian apricot dumplings * Toulouse sausage with lentils and pumpkin and potato mash * Moist potato doughnuts Along with recipes, you\\'ll also find a detailed history of the potato, descriptions and pictures of the different types of potatoes, and how to choose, store, and cook potatoes in a variety of ways. Whatever you rustle up with this healthy vegetable, it won\\'t take long for you to figure out that the potato always tastes good.',\n",
              "       'The potato must be the most versatile of all cooking ingredients; it makes marvelous side dishes, wholesome soups, spicy pies, even sweet deserts-there are almost no limits to the variations possible with the common or garden spud. And in addition to providing culinary delight, the potato also contains numerous nutrients with low calories. With 250 mouth-watering recipes and special \"Cook\\'s Tip\" sidebars, The Great Potato Cookbook is a must-have on every cook\\'s shelf. Skeptical about the versatility of the potato? Just try: * Bouillon potatoes served with beef * Westphalian potato soup * Potato soufflé with parmesan and pancetta cheeses * Austrian apricot dumplings * Toulouse sausage with lentils and pumpkin and potato mash * Moist potato doughnuts Along with recipes, you\\'ll also find a detailed history of the potato, descriptions and pictures of the different types of potatoes, and how to choose, store, and cook potatoes in a variety of ways. Whatever you rustle up with this healthy vegetable, it won\\'t take long for you to figure out that the potato always tastes good.',\n",
              "       \"Today's health-conscious individual is fully aware of the side effects of pharmaceutical products. Diarrhea, nausea, impotence, hair loss - it's enough to make one believe the cure is worse than the disease. Indeed, sometimes it is. This work is a comprehensive guide to combining the best of science and nature for more than 300 health conditions. It is also a guide to more than 150 nutritional supplements and to dozens of treatment methods one can control.\",\n",
              "       \"William Blake, overlooked in his time, remains an enigmatic figure to contemporary readers despite his near canonical status. Out of a wounding sense of alienation and dividedness he created a profoundly original symbolic language, in which words and images unite in a unique interpretation of self and society. He was a counterculture prophet whose art still challenges us to think afresh about almost every aspect of experience\\x97social, political, philosophical, religious, erotic, and aesthetic. He believed that we live in the midst of Eternity here and now, and that if we could open our consciousness to the fullness of being, it would be like experiencing a sunrise that never ends.\\n \\nFollowing Blake\\x92s life from beginning to end, acclaimed biographer Leo Damrosch draws extensively on Blake\\x92s poems, his paintings, and his etchings and engravings to offer this generously illustrated account of Blake the man and his vision of our world. The author's goal is to inspire the reader with the passion he has for his subject, achieving the imaginative response that Blake himself sought to excite. The book is an invitation to understanding and enjoyment, an invitation to appreciate Blake\\x92s imaginative world and, in so doing, to open the doors of our perception.\",\n",
              "       \"At the heart of South America, Paraguay is a bewildering blend of contrasts. The colonial capital, Asunción, now has a burgeoning bar and café scene, while its eastern counterpart, Ciudad del Este, is a neon-swathed boomtown. Yet dig a little deeper and a different picture emerges: Jesuit ruins echo with centuries of history, rural families keep craft traditions alive and everything stops as people share a leisurely drink of tereré. And beyond lies the country's inimitable natural beauty, from butterfly-thronged tropical forests to the rolling fields of the campo and the wild wetlands of the Chaco.\\n\\nWith background sections covering the rich history and culture of this hospitable country as well as all the practical information you will need, Margaret Hebblethwaite's Paraguay remains the essential choice for the curious visitor.\",\n",
              "       'This is the authoritative guide to conducting trauma-focused cognitive-behavioral therapy (TF-CBT), a systematic, evidence-based treatment for traumatized children and their families. Provided is a comprehensive framework for assessing posttraumatic stress disorder, depression, anxiety, and other symptoms; developing a flexible, individualized treatment plan; and working collaboratively with children and parents to build core skills in such areas as affect regulation and safety. Specific guidance is offered for responding to different types of traumatic events, with an entire section devoted to grief-focused components. Useful appendices feature resources, reproducible handouts, and information on obtaining additional training. TF-CBT has been nationally recognized as an exemplary evidence-based program. ',\n",
              "       'The genocidal barbarism of the Nazi forces has been well documented. What is little known is the fate of fifteen million German civilians who found themselves on the wrong side of new postwar borders. All over Eastern Europe, the inhabitants of communities that had been established for many centuries were either expelled or killed. Over two million Germans did not survive. Some of these people had supported Hitler, but the great majority were guiltless. In A Terrible Revenge, de Zayas describes this horrible retribution. This new edition includes an updated foreword, epilogue and additional information from recent interviews with the children of the displaced.',\n",
              "       'Plastics explains what plastics are, how they are made, how they are used, and the problems and opportunities they bring.',\n",
              "       'This book focuses on state of the art technologies to produce microbiologically safe foods for our global dinner table. Each chapter summarizes the most recent scientific advances, particularly with respect to food processing, pre- and post-harvest food safety, quality control, and regulatory information.The book begins with a general discussion of microbial hazards and their public health ramifications. It then moves on to survey the production processes of different food types, including dairy, eggs, beef, poultry, and fruits and vegetables, pinpointing potential sources of human foodborne diseases. The authors address the growing market in processed foods as well novel interventions such as innovative food packaging and technologies to reduce spoilage organisms and prolong shelf life. Each chapter also describes the ormal flora of raw product, spoilage issues, pathogens of concern, sources of contamination, factors that influence survival and growth of pathogens and spoilage organisms, indicator microorganisms, approaches to maintaining product quailty and reducing harmful microbial populations, microbial standards for end-product testing, conventional microbiological and molecular methods, and regulatory issues.Other important topics include the safety of genetically modified organisms (GMOs), predictive microbiology, emerging foodborne pathogens, good agricultural and manufacturing processes, avian influenza, and bioterrorism.',\n",
              "       'Are you at a point in your life where you\\x92re asking, \\x93What\\x92s next?\\x94 You\\x92ve finished one chapter and you have yet to write the next one. Many of us face these transitions at midlife, but they can happen at any point. It\\x92s a time full of enormous potential, and it defines a whole new phase of life. It\\x92s called Life Reimagined.\\n\\nHere is your map to guide you in this new life phase. You can use the powerful practices and insights\\x97enhanced with online tools and exercises at AARP\\x92s LifeReimagined.org website\\x97to help you uncover your own special gifts, connect with people who can support you, and explore new directions.',\n",
              "       \"This Level 1 rhyming reader introduces young children to the St. Patrick's Day holiday, from dressing in green outfits to marching in a musical parade! \\nIt's St. Patrick's Day follows two children as they celebrate this joyous Irish holiday. Beautiful illustrations compliment easy-to-read rhyming text. \\nFrom dressing in green outfits to dancing an Irish reel, from finding a four-leaf clover singing Irish songs and marching in a parade, everyone can be Irish on this special day!\",\n",
              "       \"A hardened group of survivors fights back against a zombie plague that has brought down civilization.\\n\\nWith the world consumed by a devastating plague that drives humans violently insane, what was once a band of desperate survivors bobbing on a dark Atlantic ocean has now become Wolf Squadron, the only hope for the salvation of the human race. Banding together with what remains of the U.S. Navy, Wolf Squadron, and its leader Steve Smith, not only plans to survive; he plans to retake the mainland from the infected, starting with North America.\\n\\nSmith's teenage daughters have become zombie hunters of unparalleled skill, both at land and on the sea, and they may hold the key to the rebirth of civilization on a devastated planet.\",\n",
              "       'This substantial anthology comprises the most comprehensive and authoritative collection of readings in analytic philosophy of the twentieth century. It provides a survey and analysis of the key issues, figures and concepts.',\n",
              "       'This volume deals exclusively with the phylum Cnidaria, the group of animals that, among others, contains corals, anemones and jellyfishes. All three classes in the phylum - the Hydrozoa, Scyphozoa, and Anthozoa - are discussed in details. Chapters on evolution and reproduction biology of the cnidarians are also included. Several scientists, all experts in their individual fields, have contributed to this volume. With their help and that of scientific and popular literature, we have tried to make the content as up to date as possible. You will therefore find, not only an extensive list of references, but also a wealth of information never before grouped together in a popular book dealing with the cnidarians. The text is focused, both on the biology of the group, as well as on how to keep cnidarians successfully in aquaria. The book also contains more than 800 high-quality photographs showing different groups of animals in their natural habitat and illustrating details of their biology, as well as their growth and survival in \"The Modern Coral Reef Aquarium.',\n",
              "       'This volume deals exclusively with the phylum Cnidaria, the group of animals that, among others, contains corals, anemones and jellyfishes. All three classes in the phylum - the Hydrozoa, Scyphozoa, and Anthozoa - are discussed in details. Chapters on evolution and reproduction biology of the cnidarians are also included. Several scientists, all experts in their individual fields, have contributed to this volume. With their help and that of scientific and popular literature, we have tried to make the content as up to date as possible. You will therefore find, not only an extensive list of references, but also a wealth of information never before grouped together in a popular book dealing with the cnidarians. The text is focused, both on the biology of the group, as well as on how to keep cnidarians successfully in aquaria. The book also contains more than 800 high-quality photographs showing different groups of animals in their natural habitat and illustrating details of their biology, as well as their growth and survival in \"The Modern Coral Reef Aquarium.',\n",
              "       'This volume deals exclusively with the phylum Cnidaria, the group of animals that, among others, contains corals, anemones and jellyfishes. All three classes in the phylum - the Hydrozoa, Scyphozoa, and Anthozoa - are discussed in details. Chapters on evolution and reproduction biology of the cnidarians are also included. Several scientists, all experts in their individual fields, have contributed to this volume. With their help and that of scientific and popular literature, we have tried to make the content as up to date as possible. You will therefore find, not only an extensive list of references, but also a wealth of information never before grouped together in a popular book dealing with the cnidarians. The text is focused, both on the biology of the group, as well as on how to keep cnidarians successfully in aquaria. The book also contains more than 800 high-quality photographs showing different groups of animals in their natural habitat and illustrating details of their biology, as well as their growth and survival in \"The Modern Coral Reef Aquarium.',\n",
              "       'This 291- page book with 141 black-and-white and 66 color photos, is a collection of hunting narratives written by Kirt Darner, members of his family and friends.',\n",
              "       'Environmentalism usually calls to mind images of peace and serenity, a oneness with nature, and a shared sense of responsibility. But one town in Colorado, under the guise of environmental protection, passed a resolution limiting immigration, bolstering the privilege of the wealthy and scapegoating Latin American newcomers for the area\\x92s current and future ecological problems. This might have escaped attention save for the fact that this wasn\\x92t some rinky-dink backwater. It was Aspen, Colorado, playground of the rich and famous and the West\\x92s most elite ski town. ',\n",
              "       'Environmentalism usually calls to mind images of peace and serenity, a oneness with nature, and a shared sense of responsibility. But one town in Colorado, under the guise of environmental protection, passed a resolution limiting immigration, bolstering the privilege of the wealthy and scapegoating Latin American newcomers for the area\\x92s current and future ecological problems. This might have escaped attention save for the fact that this wasn\\x92t some rinky-dink backwater. It was Aspen, Colorado, playground of the rich and famous and the West\\x92s most elite ski town. ',\n",
              "       'The book explores how the gaming sector has changed, including the evolution of free-to-play games on mobile and tablet devices, sophisticated subscription model-based products, and games for social media websites, such as Facebook. It also demystifies the alphabet soup of industry terms that have sprouted up around mobile and social game design and monetization. A major focus of the book is on popular mechanisms for acquiring users and methods of monetizing users. The author explains how to put the right kinds of hooks in your games, gather the appropriate metrics, and evaluate that information to increase the game\\x92s overall stickiness and revenue per user. He also discusses the sale of virtual goods and the types of currency used in games, including single and dual currency models. Each chapter includes an interview with industry leaders who share their insight on designing and producing games, analyzing metrics, and much more.',\n",
              "       \"Everyone's favorite first-grade shark expert is back! With more than 3 million copies sold, it's clear that kids are ready for Freddy!\\n\\nNow that Freddy's in first grade he needs a real science experiment for the school fair. But Freddy isn't a science whiz like his best friend, Robbie. When he finally comes up with a plan -- growing mold -- his mom accidentally throws it away! Can he recreate it in time? Or will the fair be a total flop?\",\n",
              "       \"Everyone's favorite first-grade shark expert is back! With more than 3 million copies sold, it's clear that kids are ready for Freddy!\\n\\nNow that Freddy's in first grade he needs a real science experiment for the school fair. But Freddy isn't a science whiz like his best friend, Robbie. When he finally comes up with a plan -- growing mold -- his mom accidentally throws it away! Can he recreate it in time? Or will the fair be a total flop?\",\n",
              "       'On the Backroad to Heaven is a unique guide to the world of Old Order Anabaptist groups. Focusing on four Old Order communities\\x97the Hutterites, Mennonites, Amish, and Brethren\\x97Donald B. Kraybill and Carl Desportes Bowman provide a fascinating overview of their culture, growth, and distinctive way of life. Following a general introduction to Old Order culture, they show how each group uses a different strategy to create and sustain its identity. The Hutterites, for example, keep themselves geographically segregated from the larger society, whereas the Brethren interact more freely with it. The Amish and Mennonites are more alike in how they engage the outside world, adopting a complex but flexible strategy of compromise that produces an evolving canon of social and religious rules. This first comparative study sketches the differences as well as the common threads that bind these groups together.',\n",
              "       \"The first book to link the influence of the planets to the growth of the soul, Spiritual Astrology is a simple yet complete astrological guide to understanding life's higher purpose and finding the key to your personal\",\n",
              "       \"This book describes External \\nCounterPulsation, which is a painless, non-invasive, successful \\ntreatment for patients with heart disease and angina. Pressure cuffs \\nwrapped around a patient's legs and hips squeeze the leg muscles in \\nconjunction with the beating of the heart. The idea behind ECP \\n(Medicare and insurance covered), is to boost blood flow to the heart \\nthrough the natural growth of bypasses around arterial blockages. \\nThis amazing treatment even works in bypass failures. \",\n",
              "       'Leslie Sansone teaches readers how to use their Christian faith to inspire fitness, and fitness to strengthen faith.In response to innumerable requests\\nfrom her fans, Leslie Sansone provides\\na long-awaited faith-based\\nexercise program that shows readers\\nhow to break free of bad mental\\nand physical habits and create a\\nlife of health and fulfillment. This\\neasy-to-follow 30-day program encourages\\nreaders to walk every day\\nto build stamina and burn calories\\nwith daily reflections on scriptural\\nquotes that reaffirm a spiritual\\ncommitment to physical health, Fit Facts on weight loss\\nand nutrition, and testimonies from some of the millions\\nof women who have successfully walked off the pounds\\nwith Leslie. Presented in an appealing and approachable\\nstyle, WALKING THE WALK is a tool readers will\\ntruly use. ',\n",
              "       'Leslie Sansone teaches readers how to use their Christian faith to inspire fitness, and fitness to strengthen faith.In response to innumerable requests\\nfrom her fans, Leslie Sansone provides\\na long-awaited faith-based\\nexercise program that shows readers\\nhow to break free of bad mental\\nand physical habits and create a\\nlife of health and fulfillment. This\\neasy-to-follow 30-day program encourages\\nreaders to walk every day\\nto build stamina and burn calories\\nwith daily reflections on scriptural\\nquotes that reaffirm a spiritual\\ncommitment to physical health, Fit Facts on weight loss\\nand nutrition, and testimonies from some of the millions\\nof women who have successfully walked off the pounds\\nwith Leslie. Presented in an appealing and approachable\\nstyle, WALKING THE WALK is a tool readers will\\ntruly use. ',\n",
              "       'Leslie Sansone teaches readers how to use their Christian faith to inspire fitness, and fitness to strengthen faith.In response to innumerable requests\\nfrom her fans, Leslie Sansone provides\\na long-awaited faith-based\\nexercise program that shows readers\\nhow to break free of bad mental\\nand physical habits and create a\\nlife of health and fulfillment. This\\neasy-to-follow 30-day program encourages\\nreaders to walk every day\\nto build stamina and burn calories\\nwith daily reflections on scriptural\\nquotes that reaffirm a spiritual\\ncommitment to physical health, Fit Facts on weight loss\\nand nutrition, and testimonies from some of the millions\\nof women who have successfully walked off the pounds\\nwith Leslie. Presented in an appealing and approachable\\nstyle, WALKING THE WALK is a tool readers will\\ntruly use. ',\n",
              "       \"It's easy to convey the message to children that their bodies or particular parts of their bodies are shameful. This misconception fuels confusion, embarrassment, and secrecy, and often prevents children from recognizing or reporting sexual abuse.\\n\\nGod Made All of Me is a simply-told, beautifully-illustrated story to help families talk about these sensitive issues with two- to eight-year-old children. Because the private parts of our bodies are private, the home is the ideal environment where a child should learn about his or her body and how it should be treated by others.\",\n",
              "       \"It's easy to convey the message to children that their bodies or particular parts of their bodies are shameful. This misconception fuels confusion, embarrassment, and secrecy, and often prevents children from recognizing or reporting sexual abuse.\\n\\nGod Made All of Me is a simply-told, beautifully-illustrated story to help families talk about these sensitive issues with two- to eight-year-old children. Because the private parts of our bodies are private, the home is the ideal environment where a child should learn about his or her body and how it should be treated by others.\",\n",
              "       \"It's easy to convey the message to children that their bodies or particular parts of their bodies are shameful. This misconception fuels confusion, embarrassment, and secrecy, and often prevents children from recognizing or reporting sexual abuse.\\n\\nGod Made All of Me is a simply-told, beautifully-illustrated story to help families talk about these sensitive issues with two- to eight-year-old children. Because the private parts of our bodies are private, the home is the ideal environment where a child should learn about his or her body and how it should be treated by others.\",\n",
              "       'Under the noses of the military, Georges Loinger smuggles thousands of children out of occupied France into Switzerland. In Belgium, three resisters ambush a train, allowing scores of Jews to flee from the cattle cars. In Poland, four brothers lead more than 1,200 ghetto refugees into the forest to build a guerilla force and self-sufficient village. And twelve-year-old Motele Shlayan entertains German officers with his violin moments before setting off a bomb. Through twenty-one meticulously researched accounts \\x97 some chronicled in book form for the first time \\x97 Doreen Rappaport illuminates the defiance of tens of thousands of Jews across eleven Nazi-occupied countries during World War II. In answer to the genocidal madness that was Hitler\\x92s Holocaust, the only response they could abide was resistance, and their greatest weapons were courage, ingenuity, the will to survive, and the resolve to save others or to die trying. ',\n",
              "       'From Galileo to today\\x92s amateur astronomers, scientists have been rebels, writes Freeman Dyson. Like artists and poets, they are free spirits who resist the restrictions their cultures impose on them. In their pursuit of nature\\x92s truths, they are guided as much by imagination as by reason, and their greatest theories have the uniqueness and beauty of great works of art.Dyson argues that the best way to understand science is by understanding those who practice it. He tells stories of scientists at work, ranging from Isaac Newton\\x92s absorption in physics, alchemy, theology, and politics, to Ernest Rutherford\\x92s discovery of the structure of the atom, to Albert Einstein\\x92s stubborn hostility to the idea of black holes. His descriptions of brilliant physicists like Edward Teller and Richard Feynman are enlivened by his own reminiscences of them. He looks with a skeptical eye at fashionable scientific fads and fantasies, and speculates on the future of climate prediction, genetic engineering, the colonization of space, and the possibility that paranormal phenomena may exist yet not be scientifically verifiable. Dyson also looks beyond particular scientific questions to reflect on broader philosophical issues, such as the limits of reductionism, the morality of strategic bombing and nuclear weapons, the preservation of the environment, and the relationship between science and religion. These essays, by a distinguished physicist who is also a prolific writer, offer informed insights into the history of science and fresh perspectives on contentious current debates about science, ethics, and faith.',\n",
              "       'Once you have had a wonderful dog, a life without one is a life diminished. Dogs live with us in a way that no other creature does. Their contribution to our history has enabled us to be where we are today. It\\x92s a connection that can even have depths beyond those we have with our own species.\\nFor all dog lovers, The Life and Love of Dogs offers hundreds of incredible images by acclaimed photogra\\xadphers from around the world. A textual exploration of our unique relationship with dogs\\x97including a surprising analysis of the qualities that make a dog attractive in our eyes, a detailed look at how the breeds we see today are a product of our own needs and desires, and more\\x97it sheds original light on this great love affair.',\n",
              "       'From the wild salmon caught in the Yukon river in Alaska, to clams harvested from the Mekong delta in Vietnam, this book tells the stories of sustainable fisheries. Each of the 9 chapters focuses on one fish and fishery, accompanied by delicious recipes by Tom Kime. Including a foreword by the MSC on the future of our oceans and its work around the globe, FISH TALES shows the importance of sustainable methods so fish remain a vital ingredient that we can all enjoy for years to come.',\n",
              "       \"This Edition\\xa0of Donatelle\\x92s text provides students with the tools they need to make healthy, lifelong behavior changes and become savvy consumers of health information. This current and user-friendly text holds students\\x92 interest by covering health topics of primary concern to them.\\xa0Promoting Healthy Behavior Change; Psychosocial Health: Being Mentally, Emotionally, Socially, and Spiritually Well; Managing Stress: Coping with Life's Challenges; Violence and Abuse: Creating Healthy Environments; Healthy Relationships and Sexuality: Making Commitments; Birth Control, Pregnancy, and Childbirth: Managing Your Fertility; Licit and Illicit Drugs: Use, Misuse, and Abuse; Alcohol, Tobacco, and Caffeine: Daily Pleasure, Daily Challenges; Nutrition: Eating for Optimum Health; Managing Your Weight: Finding a Healthy Balance; Personal Fitness: Improving Health through Exercise; Cardiovascular Disease: Reducing Your Risk; Cancer: Reducing Your Risk; Infectious and Noninfectious Conditions: Risks and Responsibilities; Life's Transitions: The Aging Process; Environmental Health: Thinking Globally, Acting Locally; Consumerism: Selecting Health Care Products and Services; Complementary and Alternative Medicine: New Choices and Responsibilities for Healthwise Consumers\\xa0For all readers interested in making healthy,lifelong behavior changes.\",\n",
              "       'Chef AJ has a unique ability to create healthy foods that taste great. Whether you want to lower your cholesterol, prevent or reverse many common lifestyle diseases, lose weight or just look and feel great, Chef AJ can show you how to incorporate more fresh fruits and vegetables in your diet in ways that are easy, delicious and fun.'],\n",
              "      dtype='<U1987')"
            ]
          },
          "metadata": {},
          "execution_count": 11
        }
      ],
      "source": [
        "books"
      ]
    },
    {
      "cell_type": "code",
      "execution_count": null,
      "metadata": {
        "id": "YCZQRYKmWoRq"
      },
      "outputs": [],
      "source": [
        "# (a)\n",
        "vectorizer = TfidfVectorizer(stop_words='english')\n",
        "X = vectorizer.fit_transform(books)"
      ]
    },
    {
      "cell_type": "code",
      "execution_count": null,
      "metadata": {
        "colab": {
          "base_uri": "https://localhost:8080/"
        },
        "id": "ozTFg8j6WoRr",
        "outputId": "4bb926ad-7dc4-4a3b-bd7d-af05d2ef4bd9"
      },
      "outputs": [
        {
          "output_type": "execute_result",
          "data": {
            "text/plain": [
              "KMeans(max_iter=100, n_clusters=10, n_init=1)"
            ]
          },
          "metadata": {},
          "execution_count": 13
        }
      ],
      "source": [
        "# (b)\n",
        "true_k = 10\n",
        "model = KMeans(n_clusters=true_k, init='k-means++', max_iter=100, n_init=1)\n",
        "model.fit(X)\n"
      ]
    },
    {
      "cell_type": "code",
      "execution_count": null,
      "metadata": {
        "id": "p9lYSuzzWoRr"
      },
      "outputs": [],
      "source": [
        "df['cluster'] = model.labels_\n"
      ]
    },
    {
      "cell_type": "code",
      "execution_count": null,
      "metadata": {
        "colab": {
          "base_uri": "https://localhost:8080/",
          "height": 424
        },
        "id": "RBQlhx9SWoRs",
        "outputId": "3d7be553-3453-4202-ba17-bad8497a6e05"
      },
      "outputs": [
        {
          "output_type": "execute_result",
          "data": {
            "text/html": [
              "<div>\n",
              "<style scoped>\n",
              "    .dataframe tbody tr th:only-of-type {\n",
              "        vertical-align: middle;\n",
              "    }\n",
              "\n",
              "    .dataframe tbody tr th {\n",
              "        vertical-align: top;\n",
              "    }\n",
              "\n",
              "    .dataframe thead th {\n",
              "        text-align: right;\n",
              "    }\n",
              "</style>\n",
              "<table border=\"1\" class=\"dataframe\">\n",
              "  <thead>\n",
              "    <tr style=\"text-align: right;\">\n",
              "      <th></th>\n",
              "      <th>book_id</th>\n",
              "      <th>name</th>\n",
              "      <th>description</th>\n",
              "      <th>cluster</th>\n",
              "    </tr>\n",
              "  </thead>\n",
              "  <tbody>\n",
              "    <tr>\n",
              "      <th>0</th>\n",
              "      <td>4833.0</td>\n",
              "      <td>The Glass Castle</td>\n",
              "      <td>A tender, moving tale of unconditional love in...</td>\n",
              "      <td>6</td>\n",
              "    </tr>\n",
              "    <tr>\n",
              "      <th>1</th>\n",
              "      <td>590.0</td>\n",
              "      <td>Night (The Night Trilogy, #1)</td>\n",
              "      <td>Born into a Jewish ghetto in Hungary, as a chi...</td>\n",
              "      <td>5</td>\n",
              "    </tr>\n",
              "    <tr>\n",
              "      <th>2</th>\n",
              "      <td>4264.0</td>\n",
              "      <td>Angela's Ashes (Frank McCourt, #1)</td>\n",
              "      <td>Imbued on every page with Frank McCourt's asto...</td>\n",
              "      <td>4</td>\n",
              "    </tr>\n",
              "    <tr>\n",
              "      <th>3</th>\n",
              "      <td>3361.0</td>\n",
              "      <td>Eat, Pray, Love</td>\n",
              "      <td>A celebrated writer's irresistible, candid, an...</td>\n",
              "      <td>5</td>\n",
              "    </tr>\n",
              "    <tr>\n",
              "      <th>4</th>\n",
              "      <td>4535.0</td>\n",
              "      <td>Into Thin Air: A Personal Account of the Mount...</td>\n",
              "      <td>A bank of clouds was assembling on the not-so-...</td>\n",
              "      <td>4</td>\n",
              "    </tr>\n",
              "    <tr>\n",
              "      <th>...</th>\n",
              "      <td>...</td>\n",
              "      <td>...</td>\n",
              "      <td>...</td>\n",
              "      <td>...</td>\n",
              "    </tr>\n",
              "    <tr>\n",
              "      <th>138</th>\n",
              "      <td>3549.0</td>\n",
              "      <td>The Scientist as Rebel (New York Review Books)</td>\n",
              "      <td>From Galileo to todays amateur astronomers, s...</td>\n",
              "      <td>0</td>\n",
              "    </tr>\n",
              "    <tr>\n",
              "      <th>139</th>\n",
              "      <td>2307.0</td>\n",
              "      <td>The Life and Love of Dogs</td>\n",
              "      <td>Once you have had a wonderful dog, a life with...</td>\n",
              "      <td>1</td>\n",
              "    </tr>\n",
              "    <tr>\n",
              "      <th>140</th>\n",
              "      <td>690.0</td>\n",
              "      <td>Fish Tales: Stories &amp; Recipes from Sustainable...</td>\n",
              "      <td>From the wild salmon caught in the Yukon river...</td>\n",
              "      <td>5</td>\n",
              "    </tr>\n",
              "    <tr>\n",
              "      <th>141</th>\n",
              "      <td>3329.0</td>\n",
              "      <td>Health: The Basics (11th Edition)</td>\n",
              "      <td>This Edition of Donatelles text provides stud...</td>\n",
              "      <td>9</td>\n",
              "    </tr>\n",
              "    <tr>\n",
              "      <th>142</th>\n",
              "      <td>1545.0</td>\n",
              "      <td>Unprocessed: How to achieve vibrant health and...</td>\n",
              "      <td>Chef AJ has a unique ability to create healthy...</td>\n",
              "      <td>5</td>\n",
              "    </tr>\n",
              "  </tbody>\n",
              "</table>\n",
              "<p>143 rows × 4 columns</p>\n",
              "</div>"
            ],
            "text/plain": [
              "     book_id  ... cluster\n",
              "0     4833.0  ...       6\n",
              "1      590.0  ...       5\n",
              "2     4264.0  ...       4\n",
              "3     3361.0  ...       5\n",
              "4     4535.0  ...       4\n",
              "..       ...  ...     ...\n",
              "138   3549.0  ...       0\n",
              "139   2307.0  ...       1\n",
              "140    690.0  ...       5\n",
              "141   3329.0  ...       9\n",
              "142   1545.0  ...       5\n",
              "\n",
              "[143 rows x 4 columns]"
            ]
          },
          "metadata": {},
          "execution_count": 15
        }
      ],
      "source": [
        "df"
      ]
    },
    {
      "cell_type": "code",
      "execution_count": null,
      "metadata": {
        "colab": {
          "base_uri": "https://localhost:8080/"
        },
        "id": "Nf8qNt2yWoRs",
        "outputId": "94f5b9e4-6d0e-443a-a473-dc9ec6f91c61"
      },
      "outputs": [
        {
          "output_type": "stream",
          "name": "stdout",
          "text": [
            "Top terms per cluster:\n",
            "Cluster 0:\n",
            " freddy\n",
            " science\n",
            " grade\n",
            " fair\n",
            " lucky\n",
            " charlie\n",
            " school\n",
            " salma\n",
            " clear\n",
            " plan\n",
            "\n",
            "\n",
            "Cluster 1:\n",
            " disorder\n",
            " does\n",
            " traig\n",
            " sleep\n",
            " mommy\n",
            " dogs\n",
            " little\n",
            " life\n",
            " dog\n",
            " offers\n",
            "\n",
            "\n",
            "Cluster 2:\n",
            " cnidarians\n",
            " biology\n",
            " book\n",
            " popular\n",
            " animals\n",
            " group\n",
            " phylum\n",
            " contains\n",
            " details\n",
            " volume\n",
            "\n",
            "\n"
          ]
        },
        {
          "output_type": "stream",
          "name": "stderr",
          "text": [
            "/usr/local/lib/python3.7/dist-packages/sklearn/utils/deprecation.py:87: FutureWarning: Function get_feature_names is deprecated; get_feature_names is deprecated in 1.0 and will be removed in 1.2. Please use get_feature_names_out instead.\n",
            "  warnings.warn(msg, category=FutureWarning)\n"
          ]
        }
      ],
      "source": [
        "# (C)\n",
        "print(f\"Top terms per cluster:\")\n",
        "order_centroids = model.cluster_centers_.argsort()[:, ::-1]\n",
        "terms = vectorizer.get_feature_names()\n",
        "for i in range(3):\n",
        "    print(\"Cluster %d:\" % i),\n",
        "    for ind in order_centroids[i, :10]:\n",
        "        print(' %s' % terms[ind]),\n",
        "    print(\"\\n\")"
      ]
    },
    {
      "cell_type": "code",
      "execution_count": null,
      "metadata": {
        "colab": {
          "base_uri": "https://localhost:8080/"
        },
        "id": "_c8x7ZwfWoRt",
        "outputId": "a2189545-58cc-420f-822a-1ee38683b691"
      },
      "outputs": [
        {
          "output_type": "stream",
          "name": "stdout",
          "text": [
            "Prediction :[5]\n"
          ]
        }
      ],
      "source": [
        "#Testing the model\n",
        "\n",
        "Y = vectorizer.transform([\"chrome browser open\"])\n",
        "prediction = model.predict(Y)\n",
        "print(f\"Prediction :{prediction}\")"
      ]
    },
    {
      "cell_type": "code",
      "execution_count": null,
      "metadata": {
        "colab": {
          "base_uri": "https://localhost:8080/"
        },
        "id": "dnBZ968FWoRu",
        "outputId": "0d35e09c-b4a8-454a-d715-aaa0a82a2b46"
      },
      "outputs": [
        {
          "output_type": "stream",
          "name": "stdout",
          "text": [
            "Cluster for 136th book :4\n"
          ]
        }
      ],
      "source": [
        "# (d)\n",
        "cluster_num = df.iloc[135][\"cluster\"]\n",
        "print(f\"Cluster for 136th book :{cluster_num}\")"
      ]
    },
    {
      "cell_type": "code",
      "execution_count": null,
      "metadata": {
        "colab": {
          "base_uri": "https://localhost:8080/",
          "height": 405
        },
        "id": "BH0akbedWoRw",
        "outputId": "3e31991d-5b38-4b99-b459-0c751fa56307"
      },
      "outputs": [
        {
          "output_type": "stream",
          "name": "stderr",
          "text": [
            "/usr/local/lib/python3.7/dist-packages/seaborn/_decorators.py:43: FutureWarning: Pass the following variables as keyword args: x, y. From version 0.12, the only valid positional argument will be `data`, and passing other arguments without an explicit keyword will result in an error or misinterpretation.\n",
            "  FutureWarning\n"
          ]
        },
        {
          "output_type": "display_data",
          "data": {
            "image/png": "[encoded data removed]",
            "text/plain": [
              "<Figure size 720x360 with 1 Axes>"
            ]
          },
          "metadata": {
            "needs_background": "light"
          }
        }
      ],
      "source": [
        "# (e)\n",
        "# Using the elbow method to find the optimal number of clusters\n",
        "from sklearn.cluster import KMeans\n",
        "wcss = []\n",
        "for i in range(1, 11):\n",
        "    kmeans = KMeans(n_clusters = i, init = 'k-means++', random_state = 42)\n",
        "    kmeans.fit(X)\n",
        "    # inertia method returns wcss for that model\n",
        "    wcss.append(kmeans.inertia_)\n",
        "\n",
        "\n",
        "plt.figure(figsize=(10,5))\n",
        "sns.lineplot(range(1, 11), wcss,marker='o',color='blue')\n",
        "plt.title('The Elbow Method')\n",
        "plt.xlabel('Number of clusters')\n",
        "plt.ylabel('WCSS')\n",
        "plt.show()"
      ]
    },
    {
      "cell_type": "markdown",
      "metadata": {
        "id": "HF1TttY5WoRx"
      },
      "source": [
        "# Question TWO"
      ]
    },
    {
      "cell_type": "code",
      "execution_count": null,
      "metadata": {
        "id": "hBLskT8AWoRx"
      },
      "outputs": [],
      "source": [
        "import numpy as np\n",
        "from sklearn.model_selection import train_test_split\n",
        "from sklearn.ensemble import AdaBoostClassifier\n",
        "from sklearn.metrics import classification_report\n",
        "from sklearn.ensemble import GradientBoostingClassifier\n",
        "from sklearn.ensemble import VotingClassifier\n",
        "from sklearn.tree import DecisionTreeClassifier\n",
        "from sklearn.svm import SVC\n",
        "from sklearn.naive_bayes import GaussianNB\n",
        "from sklearn.preprocessing import StandardScaler\n",
        "import pickle\n",
        "from sklearn.metrics import confusion_matrix\n",
        "import seaborn as sns"
      ]
    },
    {
      "cell_type": "code",
      "execution_count": null,
      "metadata": {
        "id": "0_AD2BmrWoRy"
      },
      "outputs": [],
      "source": [
        "df2 = pd.read_csv('/content/drive/My Drive/Colab Notebooks/memproc.csv')"
      ]
    },
    {
      "cell_type": "code",
      "execution_count": null,
      "metadata": {
        "colab": {
          "base_uri": "https://localhost:8080/",
          "height": 206
        },
        "id": "gj_W_NQFWoRy",
        "outputId": "4278c835-26ce-4904-ce67-6415d4a42531"
      },
      "outputs": [
        {
          "output_type": "execute_result",
          "data": {
            "text/html": [
              "<div>\n",
              "<style scoped>\n",
              "    .dataframe tbody tr th:only-of-type {\n",
              "        vertical-align: middle;\n",
              "    }\n",
              "\n",
              "    .dataframe tbody tr th {\n",
              "        vertical-align: top;\n",
              "    }\n",
              "\n",
              "    .dataframe thead th {\n",
              "        text-align: right;\n",
              "    }\n",
              "</style>\n",
              "<table border=\"1\" class=\"dataframe\">\n",
              "  <thead>\n",
              "    <tr style=\"text-align: right;\">\n",
              "      <th></th>\n",
              "      <th>host</th>\n",
              "      <th>proc</th>\n",
              "      <th>mem</th>\n",
              "      <th>state</th>\n",
              "    </tr>\n",
              "  </thead>\n",
              "  <tbody>\n",
              "    <tr>\n",
              "      <th>0</th>\n",
              "      <td>crisnd6378</td>\n",
              "      <td>-1.735788</td>\n",
              "      <td>-0.722979</td>\n",
              "      <td>Normal</td>\n",
              "    </tr>\n",
              "    <tr>\n",
              "      <th>1</th>\n",
              "      <td>crisnd5885</td>\n",
              "      <td>-0.568770</td>\n",
              "      <td>-1.934926</td>\n",
              "      <td>Normal</td>\n",
              "    </tr>\n",
              "    <tr>\n",
              "      <th>2</th>\n",
              "      <td>crisnd4508</td>\n",
              "      <td>-1.102691</td>\n",
              "      <td>-2.629311</td>\n",
              "      <td>Normal</td>\n",
              "    </tr>\n",
              "    <tr>\n",
              "      <th>3</th>\n",
              "      <td>crisnd6376</td>\n",
              "      <td>-2.010346</td>\n",
              "      <td>-1.778285</td>\n",
              "      <td>Normal</td>\n",
              "    </tr>\n",
              "    <tr>\n",
              "      <th>4</th>\n",
              "      <td>crisnd1301</td>\n",
              "      <td>-0.683525</td>\n",
              "      <td>-0.396034</td>\n",
              "      <td>Normal</td>\n",
              "    </tr>\n",
              "  </tbody>\n",
              "</table>\n",
              "</div>"
            ],
            "text/plain": [
              "         host      proc       mem   state\n",
              "0  crisnd6378 -1.735788 -0.722979  Normal\n",
              "1  crisnd5885 -0.568770 -1.934926  Normal\n",
              "2  crisnd4508 -1.102691 -2.629311  Normal\n",
              "3  crisnd6376 -2.010346 -1.778285  Normal\n",
              "4  crisnd1301 -0.683525 -0.396034  Normal"
            ]
          },
          "metadata": {},
          "execution_count": 24
        }
      ],
      "source": [
        "df2.head()"
      ]
    },
    {
      "cell_type": "code",
      "execution_count": null,
      "metadata": {
        "colab": {
          "base_uri": "https://localhost:8080/"
        },
        "id": "X0_gN8ptWoRy",
        "outputId": "d60ea3b6-61aa-466a-88cb-a00b57d33745"
      },
      "outputs": [
        {
          "output_type": "stream",
          "name": "stdout",
          "text": [
            "<class 'pandas.core.frame.DataFrame'>\n",
            "RangeIndex: 247 entries, 0 to 246\n",
            "Data columns (total 4 columns):\n",
            " #   Column  Non-Null Count  Dtype  \n",
            "---  ------  --------------  -----  \n",
            " 0   host    247 non-null    object \n",
            " 1   proc    247 non-null    float64\n",
            " 2   mem     247 non-null    float64\n",
            " 3   state   247 non-null    object \n",
            "dtypes: float64(2), object(2)\n",
            "memory usage: 7.8+ KB\n"
          ]
        }
      ],
      "source": [
        "df2.info()"
      ]
    },
    {
      "cell_type": "code",
      "execution_count": null,
      "metadata": {
        "colab": {
          "base_uri": "https://localhost:8080/"
        },
        "id": "xTmk4hIdWoRz",
        "outputId": "09a95389-22bd-4962-d9bc-62367bbac932"
      },
      "outputs": [
        {
          "output_type": "execute_result",
          "data": {
            "text/plain": [
              "Normal      194\n",
              "Infected     53\n",
              "Name: state, dtype: int64"
            ]
          },
          "metadata": {},
          "execution_count": 26
        }
      ],
      "source": [
        "df2['state'].value_counts()"
      ]
    },
    {
      "cell_type": "code",
      "execution_count": null,
      "metadata": {
        "colab": {
          "base_uri": "https://localhost:8080/"
        },
        "id": "unGze6VCWoRz",
        "outputId": "0828db3f-43bc-4260-a0a3-91cc2a77936d"
      },
      "outputs": [
        {
          "output_type": "execute_result",
          "data": {
            "text/plain": [
              "array(['Normal', 'Infected'], dtype=object)"
            ]
          },
          "metadata": {},
          "execution_count": 27
        }
      ],
      "source": [
        "df2['state'].unique()"
      ]
    },
    {
      "cell_type": "code",
      "execution_count": null,
      "metadata": {
        "id": "1KEbFVMNWoRz"
      },
      "outputs": [],
      "source": [
        "# (a)\n",
        "df2.drop(['host'],axis=1,inplace=True)"
      ]
    },
    {
      "cell_type": "code",
      "execution_count": null,
      "metadata": {
        "colab": {
          "base_uri": "https://localhost:8080/",
          "height": 206
        },
        "id": "3dZtmVQvWoR0",
        "outputId": "5a8fb433-2431-46b2-f953-a6edd478af07"
      },
      "outputs": [
        {
          "output_type": "execute_result",
          "data": {
            "text/html": [
              "<div>\n",
              "<style scoped>\n",
              "    .dataframe tbody tr th:only-of-type {\n",
              "        vertical-align: middle;\n",
              "    }\n",
              "\n",
              "    .dataframe tbody tr th {\n",
              "        vertical-align: top;\n",
              "    }\n",
              "\n",
              "    .dataframe thead th {\n",
              "        text-align: right;\n",
              "    }\n",
              "</style>\n",
              "<table border=\"1\" class=\"dataframe\">\n",
              "  <thead>\n",
              "    <tr style=\"text-align: right;\">\n",
              "      <th></th>\n",
              "      <th>proc</th>\n",
              "      <th>mem</th>\n",
              "      <th>state</th>\n",
              "    </tr>\n",
              "  </thead>\n",
              "  <tbody>\n",
              "    <tr>\n",
              "      <th>0</th>\n",
              "      <td>-1.735788</td>\n",
              "      <td>-0.722979</td>\n",
              "      <td>Normal</td>\n",
              "    </tr>\n",
              "    <tr>\n",
              "      <th>1</th>\n",
              "      <td>-0.568770</td>\n",
              "      <td>-1.934926</td>\n",
              "      <td>Normal</td>\n",
              "    </tr>\n",
              "    <tr>\n",
              "      <th>2</th>\n",
              "      <td>-1.102691</td>\n",
              "      <td>-2.629311</td>\n",
              "      <td>Normal</td>\n",
              "    </tr>\n",
              "    <tr>\n",
              "      <th>3</th>\n",
              "      <td>-2.010346</td>\n",
              "      <td>-1.778285</td>\n",
              "      <td>Normal</td>\n",
              "    </tr>\n",
              "    <tr>\n",
              "      <th>4</th>\n",
              "      <td>-0.683525</td>\n",
              "      <td>-0.396034</td>\n",
              "      <td>Normal</td>\n",
              "    </tr>\n",
              "  </tbody>\n",
              "</table>\n",
              "</div>"
            ],
            "text/plain": [
              "       proc       mem   state\n",
              "0 -1.735788 -0.722979  Normal\n",
              "1 -0.568770 -1.934926  Normal\n",
              "2 -1.102691 -2.629311  Normal\n",
              "3 -2.010346 -1.778285  Normal\n",
              "4 -0.683525 -0.396034  Normal"
            ]
          },
          "metadata": {},
          "execution_count": 29
        }
      ],
      "source": [
        "df2.head()"
      ]
    },
    {
      "cell_type": "code",
      "execution_count": null,
      "metadata": {
        "colab": {
          "base_uri": "https://localhost:8080/",
          "height": 206
        },
        "id": "shr-sILIWoR0",
        "outputId": "9e554797-dbb0-41f0-e6da-e19b2cd870ae"
      },
      "outputs": [
        {
          "output_type": "execute_result",
          "data": {
            "text/html": [
              "<div>\n",
              "<style scoped>\n",
              "    .dataframe tbody tr th:only-of-type {\n",
              "        vertical-align: middle;\n",
              "    }\n",
              "\n",
              "    .dataframe tbody tr th {\n",
              "        vertical-align: top;\n",
              "    }\n",
              "\n",
              "    .dataframe thead th {\n",
              "        text-align: right;\n",
              "    }\n",
              "</style>\n",
              "<table border=\"1\" class=\"dataframe\">\n",
              "  <thead>\n",
              "    <tr style=\"text-align: right;\">\n",
              "      <th></th>\n",
              "      <th>proc</th>\n",
              "      <th>mem</th>\n",
              "      <th>state</th>\n",
              "    </tr>\n",
              "  </thead>\n",
              "  <tbody>\n",
              "    <tr>\n",
              "      <th>242</th>\n",
              "      <td>3.142826</td>\n",
              "      <td>0.329150</td>\n",
              "      <td>Infected</td>\n",
              "    </tr>\n",
              "    <tr>\n",
              "      <th>243</th>\n",
              "      <td>1.054215</td>\n",
              "      <td>0.711637</td>\n",
              "      <td>Infected</td>\n",
              "    </tr>\n",
              "    <tr>\n",
              "      <th>244</th>\n",
              "      <td>0.410152</td>\n",
              "      <td>2.400802</td>\n",
              "      <td>Infected</td>\n",
              "    </tr>\n",
              "    <tr>\n",
              "      <th>245</th>\n",
              "      <td>-0.075083</td>\n",
              "      <td>-0.571929</td>\n",
              "      <td>Normal</td>\n",
              "    </tr>\n",
              "    <tr>\n",
              "      <th>246</th>\n",
              "      <td>0.172419</td>\n",
              "      <td>0.808297</td>\n",
              "      <td>Infected</td>\n",
              "    </tr>\n",
              "  </tbody>\n",
              "</table>\n",
              "</div>"
            ],
            "text/plain": [
              "         proc       mem     state\n",
              "242  3.142826  0.329150  Infected\n",
              "243  1.054215  0.711637  Infected\n",
              "244  0.410152  2.400802  Infected\n",
              "245 -0.075083 -0.571929    Normal\n",
              "246  0.172419  0.808297  Infected"
            ]
          },
          "metadata": {},
          "execution_count": 30
        }
      ],
      "source": [
        "df2.tail()"
      ]
    },
    {
      "cell_type": "code",
      "execution_count": null,
      "metadata": {
        "colab": {
          "base_uri": "https://localhost:8080/",
          "height": 300
        },
        "id": "r7Sq5SHgWoR3",
        "outputId": "b999c255-05bf-4b48-b03d-1c592840e802"
      },
      "outputs": [
        {
          "output_type": "execute_result",
          "data": {
            "text/html": [
              "<div>\n",
              "<style scoped>\n",
              "    .dataframe tbody tr th:only-of-type {\n",
              "        vertical-align: middle;\n",
              "    }\n",
              "\n",
              "    .dataframe tbody tr th {\n",
              "        vertical-align: top;\n",
              "    }\n",
              "\n",
              "    .dataframe thead th {\n",
              "        text-align: right;\n",
              "    }\n",
              "</style>\n",
              "<table border=\"1\" class=\"dataframe\">\n",
              "  <thead>\n",
              "    <tr style=\"text-align: right;\">\n",
              "      <th></th>\n",
              "      <th>proc</th>\n",
              "      <th>mem</th>\n",
              "    </tr>\n",
              "  </thead>\n",
              "  <tbody>\n",
              "    <tr>\n",
              "      <th>count</th>\n",
              "      <td>247.000000</td>\n",
              "      <td>247.000000</td>\n",
              "    </tr>\n",
              "    <tr>\n",
              "      <th>mean</th>\n",
              "      <td>-0.428731</td>\n",
              "      <td>-0.518138</td>\n",
              "    </tr>\n",
              "    <tr>\n",
              "      <th>std</th>\n",
              "      <td>1.228676</td>\n",
              "      <td>1.311917</td>\n",
              "    </tr>\n",
              "    <tr>\n",
              "      <th>min</th>\n",
              "      <td>-3.151675</td>\n",
              "      <td>-3.593867</td>\n",
              "    </tr>\n",
              "    <tr>\n",
              "      <th>25%</th>\n",
              "      <td>-1.205594</td>\n",
              "      <td>-1.420167</td>\n",
              "    </tr>\n",
              "    <tr>\n",
              "      <th>50%</th>\n",
              "      <td>-0.448406</td>\n",
              "      <td>-0.621155</td>\n",
              "    </tr>\n",
              "    <tr>\n",
              "      <th>75%</th>\n",
              "      <td>0.368877</td>\n",
              "      <td>0.241259</td>\n",
              "    </tr>\n",
              "    <tr>\n",
              "      <th>max</th>\n",
              "      <td>3.142826</td>\n",
              "      <td>3.218415</td>\n",
              "    </tr>\n",
              "  </tbody>\n",
              "</table>\n",
              "</div>"
            ],
            "text/plain": [
              "             proc         mem\n",
              "count  247.000000  247.000000\n",
              "mean    -0.428731   -0.518138\n",
              "std      1.228676    1.311917\n",
              "min     -3.151675   -3.593867\n",
              "25%     -1.205594   -1.420167\n",
              "50%     -0.448406   -0.621155\n",
              "75%      0.368877    0.241259\n",
              "max      3.142826    3.218415"
            ]
          },
          "metadata": {},
          "execution_count": 31
        }
      ],
      "source": [
        "df2.describe()"
      ]
    },
    {
      "cell_type": "code",
      "execution_count": null,
      "metadata": {
        "id": "UaRpFCONWoR4"
      },
      "outputs": [],
      "source": [
        "# (b)\n",
        "df2['state'],_=pd.factorize(df2['state'])"
      ]
    },
    {
      "cell_type": "code",
      "execution_count": null,
      "metadata": {
        "colab": {
          "base_uri": "https://localhost:8080/",
          "height": 206
        },
        "id": "T8Lz0lakWoR4",
        "outputId": "8ef7f27f-3b46-4851-ec15-b42dbf814094"
      },
      "outputs": [
        {
          "output_type": "execute_result",
          "data": {
            "text/html": [
              "<div>\n",
              "<style scoped>\n",
              "    .dataframe tbody tr th:only-of-type {\n",
              "        vertical-align: middle;\n",
              "    }\n",
              "\n",
              "    .dataframe tbody tr th {\n",
              "        vertical-align: top;\n",
              "    }\n",
              "\n",
              "    .dataframe thead th {\n",
              "        text-align: right;\n",
              "    }\n",
              "</style>\n",
              "<table border=\"1\" class=\"dataframe\">\n",
              "  <thead>\n",
              "    <tr style=\"text-align: right;\">\n",
              "      <th></th>\n",
              "      <th>proc</th>\n",
              "      <th>mem</th>\n",
              "      <th>state</th>\n",
              "    </tr>\n",
              "  </thead>\n",
              "  <tbody>\n",
              "    <tr>\n",
              "      <th>0</th>\n",
              "      <td>-1.735788</td>\n",
              "      <td>-0.722979</td>\n",
              "      <td>0</td>\n",
              "    </tr>\n",
              "    <tr>\n",
              "      <th>1</th>\n",
              "      <td>-0.568770</td>\n",
              "      <td>-1.934926</td>\n",
              "      <td>0</td>\n",
              "    </tr>\n",
              "    <tr>\n",
              "      <th>2</th>\n",
              "      <td>-1.102691</td>\n",
              "      <td>-2.629311</td>\n",
              "      <td>0</td>\n",
              "    </tr>\n",
              "    <tr>\n",
              "      <th>3</th>\n",
              "      <td>-2.010346</td>\n",
              "      <td>-1.778285</td>\n",
              "      <td>0</td>\n",
              "    </tr>\n",
              "    <tr>\n",
              "      <th>4</th>\n",
              "      <td>-0.683525</td>\n",
              "      <td>-0.396034</td>\n",
              "      <td>0</td>\n",
              "    </tr>\n",
              "  </tbody>\n",
              "</table>\n",
              "</div>"
            ],
            "text/plain": [
              "       proc       mem  state\n",
              "0 -1.735788 -0.722979      0\n",
              "1 -0.568770 -1.934926      0\n",
              "2 -1.102691 -2.629311      0\n",
              "3 -2.010346 -1.778285      0\n",
              "4 -0.683525 -0.396034      0"
            ]
          },
          "metadata": {},
          "execution_count": 33
        }
      ],
      "source": [
        "df2.head()"
      ]
    },
    {
      "cell_type": "code",
      "execution_count": null,
      "metadata": {
        "colab": {
          "base_uri": "https://localhost:8080/"
        },
        "id": "5-yj_UNXWoR5",
        "outputId": "71db45f9-ebf8-47c2-8233-0d939e8d89d8"
      },
      "outputs": [
        {
          "output_type": "execute_result",
          "data": {
            "text/plain": [
              "0    194\n",
              "1     53\n",
              "Name: state, dtype: int64"
            ]
          },
          "metadata": {},
          "execution_count": 34
        }
      ],
      "source": [
        "df2['state'].value_counts()"
      ]
    },
    {
      "cell_type": "code",
      "execution_count": null,
      "metadata": {
        "id": "NcIzSK71WoR5"
      },
      "outputs": [],
      "source": [
        "X = df2.drop(['state'],axis=1)\n",
        "y = df2['state']"
      ]
    },
    {
      "cell_type": "code",
      "execution_count": null,
      "metadata": {
        "colab": {
          "base_uri": "https://localhost:8080/",
          "height": 206
        },
        "id": "ygPTNsOXWoR6",
        "outputId": "10d75b38-5196-49a8-c1d4-b4e0ef9e5ae9"
      },
      "outputs": [
        {
          "output_type": "execute_result",
          "data": {
            "text/html": [
              "<div>\n",
              "<style scoped>\n",
              "    .dataframe tbody tr th:only-of-type {\n",
              "        vertical-align: middle;\n",
              "    }\n",
              "\n",
              "    .dataframe tbody tr th {\n",
              "        vertical-align: top;\n",
              "    }\n",
              "\n",
              "    .dataframe thead th {\n",
              "        text-align: right;\n",
              "    }\n",
              "</style>\n",
              "<table border=\"1\" class=\"dataframe\">\n",
              "  <thead>\n",
              "    <tr style=\"text-align: right;\">\n",
              "      <th></th>\n",
              "      <th>proc</th>\n",
              "      <th>mem</th>\n",
              "    </tr>\n",
              "  </thead>\n",
              "  <tbody>\n",
              "    <tr>\n",
              "      <th>0</th>\n",
              "      <td>-1.735788</td>\n",
              "      <td>-0.722979</td>\n",
              "    </tr>\n",
              "    <tr>\n",
              "      <th>1</th>\n",
              "      <td>-0.568770</td>\n",
              "      <td>-1.934926</td>\n",
              "    </tr>\n",
              "    <tr>\n",
              "      <th>2</th>\n",
              "      <td>-1.102691</td>\n",
              "      <td>-2.629311</td>\n",
              "    </tr>\n",
              "    <tr>\n",
              "      <th>3</th>\n",
              "      <td>-2.010346</td>\n",
              "      <td>-1.778285</td>\n",
              "    </tr>\n",
              "    <tr>\n",
              "      <th>4</th>\n",
              "      <td>-0.683525</td>\n",
              "      <td>-0.396034</td>\n",
              "    </tr>\n",
              "  </tbody>\n",
              "</table>\n",
              "</div>"
            ],
            "text/plain": [
              "       proc       mem\n",
              "0 -1.735788 -0.722979\n",
              "1 -0.568770 -1.934926\n",
              "2 -1.102691 -2.629311\n",
              "3 -2.010346 -1.778285\n",
              "4 -0.683525 -0.396034"
            ]
          },
          "metadata": {},
          "execution_count": 36
        }
      ],
      "source": [
        "X.head()"
      ]
    },
    {
      "cell_type": "code",
      "execution_count": null,
      "metadata": {
        "colab": {
          "base_uri": "https://localhost:8080/"
        },
        "id": "jRp-bSy1WoR6",
        "outputId": "e1d42f4b-9446-41ca-9f88-3715597140b2"
      },
      "outputs": [
        {
          "output_type": "execute_result",
          "data": {
            "text/plain": [
              "0    0\n",
              "1    0\n",
              "2    0\n",
              "3    0\n",
              "4    0\n",
              "Name: state, dtype: int64"
            ]
          },
          "metadata": {},
          "execution_count": 37
        }
      ],
      "source": [
        "y.head()"
      ]
    },
    {
      "cell_type": "code",
      "execution_count": null,
      "metadata": {
        "id": "MGLl6u63WoR7"
      },
      "outputs": [],
      "source": [
        "scaler = StandardScaler()\n",
        "X_scaled = scaler.fit_transform(X)"
      ]
    },
    {
      "cell_type": "code",
      "execution_count": null,
      "metadata": {
        "id": "f4V10FyRWoR7"
      },
      "outputs": [],
      "source": [
        "# (c)\n",
        "X_train,X_test,y_train,y_test = train_test_split(X_scaled,y,test_size=0.2,random_state=42)"
      ]
    },
    {
      "cell_type": "code",
      "execution_count": null,
      "metadata": {
        "colab": {
          "base_uri": "https://localhost:8080/"
        },
        "id": "1C3aJWUSWoR8",
        "outputId": "d32616cb-23f8-48c2-bb0d-ce1c43cdcc89"
      },
      "outputs": [
        {
          "output_type": "execute_result",
          "data": {
            "text/plain": [
              "(197, 2)"
            ]
          },
          "metadata": {},
          "execution_count": 40
        }
      ],
      "source": [
        "X_train.shape"
      ]
    },
    {
      "cell_type": "code",
      "execution_count": null,
      "metadata": {
        "colab": {
          "base_uri": "https://localhost:8080/"
        },
        "id": "0WXjJA8_WoR8",
        "outputId": "aa5db90f-51a5-4f02-8353-4beeb5b6555e"
      },
      "outputs": [
        {
          "output_type": "execute_result",
          "data": {
            "text/plain": [
              "(50, 2)"
            ]
          },
          "metadata": {},
          "execution_count": 41
        }
      ],
      "source": [
        "X_test.shape"
      ]
    },
    {
      "cell_type": "code",
      "execution_count": null,
      "metadata": {
        "colab": {
          "base_uri": "https://localhost:8080/"
        },
        "id": "1lLT995pWoR9",
        "outputId": "eb873085-bc5d-4f08-9eb3-5f0c7180cf99"
      },
      "outputs": [
        {
          "output_type": "execute_result",
          "data": {
            "text/plain": [
              "(197,)"
            ]
          },
          "metadata": {},
          "execution_count": 42
        }
      ],
      "source": [
        "y_train.shape"
      ]
    },
    {
      "cell_type": "code",
      "execution_count": null,
      "metadata": {
        "colab": {
          "base_uri": "https://localhost:8080/"
        },
        "id": "8KcKKJBBWoR9",
        "outputId": "04494d64-2f2f-4102-d2ff-114a66d31c7e"
      },
      "outputs": [
        {
          "output_type": "execute_result",
          "data": {
            "text/plain": [
              "(50,)"
            ]
          },
          "metadata": {},
          "execution_count": 43
        }
      ],
      "source": [
        "y_test.shape"
      ]
    },
    {
      "cell_type": "code",
      "execution_count": null,
      "metadata": {
        "id": "iuS_vx92WoR-"
      },
      "outputs": [],
      "source": [
        "# (d)\n",
        "ada = AdaBoostClassifier()"
      ]
    },
    {
      "cell_type": "code",
      "execution_count": null,
      "metadata": {
        "colab": {
          "base_uri": "https://localhost:8080/"
        },
        "id": "3-F8MinfWoR-",
        "outputId": "444c8b24-b7b8-4fb5-a4f8-df2d88930b50"
      },
      "outputs": [
        {
          "output_type": "execute_result",
          "data": {
            "text/plain": [
              "AdaBoostClassifier()"
            ]
          },
          "metadata": {},
          "execution_count": 45
        }
      ],
      "source": [
        "#TRAIN the ADABOOST model\n",
        "ada.fit(X_train,y_train)"
      ]
    },
    {
      "cell_type": "code",
      "execution_count": null,
      "metadata": {
        "id": "sui0SWTmWoR_"
      },
      "outputs": [],
      "source": [
        "#Predict\n",
        "ypred_ad = ada.predict(X_test)"
      ]
    },
    {
      "cell_type": "code",
      "execution_count": null,
      "metadata": {
        "colab": {
          "base_uri": "https://localhost:8080/"
        },
        "id": "UXNClIpdWoR_",
        "outputId": "59f3a662-6354-460f-8f66-34a43e74868d"
      },
      "outputs": [
        {
          "output_type": "stream",
          "name": "stdout",
          "text": [
            "The classification report for Adaboost is:\n",
            "               precision    recall  f1-score   support\n",
            "\n",
            "           0       0.97      0.95      0.96        40\n",
            "           1       0.82      0.90      0.86        10\n",
            "\n",
            "    accuracy                           0.94        50\n",
            "   macro avg       0.90      0.93      0.91        50\n",
            "weighted avg       0.94      0.94      0.94        50\n",
            "\n"
          ]
        }
      ],
      "source": [
        "print('The classification report for Adaboost is:\\n',classification_report(y_test,ypred_ad))"
      ]
    },
    {
      "cell_type": "code",
      "execution_count": null,
      "metadata": {
        "id": "FvVjuQ_bWoR_"
      },
      "outputs": [],
      "source": [
        "# (e)\n",
        "grad =  GradientBoostingClassifier()"
      ]
    },
    {
      "cell_type": "code",
      "execution_count": null,
      "metadata": {
        "colab": {
          "base_uri": "https://localhost:8080/"
        },
        "id": "jdq8gMfuWoSA",
        "outputId": "299cea6f-ec5f-4720-fca0-ac8039e7aaae"
      },
      "outputs": [
        {
          "output_type": "execute_result",
          "data": {
            "text/plain": [
              "GradientBoostingClassifier()"
            ]
          },
          "metadata": {},
          "execution_count": 49
        }
      ],
      "source": [
        "#Train the GradientBoosting Model\n",
        "grad.fit(X_train,y_train)"
      ]
    },
    {
      "cell_type": "code",
      "execution_count": null,
      "metadata": {
        "id": "25W6FgGAWoSA"
      },
      "outputs": [],
      "source": [
        "#Predict using GradientDescent\n",
        "y_gr = grad.predict(X_test)"
      ]
    },
    {
      "cell_type": "code",
      "execution_count": null,
      "metadata": {
        "colab": {
          "base_uri": "https://localhost:8080/"
        },
        "id": "8cXrQIZiWoSB",
        "outputId": "3bb0f70e-7867-4dec-9ad9-90a1726f07d2"
      },
      "outputs": [
        {
          "output_type": "stream",
          "name": "stdout",
          "text": [
            "The classification report for Gradientboost classifier is:\n",
            "               precision    recall  f1-score   support\n",
            "\n",
            "           0       0.95      0.95      0.95        40\n",
            "           1       0.80      0.80      0.80        10\n",
            "\n",
            "    accuracy                           0.92        50\n",
            "   macro avg       0.88      0.88      0.88        50\n",
            "weighted avg       0.92      0.92      0.92        50\n",
            "\n"
          ]
        }
      ],
      "source": [
        "print('The classification report for Gradientboost classifier is:\\n', classification_report(y_test,y_gr))"
      ]
    },
    {
      "cell_type": "code",
      "execution_count": null,
      "metadata": {
        "id": "Z2Hb696XWoSB"
      },
      "outputs": [],
      "source": [
        "# (f)\n",
        "from sklearn.ensemble import VotingClassifier\n",
        "from sklearn.tree import DecisionTreeClassifier\n",
        "from sklearn.svm import SVC\n",
        "from sklearn.naive_bayes import GaussianNB\n",
        "\n",
        "#Define the respective models for the VotingClassifier\n",
        "dtc = DecisionTreeClassifier()\n",
        "svm_cl = SVC()\n",
        "naive = GaussianNB()"
      ]
    },
    {
      "cell_type": "code",
      "execution_count": null,
      "metadata": {
        "colab": {
          "base_uri": "https://localhost:8080/"
        },
        "id": "KQ4wCb42WoSB",
        "outputId": "2e389aa2-5cf1-448d-d047-9bdf04d81f90"
      },
      "outputs": [
        {
          "output_type": "execute_result",
          "data": {
            "text/plain": [
              "VotingClassifier(estimators=[('DTC', DecisionTreeClassifier()), ('SVM', SVC()),\n",
              "                             ('Naive', GaussianNB())])"
            ]
          },
          "metadata": {},
          "execution_count": 53
        }
      ],
      "source": [
        "#Define a Hard Voting Classifier\n",
        "vt_clc = VotingClassifier(estimators=[('DTC',dtc),('SVM',svm_cl),('Naive',naive)],voting='hard')\n",
        "vt_clc.fit(X_train,y_train)"
      ]
    },
    {
      "cell_type": "code",
      "execution_count": null,
      "metadata": {
        "id": "r_Zy-PYRWoSC"
      },
      "outputs": [],
      "source": [
        "#Predicting on the voting classifier\n",
        "y_vot = vt_clc.predict(X_test)"
      ]
    },
    {
      "cell_type": "code",
      "execution_count": null,
      "metadata": {
        "colab": {
          "base_uri": "https://localhost:8080/"
        },
        "id": "5azYtG6aWoSC",
        "outputId": "f269ddb5-ce44-4413-ac77-e60f5d5ce90e"
      },
      "outputs": [
        {
          "output_type": "stream",
          "name": "stdout",
          "text": [
            "The Classification Report for voting classifier is:\n",
            "               precision    recall  f1-score   support\n",
            "\n",
            "           0       0.97      0.95      0.96        40\n",
            "           1       0.82      0.90      0.86        10\n",
            "\n",
            "    accuracy                           0.94        50\n",
            "   macro avg       0.90      0.93      0.91        50\n",
            "weighted avg       0.94      0.94      0.94        50\n",
            "\n"
          ]
        }
      ],
      "source": [
        "#Print the classification report of the voting classifier\n",
        "print('The Classification Report for voting classifier is:\\n', classification_report(y_test,y_vot))"
      ]
    },
    {
      "cell_type": "code",
      "execution_count": null,
      "metadata": {
        "id": "YR0AftVaWoSD"
      },
      "outputs": [],
      "source": [
        "# (b)\n",
        "#The Voting classifier is the Best of the three because it has a higher recall of 97% compared to the others"
      ]
    },
    {
      "cell_type": "markdown",
      "metadata": {
        "id": "WyT8vdLGWoSE"
      },
      "source": [
        "# Question THREE"
      ]
    },
    {
      "cell_type": "code",
      "source": [
        "pip install apyori"
      ],
      "metadata": {
        "colab": {
          "base_uri": "https://localhost:8080/"
        },
        "id": "6R2qrN0KX1jf",
        "outputId": "c4d904ec-5b73-47b3-b4e0-de23f6f0cacf"
      },
      "execution_count": null,
      "outputs": [
        {
          "output_type": "stream",
          "name": "stdout",
          "text": [
            "Requirement already satisfied: apyori in /usr/local/lib/python3.7/dist-packages (1.1.2)\n"
          ]
        }
      ]
    },
    {
      "cell_type": "code",
      "execution_count": null,
      "metadata": {
        "id": "Sl63jsEwWoSE"
      },
      "outputs": [],
      "source": [
        " # (a)\n",
        "import matplotlib.pyplot as plt\n",
        "from apyori import apriori\n",
        "trans_data = pd.read_csv(\"/content/drive/My Drive/Colab Notebooks/transactions.csv\",header=None)"
      ]
    },
    {
      "cell_type": "code",
      "source": [
        "trans_data.head()"
      ],
      "metadata": {
        "colab": {
          "base_uri": "https://localhost:8080/",
          "height": 206
        },
        "id": "T8PXXluKke7E",
        "outputId": "80d823fb-7c51-4426-ef4f-4456366ae32a"
      },
      "execution_count": null,
      "outputs": [
        {
          "output_type": "execute_result",
          "data": {
            "text/html": [
              "<div>\n",
              "<style scoped>\n",
              "    .dataframe tbody tr th:only-of-type {\n",
              "        vertical-align: middle;\n",
              "    }\n",
              "\n",
              "    .dataframe tbody tr th {\n",
              "        vertical-align: top;\n",
              "    }\n",
              "\n",
              "    .dataframe thead th {\n",
              "        text-align: right;\n",
              "    }\n",
              "</style>\n",
              "<table border=\"1\" class=\"dataframe\">\n",
              "  <thead>\n",
              "    <tr style=\"text-align: right;\">\n",
              "      <th></th>\n",
              "      <th>0</th>\n",
              "      <th>1</th>\n",
              "      <th>2</th>\n",
              "      <th>3</th>\n",
              "      <th>4</th>\n",
              "      <th>5</th>\n",
              "      <th>6</th>\n",
              "      <th>7</th>\n",
              "      <th>8</th>\n",
              "      <th>9</th>\n",
              "      <th>10</th>\n",
              "      <th>11</th>\n",
              "      <th>12</th>\n",
              "      <th>13</th>\n",
              "      <th>14</th>\n",
              "      <th>15</th>\n",
              "      <th>16</th>\n",
              "      <th>17</th>\n",
              "      <th>18</th>\n",
              "      <th>19</th>\n",
              "      <th>20</th>\n",
              "      <th>21</th>\n",
              "      <th>22</th>\n",
              "      <th>23</th>\n",
              "      <th>24</th>\n",
              "      <th>25</th>\n",
              "      <th>26</th>\n",
              "    </tr>\n",
              "  </thead>\n",
              "  <tbody>\n",
              "    <tr>\n",
              "      <th>0</th>\n",
              "      <td>27</td>\n",
              "      <td>35.0</td>\n",
              "      <td>70.0</td>\n",
              "      <td>158.0</td>\n",
              "      <td>173.0</td>\n",
              "      <td>175.0</td>\n",
              "      <td>196.0</td>\n",
              "      <td>296.0</td>\n",
              "      <td>319.0</td>\n",
              "      <td>336.0</td>\n",
              "      <td>366.0</td>\n",
              "      <td>377.0</td>\n",
              "      <td>411.0</td>\n",
              "      <td>415.0</td>\n",
              "      <td>450.0</td>\n",
              "      <td>NaN</td>\n",
              "      <td>NaN</td>\n",
              "      <td>NaN</td>\n",
              "      <td>NaN</td>\n",
              "      <td>NaN</td>\n",
              "      <td>NaN</td>\n",
              "      <td>NaN</td>\n",
              "      <td>NaN</td>\n",
              "      <td>NaN</td>\n",
              "      <td>NaN</td>\n",
              "      <td>NaN</td>\n",
              "      <td>NaN</td>\n",
              "    </tr>\n",
              "    <tr>\n",
              "      <th>1</th>\n",
              "      <td>93</td>\n",
              "      <td>104.0</td>\n",
              "      <td>127.0</td>\n",
              "      <td>131.0</td>\n",
              "      <td>175.0</td>\n",
              "      <td>207.0</td>\n",
              "      <td>280.0</td>\n",
              "      <td>443.0</td>\n",
              "      <td>489.0</td>\n",
              "      <td>NaN</td>\n",
              "      <td>NaN</td>\n",
              "      <td>NaN</td>\n",
              "      <td>NaN</td>\n",
              "      <td>NaN</td>\n",
              "      <td>NaN</td>\n",
              "      <td>NaN</td>\n",
              "      <td>NaN</td>\n",
              "      <td>NaN</td>\n",
              "      <td>NaN</td>\n",
              "      <td>NaN</td>\n",
              "      <td>NaN</td>\n",
              "      <td>NaN</td>\n",
              "      <td>NaN</td>\n",
              "      <td>NaN</td>\n",
              "      <td>NaN</td>\n",
              "      <td>NaN</td>\n",
              "      <td>NaN</td>\n",
              "    </tr>\n",
              "    <tr>\n",
              "      <th>2</th>\n",
              "      <td>43</td>\n",
              "      <td>96.0</td>\n",
              "      <td>197.0</td>\n",
              "      <td>240.0</td>\n",
              "      <td>355.0</td>\n",
              "      <td>450.0</td>\n",
              "      <td>471.0</td>\n",
              "      <td>NaN</td>\n",
              "      <td>NaN</td>\n",
              "      <td>NaN</td>\n",
              "      <td>NaN</td>\n",
              "      <td>NaN</td>\n",
              "      <td>NaN</td>\n",
              "      <td>NaN</td>\n",
              "      <td>NaN</td>\n",
              "      <td>NaN</td>\n",
              "      <td>NaN</td>\n",
              "      <td>NaN</td>\n",
              "      <td>NaN</td>\n",
              "      <td>NaN</td>\n",
              "      <td>NaN</td>\n",
              "      <td>NaN</td>\n",
              "      <td>NaN</td>\n",
              "      <td>NaN</td>\n",
              "      <td>NaN</td>\n",
              "      <td>NaN</td>\n",
              "      <td>NaN</td>\n",
              "    </tr>\n",
              "    <tr>\n",
              "      <th>3</th>\n",
              "      <td>72</td>\n",
              "      <td>104.0</td>\n",
              "      <td>131.0</td>\n",
              "      <td>151.0</td>\n",
              "      <td>207.0</td>\n",
              "      <td>269.0</td>\n",
              "      <td>362.0</td>\n",
              "      <td>415.0</td>\n",
              "      <td>443.0</td>\n",
              "      <td>489.0</td>\n",
              "      <td>NaN</td>\n",
              "      <td>NaN</td>\n",
              "      <td>NaN</td>\n",
              "      <td>NaN</td>\n",
              "      <td>NaN</td>\n",
              "      <td>NaN</td>\n",
              "      <td>NaN</td>\n",
              "      <td>NaN</td>\n",
              "      <td>NaN</td>\n",
              "      <td>NaN</td>\n",
              "      <td>NaN</td>\n",
              "      <td>NaN</td>\n",
              "      <td>NaN</td>\n",
              "      <td>NaN</td>\n",
              "      <td>NaN</td>\n",
              "      <td>NaN</td>\n",
              "      <td>NaN</td>\n",
              "    </tr>\n",
              "    <tr>\n",
              "      <th>4</th>\n",
              "      <td>70</td>\n",
              "      <td>227.0</td>\n",
              "      <td>240.0</td>\n",
              "      <td>263.0</td>\n",
              "      <td>280.0</td>\n",
              "      <td>335.0</td>\n",
              "      <td>471.0</td>\n",
              "      <td>487.0</td>\n",
              "      <td>NaN</td>\n",
              "      <td>NaN</td>\n",
              "      <td>NaN</td>\n",
              "      <td>NaN</td>\n",
              "      <td>NaN</td>\n",
              "      <td>NaN</td>\n",
              "      <td>NaN</td>\n",
              "      <td>NaN</td>\n",
              "      <td>NaN</td>\n",
              "      <td>NaN</td>\n",
              "      <td>NaN</td>\n",
              "      <td>NaN</td>\n",
              "      <td>NaN</td>\n",
              "      <td>NaN</td>\n",
              "      <td>NaN</td>\n",
              "      <td>NaN</td>\n",
              "      <td>NaN</td>\n",
              "      <td>NaN</td>\n",
              "      <td>NaN</td>\n",
              "    </tr>\n",
              "  </tbody>\n",
              "</table>\n",
              "</div>"
            ],
            "text/plain": [
              "   0      1      2      3      4      5      6   ...  20  21  22  23  24  25  26\n",
              "0  27   35.0   70.0  158.0  173.0  175.0  196.0  ... NaN NaN NaN NaN NaN NaN NaN\n",
              "1  93  104.0  127.0  131.0  175.0  207.0  280.0  ... NaN NaN NaN NaN NaN NaN NaN\n",
              "2  43   96.0  197.0  240.0  355.0  450.0  471.0  ... NaN NaN NaN NaN NaN NaN NaN\n",
              "3  72  104.0  131.0  151.0  207.0  269.0  362.0  ... NaN NaN NaN NaN NaN NaN NaN\n",
              "4  70  227.0  240.0  263.0  280.0  335.0  471.0  ... NaN NaN NaN NaN NaN NaN NaN\n",
              "\n",
              "[5 rows x 27 columns]"
            ]
          },
          "metadata": {},
          "execution_count": 59
        }
      ]
    },
    {
      "cell_type": "code",
      "execution_count": null,
      "metadata": {
        "colab": {
          "base_uri": "https://localhost:8080/",
          "height": 206
        },
        "id": "zp996KZSWoSF",
        "outputId": "4e8b4c5a-636e-45c4-8c2f-23c3cd9df9f5"
      },
      "outputs": [
        {
          "output_type": "execute_result",
          "data": {
            "text/html": [
              "<div>\n",
              "<style scoped>\n",
              "    .dataframe tbody tr th:only-of-type {\n",
              "        vertical-align: middle;\n",
              "    }\n",
              "\n",
              "    .dataframe tbody tr th {\n",
              "        vertical-align: top;\n",
              "    }\n",
              "\n",
              "    .dataframe thead th {\n",
              "        text-align: right;\n",
              "    }\n",
              "</style>\n",
              "<table border=\"1\" class=\"dataframe\">\n",
              "  <thead>\n",
              "    <tr style=\"text-align: right;\">\n",
              "      <th></th>\n",
              "      <th>0</th>\n",
              "      <th>1</th>\n",
              "      <th>2</th>\n",
              "      <th>3</th>\n",
              "      <th>4</th>\n",
              "      <th>5</th>\n",
              "      <th>6</th>\n",
              "      <th>7</th>\n",
              "      <th>8</th>\n",
              "      <th>9</th>\n",
              "      <th>10</th>\n",
              "      <th>11</th>\n",
              "      <th>12</th>\n",
              "      <th>13</th>\n",
              "      <th>14</th>\n",
              "      <th>15</th>\n",
              "      <th>16</th>\n",
              "      <th>17</th>\n",
              "      <th>18</th>\n",
              "      <th>19</th>\n",
              "      <th>20</th>\n",
              "      <th>21</th>\n",
              "      <th>22</th>\n",
              "      <th>23</th>\n",
              "      <th>24</th>\n",
              "      <th>25</th>\n",
              "      <th>26</th>\n",
              "    </tr>\n",
              "  </thead>\n",
              "  <tbody>\n",
              "    <tr>\n",
              "      <th>0</th>\n",
              "      <td>27</td>\n",
              "      <td>35.0</td>\n",
              "      <td>70.0</td>\n",
              "      <td>158.0</td>\n",
              "      <td>173.0</td>\n",
              "      <td>175.0</td>\n",
              "      <td>196.0</td>\n",
              "      <td>296.0</td>\n",
              "      <td>319.0</td>\n",
              "      <td>336.0</td>\n",
              "      <td>366.0</td>\n",
              "      <td>377.0</td>\n",
              "      <td>411.0</td>\n",
              "      <td>415.0</td>\n",
              "      <td>450.0</td>\n",
              "      <td>NaN</td>\n",
              "      <td>NaN</td>\n",
              "      <td>NaN</td>\n",
              "      <td>NaN</td>\n",
              "      <td>NaN</td>\n",
              "      <td>NaN</td>\n",
              "      <td>NaN</td>\n",
              "      <td>NaN</td>\n",
              "      <td>NaN</td>\n",
              "      <td>NaN</td>\n",
              "      <td>NaN</td>\n",
              "      <td>NaN</td>\n",
              "    </tr>\n",
              "    <tr>\n",
              "      <th>1</th>\n",
              "      <td>93</td>\n",
              "      <td>104.0</td>\n",
              "      <td>127.0</td>\n",
              "      <td>131.0</td>\n",
              "      <td>175.0</td>\n",
              "      <td>207.0</td>\n",
              "      <td>280.0</td>\n",
              "      <td>443.0</td>\n",
              "      <td>489.0</td>\n",
              "      <td>NaN</td>\n",
              "      <td>NaN</td>\n",
              "      <td>NaN</td>\n",
              "      <td>NaN</td>\n",
              "      <td>NaN</td>\n",
              "      <td>NaN</td>\n",
              "      <td>NaN</td>\n",
              "      <td>NaN</td>\n",
              "      <td>NaN</td>\n",
              "      <td>NaN</td>\n",
              "      <td>NaN</td>\n",
              "      <td>NaN</td>\n",
              "      <td>NaN</td>\n",
              "      <td>NaN</td>\n",
              "      <td>NaN</td>\n",
              "      <td>NaN</td>\n",
              "      <td>NaN</td>\n",
              "      <td>NaN</td>\n",
              "    </tr>\n",
              "    <tr>\n",
              "      <th>2</th>\n",
              "      <td>43</td>\n",
              "      <td>96.0</td>\n",
              "      <td>197.0</td>\n",
              "      <td>240.0</td>\n",
              "      <td>355.0</td>\n",
              "      <td>450.0</td>\n",
              "      <td>471.0</td>\n",
              "      <td>NaN</td>\n",
              "      <td>NaN</td>\n",
              "      <td>NaN</td>\n",
              "      <td>NaN</td>\n",
              "      <td>NaN</td>\n",
              "      <td>NaN</td>\n",
              "      <td>NaN</td>\n",
              "      <td>NaN</td>\n",
              "      <td>NaN</td>\n",
              "      <td>NaN</td>\n",
              "      <td>NaN</td>\n",
              "      <td>NaN</td>\n",
              "      <td>NaN</td>\n",
              "      <td>NaN</td>\n",
              "      <td>NaN</td>\n",
              "      <td>NaN</td>\n",
              "      <td>NaN</td>\n",
              "      <td>NaN</td>\n",
              "      <td>NaN</td>\n",
              "      <td>NaN</td>\n",
              "    </tr>\n",
              "    <tr>\n",
              "      <th>3</th>\n",
              "      <td>72</td>\n",
              "      <td>104.0</td>\n",
              "      <td>131.0</td>\n",
              "      <td>151.0</td>\n",
              "      <td>207.0</td>\n",
              "      <td>269.0</td>\n",
              "      <td>362.0</td>\n",
              "      <td>415.0</td>\n",
              "      <td>443.0</td>\n",
              "      <td>489.0</td>\n",
              "      <td>NaN</td>\n",
              "      <td>NaN</td>\n",
              "      <td>NaN</td>\n",
              "      <td>NaN</td>\n",
              "      <td>NaN</td>\n",
              "      <td>NaN</td>\n",
              "      <td>NaN</td>\n",
              "      <td>NaN</td>\n",
              "      <td>NaN</td>\n",
              "      <td>NaN</td>\n",
              "      <td>NaN</td>\n",
              "      <td>NaN</td>\n",
              "      <td>NaN</td>\n",
              "      <td>NaN</td>\n",
              "      <td>NaN</td>\n",
              "      <td>NaN</td>\n",
              "      <td>NaN</td>\n",
              "    </tr>\n",
              "    <tr>\n",
              "      <th>4</th>\n",
              "      <td>70</td>\n",
              "      <td>227.0</td>\n",
              "      <td>240.0</td>\n",
              "      <td>263.0</td>\n",
              "      <td>280.0</td>\n",
              "      <td>335.0</td>\n",
              "      <td>471.0</td>\n",
              "      <td>487.0</td>\n",
              "      <td>NaN</td>\n",
              "      <td>NaN</td>\n",
              "      <td>NaN</td>\n",
              "      <td>NaN</td>\n",
              "      <td>NaN</td>\n",
              "      <td>NaN</td>\n",
              "      <td>NaN</td>\n",
              "      <td>NaN</td>\n",
              "      <td>NaN</td>\n",
              "      <td>NaN</td>\n",
              "      <td>NaN</td>\n",
              "      <td>NaN</td>\n",
              "      <td>NaN</td>\n",
              "      <td>NaN</td>\n",
              "      <td>NaN</td>\n",
              "      <td>NaN</td>\n",
              "      <td>NaN</td>\n",
              "      <td>NaN</td>\n",
              "      <td>NaN</td>\n",
              "    </tr>\n",
              "  </tbody>\n",
              "</table>\n",
              "</div>"
            ],
            "text/plain": [
              "   0      1      2      3      4      5      6   ...  20  21  22  23  24  25  26\n",
              "0  27   35.0   70.0  158.0  173.0  175.0  196.0  ... NaN NaN NaN NaN NaN NaN NaN\n",
              "1  93  104.0  127.0  131.0  175.0  207.0  280.0  ... NaN NaN NaN NaN NaN NaN NaN\n",
              "2  43   96.0  197.0  240.0  355.0  450.0  471.0  ... NaN NaN NaN NaN NaN NaN NaN\n",
              "3  72  104.0  131.0  151.0  207.0  269.0  362.0  ... NaN NaN NaN NaN NaN NaN NaN\n",
              "4  70  227.0  240.0  263.0  280.0  335.0  471.0  ... NaN NaN NaN NaN NaN NaN NaN\n",
              "\n",
              "[5 rows x 27 columns]"
            ]
          },
          "metadata": {},
          "execution_count": 60
        }
      ],
      "source": [
        "trans_data.head()"
      ]
    },
    {
      "cell_type": "code",
      "source": [
        "trans_data.info()"
      ],
      "metadata": {
        "colab": {
          "base_uri": "https://localhost:8080/"
        },
        "id": "O7_qR6-6aza3",
        "outputId": "31dc4a67-60ff-4289-8c1a-7c66a2cf1317"
      },
      "execution_count": null,
      "outputs": [
        {
          "output_type": "stream",
          "name": "stdout",
          "text": [
            "<class 'pandas.core.frame.DataFrame'>\n",
            "RangeIndex: 19714 entries, 0 to 19713\n",
            "Data columns (total 27 columns):\n",
            " #   Column  Non-Null Count  Dtype  \n",
            "---  ------  --------------  -----  \n",
            " 0   0       19714 non-null  int64  \n",
            " 1   1       19684 non-null  float64\n",
            " 2   2       19552 non-null  float64\n",
            " 3   3       19284 non-null  float64\n",
            " 4   4       18624 non-null  float64\n",
            " 5   5       17471 non-null  float64\n",
            " 6   6       16264 non-null  float64\n",
            " 7   7       14637 non-null  float64\n",
            " 8   8       12696 non-null  float64\n",
            " 9   9       10541 non-null  float64\n",
            " 10  10      8573 non-null   float64\n",
            " 11  11      6549 non-null   float64\n",
            " 12  12      4863 non-null   float64\n",
            " 13  13      3424 non-null   float64\n",
            " 14  14      2328 non-null   float64\n",
            " 15  15      1479 non-null   float64\n",
            " 16  16      876 non-null    float64\n",
            " 17  17      500 non-null    float64\n",
            " 18  18      285 non-null    float64\n",
            " 19  19      168 non-null    float64\n",
            " 20  20      80 non-null     float64\n",
            " 21  21      45 non-null     float64\n",
            " 22  22      19 non-null     float64\n",
            " 23  23      12 non-null     float64\n",
            " 24  24      7 non-null      float64\n",
            " 25  25      4 non-null      float64\n",
            " 26  26      2 non-null      float64\n",
            "dtypes: float64(26), int64(1)\n",
            "memory usage: 4.1 MB\n"
          ]
        }
      ]
    },
    {
      "cell_type": "code",
      "source": [
        "trans_data.interpolate(method='linear',inplace=True)\n",
        "trans_data.dropna(axis=1, how='any', inplace =True)\n"
      ],
      "metadata": {
        "id": "zMmk5k89Ysq6"
      },
      "execution_count": null,
      "outputs": []
    },
    {
      "cell_type": "code",
      "source": [
        "trans_data.head()"
      ],
      "metadata": {
        "colab": {
          "base_uri": "https://localhost:8080/",
          "height": 206
        },
        "id": "S2PjiZWDZrmk",
        "outputId": "77401f37-36f8-4027-e97e-8752e3e1e840"
      },
      "execution_count": null,
      "outputs": [
        {
          "output_type": "execute_result",
          "data": {
            "text/html": [
              "<div>\n",
              "<style scoped>\n",
              "    .dataframe tbody tr th:only-of-type {\n",
              "        vertical-align: middle;\n",
              "    }\n",
              "\n",
              "    .dataframe tbody tr th {\n",
              "        vertical-align: top;\n",
              "    }\n",
              "\n",
              "    .dataframe thead th {\n",
              "        text-align: right;\n",
              "    }\n",
              "</style>\n",
              "<table border=\"1\" class=\"dataframe\">\n",
              "  <thead>\n",
              "    <tr style=\"text-align: right;\">\n",
              "      <th></th>\n",
              "      <th>0</th>\n",
              "      <th>1</th>\n",
              "      <th>2</th>\n",
              "      <th>3</th>\n",
              "      <th>4</th>\n",
              "      <th>5</th>\n",
              "      <th>6</th>\n",
              "      <th>7</th>\n",
              "      <th>8</th>\n",
              "      <th>9</th>\n",
              "      <th>10</th>\n",
              "      <th>11</th>\n",
              "      <th>12</th>\n",
              "      <th>13</th>\n",
              "      <th>14</th>\n",
              "    </tr>\n",
              "  </thead>\n",
              "  <tbody>\n",
              "    <tr>\n",
              "      <th>0</th>\n",
              "      <td>27</td>\n",
              "      <td>35.0</td>\n",
              "      <td>70.0</td>\n",
              "      <td>158.0</td>\n",
              "      <td>173.0</td>\n",
              "      <td>175.0</td>\n",
              "      <td>196.0</td>\n",
              "      <td>296.0</td>\n",
              "      <td>319.0</td>\n",
              "      <td>336.0</td>\n",
              "      <td>366.0</td>\n",
              "      <td>377.0</td>\n",
              "      <td>411.0</td>\n",
              "      <td>415.000000</td>\n",
              "      <td>450.000000</td>\n",
              "    </tr>\n",
              "    <tr>\n",
              "      <th>1</th>\n",
              "      <td>93</td>\n",
              "      <td>104.0</td>\n",
              "      <td>127.0</td>\n",
              "      <td>131.0</td>\n",
              "      <td>175.0</td>\n",
              "      <td>207.0</td>\n",
              "      <td>280.0</td>\n",
              "      <td>443.0</td>\n",
              "      <td>489.0</td>\n",
              "      <td>387.0</td>\n",
              "      <td>375.8</td>\n",
              "      <td>387.0</td>\n",
              "      <td>417.6</td>\n",
              "      <td>407.142857</td>\n",
              "      <td>442.285714</td>\n",
              "    </tr>\n",
              "    <tr>\n",
              "      <th>2</th>\n",
              "      <td>43</td>\n",
              "      <td>96.0</td>\n",
              "      <td>197.0</td>\n",
              "      <td>240.0</td>\n",
              "      <td>355.0</td>\n",
              "      <td>450.0</td>\n",
              "      <td>471.0</td>\n",
              "      <td>429.0</td>\n",
              "      <td>466.0</td>\n",
              "      <td>438.0</td>\n",
              "      <td>385.6</td>\n",
              "      <td>397.0</td>\n",
              "      <td>424.2</td>\n",
              "      <td>399.285714</td>\n",
              "      <td>434.571429</td>\n",
              "    </tr>\n",
              "    <tr>\n",
              "      <th>3</th>\n",
              "      <td>72</td>\n",
              "      <td>104.0</td>\n",
              "      <td>131.0</td>\n",
              "      <td>151.0</td>\n",
              "      <td>207.0</td>\n",
              "      <td>269.0</td>\n",
              "      <td>362.0</td>\n",
              "      <td>415.0</td>\n",
              "      <td>443.0</td>\n",
              "      <td>489.0</td>\n",
              "      <td>395.4</td>\n",
              "      <td>407.0</td>\n",
              "      <td>430.8</td>\n",
              "      <td>391.428571</td>\n",
              "      <td>426.857143</td>\n",
              "    </tr>\n",
              "    <tr>\n",
              "      <th>4</th>\n",
              "      <td>70</td>\n",
              "      <td>227.0</td>\n",
              "      <td>240.0</td>\n",
              "      <td>263.0</td>\n",
              "      <td>280.0</td>\n",
              "      <td>335.0</td>\n",
              "      <td>471.0</td>\n",
              "      <td>487.0</td>\n",
              "      <td>381.0</td>\n",
              "      <td>425.5</td>\n",
              "      <td>405.2</td>\n",
              "      <td>417.0</td>\n",
              "      <td>437.4</td>\n",
              "      <td>383.571429</td>\n",
              "      <td>419.142857</td>\n",
              "    </tr>\n",
              "  </tbody>\n",
              "</table>\n",
              "</div>"
            ],
            "text/plain": [
              "   0      1      2      3      4   ...     10     11     12          13          14\n",
              "0  27   35.0   70.0  158.0  173.0  ...  366.0  377.0  411.0  415.000000  450.000000\n",
              "1  93  104.0  127.0  131.0  175.0  ...  375.8  387.0  417.6  407.142857  442.285714\n",
              "2  43   96.0  197.0  240.0  355.0  ...  385.6  397.0  424.2  399.285714  434.571429\n",
              "3  72  104.0  131.0  151.0  207.0  ...  395.4  407.0  430.8  391.428571  426.857143\n",
              "4  70  227.0  240.0  263.0  280.0  ...  405.2  417.0  437.4  383.571429  419.142857\n",
              "\n",
              "[5 rows x 15 columns]"
            ]
          },
          "metadata": {},
          "execution_count": 63
        }
      ]
    },
    {
      "cell_type": "code",
      "source": [
        "records = []\n",
        "for i in range(0, 50):\n",
        "  records.append([str(trans_data.values[i,j]) for j in range(0, 14)])\n",
        "\n",
        "association_rules = apriori(records, min_support=0.10,min_confidence=0.2, min_lift=3, min_length=2)\n",
        "\n",
        "assoc_results = list(association_rules)"
      ],
      "metadata": {
        "id": "ID-dpdN5bBP8"
      },
      "execution_count": null,
      "outputs": []
    },
    {
      "cell_type": "code",
      "source": [
        "for value in assoc_results:\n",
        "\n",
        "# first index of the inner list\n",
        "\n",
        "# Contains base item and add item\n",
        "\n",
        "  pair = value[0]\n",
        "\n",
        "  items = [x for x in pair]\n",
        "\n",
        "  print(\"Rule: \" + items[0] + \" -> \" + items[1])\n",
        "\n",
        "#second index of the inner list\n",
        "\n",
        "  print(\"Support: \" + str(value[1]))\n",
        "\n",
        "#third index of the list located at 0th\n",
        "\n",
        "#of the third index of the inner list\n",
        "\n",
        "  print(\"Confidence: \" + str(value[2][0][2]))\n",
        "\n",
        "  print(\"Lift: \" + str(value[2][0][3]))\n",
        "\n",
        "  print()"
      ],
      "metadata": {
        "colab": {
          "base_uri": "https://localhost:8080/"
        },
        "id": "FZcPKWAIbPLJ",
        "outputId": "54f3f1ab-7f13-46b6-db15-41a5b014bbf2"
      },
      "execution_count": null,
      "outputs": [
        {
          "output_type": "stream",
          "name": "stdout",
          "text": [
            "Rule: 131.0 -> 104.0\n",
            "Support: 0.2\n",
            "Confidence: 0.7692307692307693\n",
            "Lift: 3.4965034965034967\n",
            "\n",
            "Rule: 104.0 -> 443.0\n",
            "Support: 0.22\n",
            "Confidence: 0.8461538461538461\n",
            "Lift: 3.254437869822485\n",
            "\n",
            "Rule: 489.0 -> 104.0\n",
            "Support: 0.16\n",
            "Confidence: 0.6153846153846154\n",
            "Lift: 3.076923076923077\n",
            "\n",
            "Rule: 280.0 -> 127.0\n",
            "Support: 0.14\n",
            "Confidence: 1.0\n",
            "Lift: 4.166666666666667\n",
            "\n",
            "Rule: 289.0 -> 128.0\n",
            "Support: 0.12\n",
            "Confidence: 1.0\n",
            "Lift: 8.333333333333334\n",
            "\n",
            "Rule: 301.0 -> 128.0\n",
            "Support: 0.12\n",
            "Confidence: 1.0\n",
            "Lift: 7.142857142857142\n",
            "\n",
            "Rule: 471.0 -> 128.0\n",
            "Support: 0.1\n",
            "Confidence: 0.8333333333333334\n",
            "Lift: 4.166666666666667\n",
            "\n",
            "Rule: 131.0 -> 207.0\n",
            "Support: 0.22\n",
            "Confidence: 1.0\n",
            "Lift: 3.125\n",
            "\n",
            "Rule: 131.0 -> 443.0\n",
            "Support: 0.2\n",
            "Confidence: 0.9090909090909092\n",
            "Lift: 3.4965034965034967\n",
            "\n",
            "Rule: 131.0 -> 489.0\n",
            "Support: 0.16\n",
            "Confidence: 0.7272727272727273\n",
            "Lift: 3.6363636363636362\n",
            "\n",
            "Rule: 27.0 -> 175.0\n",
            "Support: 0.14\n",
            "Confidence: 0.7777777777777779\n",
            "Lift: 5.555555555555556\n",
            "\n",
            "Rule: 296.0 -> 175.0\n",
            "Support: 0.14\n",
            "Confidence: 0.7777777777777779\n",
            "Lift: 4.861111111111112\n",
            "\n",
            "Rule: 319.0 -> 175.0\n",
            "Support: 0.14\n",
            "Confidence: 0.7777777777777779\n",
            "Lift: 4.861111111111112\n",
            "\n",
            "Rule: 411.0 -> 175.0\n",
            "Support: 0.14\n",
            "Confidence: 0.7777777777777779\n",
            "Lift: 5.555555555555556\n",
            "\n",
            "Rule: 415.0 -> 175.0\n",
            "Support: 0.12\n",
            "Confidence: 0.6666666666666666\n",
            "Lift: 4.166666666666666\n",
            "\n",
            "Rule: 240.0 -> 43.0\n",
            "Support: 0.12\n",
            "Confidence: 0.857142857142857\n",
            "Lift: 5.357142857142856\n",
            "\n",
            "Rule: 240.0 -> 471.0\n",
            "Support: 0.1\n",
            "Confidence: 0.7142857142857143\n",
            "Lift: 3.571428571428571\n",
            "\n",
            "Rule: 240.0 -> 96.0\n",
            "Support: 0.12\n",
            "Confidence: 0.857142857142857\n",
            "Lift: 7.1428571428571415\n",
            "\n",
            "Rule: 27.0 -> 296.0\n",
            "Support: 0.12\n",
            "Confidence: 0.857142857142857\n",
            "Lift: 5.357142857142856\n",
            "\n",
            "Rule: 319.0 -> 27.0\n",
            "Support: 0.12\n",
            "Confidence: 0.857142857142857\n",
            "Lift: 5.357142857142856\n",
            "\n",
            "Rule: 27.0 -> 411.0\n",
            "Support: 0.12\n",
            "Confidence: 0.857142857142857\n",
            "Lift: 6.122448979591835\n",
            "\n",
            "Rule: 27.0 -> 415.0\n",
            "Support: 0.1\n",
            "Confidence: 0.7142857142857143\n",
            "Lift: 4.464285714285714\n",
            "\n",
            "Rule: 280.0 -> 487.0\n",
            "Support: 0.12\n",
            "Confidence: 0.5\n",
            "Lift: 4.166666666666667\n",
            "\n",
            "Rule: 301.0 -> 289.0\n",
            "Support: 0.12\n",
            "Confidence: 1.0\n",
            "Lift: 7.142857142857142\n",
            "\n",
            "Rule: 471.0 -> 289.0\n",
            "Support: 0.1\n",
            "Confidence: 0.8333333333333334\n",
            "Lift: 4.166666666666667\n",
            "\n",
            "Rule: 319.0 -> 296.0\n",
            "Support: 0.14\n",
            "Confidence: 0.8750000000000001\n",
            "Lift: 5.468750000000001\n",
            "\n",
            "Rule: 411.0 -> 296.0\n",
            "Support: 0.12\n",
            "Confidence: 0.75\n",
            "Lift: 5.357142857142857\n",
            "\n",
            "Rule: 415.0 -> 296.0\n",
            "Support: 0.12\n",
            "Confidence: 0.75\n",
            "Lift: 4.6875\n",
            "\n",
            "Rule: 471.0 -> 301.0\n",
            "Support: 0.1\n",
            "Confidence: 0.7142857142857143\n",
            "Lift: 3.571428571428571\n",
            "\n",
            "Rule: 319.0 -> 411.0\n",
            "Support: 0.12\n",
            "Confidence: 0.75\n",
            "Lift: 5.357142857142857\n",
            "\n",
            "Rule: 319.0 -> 415.0\n",
            "Support: 0.14\n",
            "Confidence: 0.8750000000000001\n",
            "Lift: 5.468750000000001\n",
            "\n",
            "Rule: 415.0 -> 411.0\n",
            "Support: 0.12\n",
            "Confidence: 0.857142857142857\n",
            "Lift: 5.357142857142856\n",
            "\n",
            "Rule: 96.0 -> 43.0\n",
            "Support: 0.12\n",
            "Confidence: 0.75\n",
            "Lift: 6.25\n",
            "\n",
            "Rule: 489.0 -> 443.0\n",
            "Support: 0.2\n",
            "Confidence: 0.7692307692307693\n",
            "Lift: 3.8461538461538463\n",
            "\n",
            "Rule: 131.0 -> 207.0\n",
            "Support: 0.2\n",
            "Confidence: 0.7692307692307693\n",
            "Lift: 3.4965034965034967\n",
            "\n",
            "Rule: 131.0 -> 104.0\n",
            "Support: 0.18\n",
            "Confidence: 0.6923076923076923\n",
            "Lift: 3.4615384615384612\n",
            "\n",
            "Rule: 131.0 -> 489.0\n",
            "Support: 0.14\n",
            "Confidence: 0.5384615384615385\n",
            "Lift: 3.365384615384616\n",
            "\n",
            "Rule: 207.0 -> 104.0\n",
            "Support: 0.22\n",
            "Confidence: 0.8461538461538461\n",
            "Lift: 3.5256410256410255\n",
            "\n",
            "Rule: 207.0 -> 489.0\n",
            "Support: 0.16\n",
            "Confidence: 0.6153846153846154\n",
            "Lift: 3.418803418803419\n",
            "\n",
            "Rule: 489.0 -> 104.0\n",
            "Support: 0.16\n",
            "Confidence: 0.6153846153846154\n",
            "Lift: 3.076923076923077\n",
            "\n",
            "Rule: 301.0 -> 289.0\n",
            "Support: 0.12\n",
            "Confidence: 1.0\n",
            "Lift: 8.333333333333334\n",
            "\n",
            "Rule: 471.0 -> 289.0\n",
            "Support: 0.1\n",
            "Confidence: 0.8333333333333334\n",
            "Lift: 8.333333333333334\n",
            "\n",
            "Rule: 471.0 -> 301.0\n",
            "Support: 0.1\n",
            "Confidence: 0.8333333333333334\n",
            "Lift: 8.333333333333334\n",
            "\n",
            "Rule: 131.0 -> 207.0\n",
            "Support: 0.2\n",
            "Confidence: 0.9090909090909092\n",
            "Lift: 3.7878787878787885\n",
            "\n",
            "Rule: 131.0 -> 207.0\n",
            "Support: 0.16\n",
            "Confidence: 0.7272727272727273\n",
            "Lift: 4.040404040404041\n",
            "\n",
            "Rule: 131.0 -> 489.0\n",
            "Support: 0.16\n",
            "Confidence: 0.7272727272727273\n",
            "Lift: 3.6363636363636362\n",
            "\n",
            "Rule: 27.0 -> 296.0\n",
            "Support: 0.12\n",
            "Confidence: 0.6666666666666666\n",
            "Lift: 5.555555555555555\n",
            "\n",
            "Rule: 319.0 -> 27.0\n",
            "Support: 0.12\n",
            "Confidence: 0.6666666666666666\n",
            "Lift: 5.555555555555555\n",
            "\n",
            "Rule: 27.0 -> 411.0\n",
            "Support: 0.12\n",
            "Confidence: 0.6666666666666666\n",
            "Lift: 5.555555555555555\n",
            "\n",
            "Rule: 27.0 -> 415.0\n",
            "Support: 0.1\n",
            "Confidence: 0.5555555555555556\n",
            "Lift: 5.555555555555555\n",
            "\n",
            "Rule: 319.0 -> 296.0\n",
            "Support: 0.14\n",
            "Confidence: 0.7777777777777779\n",
            "Lift: 5.555555555555556\n",
            "\n",
            "Rule: 411.0 -> 296.0\n",
            "Support: 0.12\n",
            "Confidence: 0.6666666666666666\n",
            "Lift: 5.555555555555555\n",
            "\n",
            "Rule: 415.0 -> 296.0\n",
            "Support: 0.12\n",
            "Confidence: 0.6666666666666666\n",
            "Lift: 5.555555555555555\n",
            "\n",
            "Rule: 319.0 -> 411.0\n",
            "Support: 0.12\n",
            "Confidence: 0.6666666666666666\n",
            "Lift: 5.555555555555555\n",
            "\n",
            "Rule: 319.0 -> 415.0\n",
            "Support: 0.12\n",
            "Confidence: 0.6666666666666666\n",
            "Lift: 4.761904761904761\n",
            "\n",
            "Rule: 415.0 -> 411.0\n",
            "Support: 0.12\n",
            "Confidence: 0.6666666666666666\n",
            "Lift: 5.555555555555555\n",
            "\n",
            "Rule: 207.0 -> 489.0\n",
            "Support: 0.18\n",
            "Confidence: 0.6923076923076923\n",
            "Lift: 3.8461538461538463\n",
            "\n",
            "Rule: 240.0 -> 96.0\n",
            "Support: 0.12\n",
            "Confidence: 0.857142857142857\n",
            "Lift: 7.1428571428571415\n",
            "\n",
            "Rule: 319.0 -> 27.0\n",
            "Support: 0.12\n",
            "Confidence: 0.857142857142857\n",
            "Lift: 6.122448979591835\n",
            "\n",
            "Rule: 27.0 -> 411.0\n",
            "Support: 0.1\n",
            "Confidence: 0.7142857142857143\n",
            "Lift: 5.9523809523809526\n",
            "\n",
            "Rule: 415.0 -> 27.0\n",
            "Support: 0.1\n",
            "Confidence: 0.7142857142857143\n",
            "Lift: 5.9523809523809526\n",
            "\n",
            "Rule: 319.0 -> 27.0\n",
            "Support: 0.1\n",
            "Confidence: 0.7142857142857143\n",
            "Lift: 5.9523809523809526\n",
            "\n",
            "Rule: 319.0 -> 27.0\n",
            "Support: 0.1\n",
            "Confidence: 0.7142857142857143\n",
            "Lift: 5.1020408163265305\n",
            "\n",
            "Rule: 415.0 -> 27.0\n",
            "Support: 0.1\n",
            "Confidence: 0.7142857142857143\n",
            "Lift: 5.9523809523809526\n",
            "\n",
            "Rule: 471.0 -> 301.0\n",
            "Support: 0.1\n",
            "Confidence: 0.8333333333333334\n",
            "Lift: 8.333333333333334\n",
            "\n",
            "Rule: 319.0 -> 411.0\n",
            "Support: 0.12\n",
            "Confidence: 0.75\n",
            "Lift: 6.25\n",
            "\n",
            "Rule: 319.0 -> 415.0\n",
            "Support: 0.12\n",
            "Confidence: 0.75\n",
            "Lift: 5.357142857142857\n",
            "\n",
            "Rule: 415.0 -> 411.0\n",
            "Support: 0.12\n",
            "Confidence: 0.75\n",
            "Lift: 6.25\n",
            "\n",
            "Rule: 319.0 -> 415.0\n",
            "Support: 0.12\n",
            "Confidence: 0.75\n",
            "Lift: 6.25\n",
            "\n",
            "Rule: 131.0 -> 207.0\n",
            "Support: 0.18\n",
            "Confidence: 0.6923076923076923\n",
            "Lift: 3.4615384615384612\n",
            "\n",
            "Rule: 131.0 -> 207.0\n",
            "Support: 0.14\n",
            "Confidence: 0.5384615384615385\n",
            "Lift: 3.365384615384616\n",
            "\n",
            "Rule: 131.0 -> 489.0\n",
            "Support: 0.14\n",
            "Confidence: 0.5384615384615385\n",
            "Lift: 3.365384615384616\n",
            "\n",
            "Rule: 207.0 -> 489.0\n",
            "Support: 0.16\n",
            "Confidence: 0.6153846153846154\n",
            "Lift: 3.418803418803419\n",
            "\n",
            "Rule: 471.0 -> 301.0\n",
            "Support: 0.1\n",
            "Confidence: 0.8333333333333334\n",
            "Lift: 8.333333333333334\n",
            "\n",
            "Rule: 131.0 -> 207.0\n",
            "Support: 0.16\n",
            "Confidence: 0.7272727272727273\n",
            "Lift: 4.040404040404041\n",
            "\n",
            "Rule: 319.0 -> 27.0\n",
            "Support: 0.12\n",
            "Confidence: 0.6666666666666666\n",
            "Lift: 5.555555555555555\n",
            "\n",
            "Rule: 27.0 -> 411.0\n",
            "Support: 0.1\n",
            "Confidence: 0.5555555555555556\n",
            "Lift: 5.555555555555555\n",
            "\n",
            "Rule: 415.0 -> 27.0\n",
            "Support: 0.1\n",
            "Confidence: 0.5555555555555556\n",
            "Lift: 5.555555555555555\n",
            "\n",
            "Rule: 319.0 -> 27.0\n",
            "Support: 0.1\n",
            "Confidence: 0.5555555555555556\n",
            "Lift: 5.555555555555555\n",
            "\n",
            "Rule: 319.0 -> 27.0\n",
            "Support: 0.1\n",
            "Confidence: 0.5555555555555556\n",
            "Lift: 5.555555555555555\n",
            "\n",
            "Rule: 415.0 -> 27.0\n",
            "Support: 0.1\n",
            "Confidence: 0.5555555555555556\n",
            "Lift: 5.555555555555555\n",
            "\n",
            "Rule: 319.0 -> 411.0\n",
            "Support: 0.12\n",
            "Confidence: 0.6666666666666666\n",
            "Lift: 5.555555555555555\n",
            "\n",
            "Rule: 319.0 -> 415.0\n",
            "Support: 0.12\n",
            "Confidence: 0.6666666666666666\n",
            "Lift: 5.555555555555555\n",
            "\n",
            "Rule: 415.0 -> 411.0\n",
            "Support: 0.12\n",
            "Confidence: 0.6666666666666666\n",
            "Lift: 5.555555555555555\n",
            "\n",
            "Rule: 319.0 -> 415.0\n",
            "Support: 0.12\n",
            "Confidence: 0.6666666666666666\n",
            "Lift: 5.555555555555555\n",
            "\n",
            "Rule: 319.0 -> 27.0\n",
            "Support: 0.1\n",
            "Confidence: 0.7142857142857143\n",
            "Lift: 5.9523809523809526\n",
            "\n",
            "Rule: 415.0 -> 319.0\n",
            "Support: 0.1\n",
            "Confidence: 0.7142857142857143\n",
            "Lift: 5.9523809523809526\n",
            "\n",
            "Rule: 415.0 -> 27.0\n",
            "Support: 0.1\n",
            "Confidence: 0.7142857142857143\n",
            "Lift: 5.9523809523809526\n",
            "\n",
            "Rule: 415.0 -> 319.0\n",
            "Support: 0.1\n",
            "Confidence: 0.7142857142857143\n",
            "Lift: 5.9523809523809526\n",
            "\n",
            "Rule: 319.0 -> 415.0\n",
            "Support: 0.12\n",
            "Confidence: 0.75\n",
            "Lift: 6.25\n",
            "\n",
            "Rule: 104.0 -> 131.0\n",
            "Support: 0.14\n",
            "Confidence: 0.5384615384615385\n",
            "Lift: 3.365384615384616\n",
            "\n",
            "Rule: 411.0 -> 296.0\n",
            "Support: 0.1\n",
            "Confidence: 0.5555555555555556\n",
            "Lift: 5.555555555555555\n",
            "\n",
            "Rule: 415.0 -> 296.0\n",
            "Support: 0.1\n",
            "Confidence: 0.5555555555555556\n",
            "Lift: 5.555555555555555\n",
            "\n",
            "Rule: 415.0 -> 411.0\n",
            "Support: 0.1\n",
            "Confidence: 0.5555555555555556\n",
            "Lift: 5.555555555555555\n",
            "\n",
            "Rule: 415.0 -> 411.0\n",
            "Support: 0.1\n",
            "Confidence: 0.5555555555555556\n",
            "Lift: 5.555555555555555\n",
            "\n",
            "Rule: 415.0 -> 411.0\n",
            "Support: 0.12\n",
            "Confidence: 0.6666666666666666\n",
            "Lift: 5.555555555555555\n",
            "\n",
            "Rule: 415.0 -> 411.0\n",
            "Support: 0.1\n",
            "Confidence: 0.7142857142857143\n",
            "Lift: 5.9523809523809526\n",
            "\n",
            "Rule: 411.0 -> 296.0\n",
            "Support: 0.1\n",
            "Confidence: 0.5555555555555556\n",
            "Lift: 5.555555555555555\n",
            "\n"
          ]
        }
      ]
    },
    {
      "cell_type": "code",
      "source": [
        "support=[]\n",
        "items=[]\n",
        "prcnt=[]\n",
        "antcnt=[]\n",
        "confidence=[]\n",
        "lift=[]\n",
        "for i in assoc_results:\n",
        "    support.append(i.support)\n",
        "    items.append(i.items)\n",
        "    prcnt.append(i.ordered_statistics[0][1])\n",
        "    antcnt.append(i.ordered_statistics[0][0])\n",
        "    confidence.append(i.ordered_statistics[0][2])\n",
        "    lift.append(i.ordered_statistics[0][3])"
      ],
      "metadata": {
        "id": "ty6MOTq_bSkX"
      },
      "execution_count": null,
      "outputs": []
    },
    {
      "cell_type": "code",
      "source": [
        "data=pd.DataFrame({'Items':items,'Antecedent':antcnt,'Precedent':prcnt,'Support':support,\n",
        "                  'Confidence':confidence,'Lift':lift})"
      ],
      "metadata": {
        "id": "bRIKhZp_bnNA"
      },
      "execution_count": null,
      "outputs": []
    },
    {
      "cell_type": "code",
      "source": [
        "data"
      ],
      "metadata": {
        "colab": {
          "base_uri": "https://localhost:8080/",
          "height": 424
        },
        "id": "eu4GXGJBbxfd",
        "outputId": "09b1f6b8-0074-4be3-cf67-1d8b386e6653"
      },
      "execution_count": null,
      "outputs": [
        {
          "output_type": "execute_result",
          "data": {
            "text/html": [
              "<div>\n",
              "<style scoped>\n",
              "    .dataframe tbody tr th:only-of-type {\n",
              "        vertical-align: middle;\n",
              "    }\n",
              "\n",
              "    .dataframe tbody tr th {\n",
              "        vertical-align: top;\n",
              "    }\n",
              "\n",
              "    .dataframe thead th {\n",
              "        text-align: right;\n",
              "    }\n",
              "</style>\n",
              "<table border=\"1\" class=\"dataframe\">\n",
              "  <thead>\n",
              "    <tr style=\"text-align: right;\">\n",
              "      <th></th>\n",
              "      <th>Items</th>\n",
              "      <th>Antecedent</th>\n",
              "      <th>Precedent</th>\n",
              "      <th>Support</th>\n",
              "      <th>Confidence</th>\n",
              "      <th>Lift</th>\n",
              "    </tr>\n",
              "  </thead>\n",
              "  <tbody>\n",
              "    <tr>\n",
              "      <th>0</th>\n",
              "      <td>(131.0, 104.0)</td>\n",
              "      <td>(104.0)</td>\n",
              "      <td>(131.0)</td>\n",
              "      <td>0.20</td>\n",
              "      <td>0.769231</td>\n",
              "      <td>3.496503</td>\n",
              "    </tr>\n",
              "    <tr>\n",
              "      <th>1</th>\n",
              "      <td>(104.0, 443.0)</td>\n",
              "      <td>(104.0)</td>\n",
              "      <td>(443.0)</td>\n",
              "      <td>0.22</td>\n",
              "      <td>0.846154</td>\n",
              "      <td>3.254438</td>\n",
              "    </tr>\n",
              "    <tr>\n",
              "      <th>2</th>\n",
              "      <td>(489.0, 104.0)</td>\n",
              "      <td>(104.0)</td>\n",
              "      <td>(489.0)</td>\n",
              "      <td>0.16</td>\n",
              "      <td>0.615385</td>\n",
              "      <td>3.076923</td>\n",
              "    </tr>\n",
              "    <tr>\n",
              "      <th>3</th>\n",
              "      <td>(280.0, 127.0)</td>\n",
              "      <td>(127.0)</td>\n",
              "      <td>(280.0)</td>\n",
              "      <td>0.14</td>\n",
              "      <td>1.000000</td>\n",
              "      <td>4.166667</td>\n",
              "    </tr>\n",
              "    <tr>\n",
              "      <th>4</th>\n",
              "      <td>(289.0, 128.0)</td>\n",
              "      <td>(128.0)</td>\n",
              "      <td>(289.0)</td>\n",
              "      <td>0.12</td>\n",
              "      <td>1.000000</td>\n",
              "      <td>8.333333</td>\n",
              "    </tr>\n",
              "    <tr>\n",
              "      <th>...</th>\n",
              "      <td>...</td>\n",
              "      <td>...</td>\n",
              "      <td>...</td>\n",
              "      <td>...</td>\n",
              "      <td>...</td>\n",
              "      <td>...</td>\n",
              "    </tr>\n",
              "    <tr>\n",
              "      <th>93</th>\n",
              "      <td>(415.0, 411.0, 296.0, 27.0, 175.0)</td>\n",
              "      <td>(175.0)</td>\n",
              "      <td>(27.0, 411.0, 415.0, 296.0)</td>\n",
              "      <td>0.10</td>\n",
              "      <td>0.555556</td>\n",
              "      <td>5.555556</td>\n",
              "    </tr>\n",
              "    <tr>\n",
              "      <th>94</th>\n",
              "      <td>(415.0, 411.0, 27.0, 175.0, 319.0)</td>\n",
              "      <td>(175.0)</td>\n",
              "      <td>(319.0, 27.0, 411.0, 415.0)</td>\n",
              "      <td>0.10</td>\n",
              "      <td>0.555556</td>\n",
              "      <td>5.555556</td>\n",
              "    </tr>\n",
              "    <tr>\n",
              "      <th>95</th>\n",
              "      <td>(415.0, 411.0, 296.0, 175.0, 319.0)</td>\n",
              "      <td>(175.0)</td>\n",
              "      <td>(319.0, 411.0, 415.0, 296.0)</td>\n",
              "      <td>0.12</td>\n",
              "      <td>0.666667</td>\n",
              "      <td>5.555556</td>\n",
              "    </tr>\n",
              "    <tr>\n",
              "      <th>96</th>\n",
              "      <td>(415.0, 411.0, 296.0, 27.0, 319.0)</td>\n",
              "      <td>(27.0)</td>\n",
              "      <td>(319.0, 411.0, 415.0, 296.0)</td>\n",
              "      <td>0.10</td>\n",
              "      <td>0.714286</td>\n",
              "      <td>5.952381</td>\n",
              "    </tr>\n",
              "    <tr>\n",
              "      <th>97</th>\n",
              "      <td>(411.0, 296.0, 415.0, 27.0, 175.0, 319.0)</td>\n",
              "      <td>(175.0)</td>\n",
              "      <td>(415.0, 411.0, 296.0, 27.0, 319.0)</td>\n",
              "      <td>0.10</td>\n",
              "      <td>0.555556</td>\n",
              "      <td>5.555556</td>\n",
              "    </tr>\n",
              "  </tbody>\n",
              "</table>\n",
              "<p>98 rows × 6 columns</p>\n",
              "</div>"
            ],
            "text/plain": [
              "                                        Items Antecedent  ... Confidence      Lift\n",
              "0                              (131.0, 104.0)    (104.0)  ...   0.769231  3.496503\n",
              "1                              (104.0, 443.0)    (104.0)  ...   0.846154  3.254438\n",
              "2                              (489.0, 104.0)    (104.0)  ...   0.615385  3.076923\n",
              "3                              (280.0, 127.0)    (127.0)  ...   1.000000  4.166667\n",
              "4                              (289.0, 128.0)    (128.0)  ...   1.000000  8.333333\n",
              "..                                        ...        ...  ...        ...       ...\n",
              "93         (415.0, 411.0, 296.0, 27.0, 175.0)    (175.0)  ...   0.555556  5.555556\n",
              "94         (415.0, 411.0, 27.0, 175.0, 319.0)    (175.0)  ...   0.555556  5.555556\n",
              "95        (415.0, 411.0, 296.0, 175.0, 319.0)    (175.0)  ...   0.666667  5.555556\n",
              "96         (415.0, 411.0, 296.0, 27.0, 319.0)     (27.0)  ...   0.714286  5.952381\n",
              "97  (411.0, 296.0, 415.0, 27.0, 175.0, 319.0)    (175.0)  ...   0.555556  5.555556\n",
              "\n",
              "[98 rows x 6 columns]"
            ]
          },
          "metadata": {},
          "execution_count": 68
        }
      ]
    },
    {
      "cell_type": "code",
      "source": [
        " # (b)\n",
        "data.sort_values(by='Lift',axis = 0,ascending = False,inplace=True)\n",
        "data.head()"
      ],
      "metadata": {
        "colab": {
          "base_uri": "https://localhost:8080/",
          "height": 206
        },
        "id": "hqsQWthPb038",
        "outputId": "6c4ab34a-d813-4129-fe7a-8e62f375b72f"
      },
      "execution_count": null,
      "outputs": [
        {
          "output_type": "execute_result",
          "data": {
            "text/html": [
              "<div>\n",
              "<style scoped>\n",
              "    .dataframe tbody tr th:only-of-type {\n",
              "        vertical-align: middle;\n",
              "    }\n",
              "\n",
              "    .dataframe tbody tr th {\n",
              "        vertical-align: top;\n",
              "    }\n",
              "\n",
              "    .dataframe thead th {\n",
              "        text-align: right;\n",
              "    }\n",
              "</style>\n",
              "<table border=\"1\" class=\"dataframe\">\n",
              "  <thead>\n",
              "    <tr style=\"text-align: right;\">\n",
              "      <th></th>\n",
              "      <th>Items</th>\n",
              "      <th>Antecedent</th>\n",
              "      <th>Precedent</th>\n",
              "      <th>Support</th>\n",
              "      <th>Confidence</th>\n",
              "      <th>Lift</th>\n",
              "    </tr>\n",
              "  </thead>\n",
              "  <tbody>\n",
              "    <tr>\n",
              "      <th>73</th>\n",
              "      <td>(471.0, 301.0, 289.0, 128.0)</td>\n",
              "      <td>(128.0)</td>\n",
              "      <td>(471.0, 289.0, 301.0)</td>\n",
              "      <td>0.10</td>\n",
              "      <td>0.833333</td>\n",
              "      <td>8.333333</td>\n",
              "    </tr>\n",
              "    <tr>\n",
              "      <th>4</th>\n",
              "      <td>(289.0, 128.0)</td>\n",
              "      <td>(128.0)</td>\n",
              "      <td>(289.0)</td>\n",
              "      <td>0.12</td>\n",
              "      <td>1.000000</td>\n",
              "      <td>8.333333</td>\n",
              "    </tr>\n",
              "    <tr>\n",
              "      <th>64</th>\n",
              "      <td>(471.0, 301.0, 289.0)</td>\n",
              "      <td>(289.0)</td>\n",
              "      <td>(471.0, 301.0)</td>\n",
              "      <td>0.10</td>\n",
              "      <td>0.833333</td>\n",
              "      <td>8.333333</td>\n",
              "    </tr>\n",
              "    <tr>\n",
              "      <th>41</th>\n",
              "      <td>(471.0, 289.0, 128.0)</td>\n",
              "      <td>(128.0)</td>\n",
              "      <td>(471.0, 289.0)</td>\n",
              "      <td>0.10</td>\n",
              "      <td>0.833333</td>\n",
              "      <td>8.333333</td>\n",
              "    </tr>\n",
              "    <tr>\n",
              "      <th>40</th>\n",
              "      <td>(301.0, 289.0, 128.0)</td>\n",
              "      <td>(128.0)</td>\n",
              "      <td>(301.0, 289.0)</td>\n",
              "      <td>0.12</td>\n",
              "      <td>1.000000</td>\n",
              "      <td>8.333333</td>\n",
              "    </tr>\n",
              "  </tbody>\n",
              "</table>\n",
              "</div>"
            ],
            "text/plain": [
              "                           Items Antecedent  ... Confidence      Lift\n",
              "73  (471.0, 301.0, 289.0, 128.0)    (128.0)  ...   0.833333  8.333333\n",
              "4                 (289.0, 128.0)    (128.0)  ...   1.000000  8.333333\n",
              "64         (471.0, 301.0, 289.0)    (289.0)  ...   0.833333  8.333333\n",
              "41         (471.0, 289.0, 128.0)    (128.0)  ...   0.833333  8.333333\n",
              "40         (301.0, 289.0, 128.0)    (128.0)  ...   1.000000  8.333333\n",
              "\n",
              "[5 rows x 6 columns]"
            ]
          },
          "metadata": {},
          "execution_count": 69
        }
      ]
    },
    {
      "cell_type": "code",
      "source": [],
      "metadata": {
        "id": "ZFbTvSx6c3lg"
      },
      "execution_count": null,
      "outputs": []
    }
  ],
  "metadata": {
    "kernelspec": {
      "display_name": "Python 3",
      "language": "python",
      "name": "python3"
    },
    "language_info": {
      "codemirror_mode": {
        "name": "ipython",
        "version": 3
      },
      "file_extension": ".py",
      "mimetype": "text/x-python",
      "name": "python",
      "nbconvert_exporter": "python",
      "pygments_lexer": "ipython3",
      "version": "3.8.3"
    },
    "colab": {
      "provenance": []
    }
  },
  "nbformat": 4,
  "nbformat_minor": 0
}